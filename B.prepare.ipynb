{
 "cells": [
  {
   "cell_type": "markdown",
   "id": "09637b23-f22f-46b8-9651-876704d2ba7b",
   "metadata": {},
   "source": [
    "# Preapre: "
   ]
  },
  {
   "cell_type": "code",
   "execution_count": 1,
   "id": "c9d79a72-250a-49a5-9aee-a9c95e5c5abc",
   "metadata": {
    "tags": []
   },
   "outputs": [],
   "source": [
    "# imports: \n",
    "import pandas as pd\n",
    "import numpy as np"
   ]
  },
  {
   "cell_type": "code",
   "execution_count": 2,
   "id": "8e213916-6722-4bea-aac8-68f9c1aadb5e",
   "metadata": {
    "tags": []
   },
   "outputs": [],
   "source": [
    "# get the data frame\n",
    "df = pd.read_csv('water_potability.csv')"
   ]
  },
  {
   "cell_type": "code",
   "execution_count": 3,
   "id": "3ae492bb-cc93-4119-a103-074978b0f651",
   "metadata": {
    "tags": []
   },
   "outputs": [
    {
     "name": "stdout",
     "output_type": "stream",
     "text": [
      "<class 'pandas.core.frame.DataFrame'>\n",
      "RangeIndex: 3276 entries, 0 to 3275\n",
      "Data columns (total 10 columns):\n",
      " #   Column           Non-Null Count  Dtype  \n",
      "---  ------           --------------  -----  \n",
      " 0   ph               2785 non-null   float64\n",
      " 1   Hardness         3276 non-null   float64\n",
      " 2   Solids           3276 non-null   float64\n",
      " 3   Chloramines      3276 non-null   float64\n",
      " 4   Sulfate          2495 non-null   float64\n",
      " 5   Conductivity     3276 non-null   float64\n",
      " 6   Organic_carbon   3276 non-null   float64\n",
      " 7   Trihalomethanes  3114 non-null   float64\n",
      " 8   Turbidity        3276 non-null   float64\n",
      " 9   Potability       3276 non-null   int64  \n",
      "dtypes: float64(9), int64(1)\n",
      "memory usage: 256.1 KB\n"
     ]
    }
   ],
   "source": [
    "#look at the data: \n",
    "df.info()"
   ]
  },
  {
   "cell_type": "markdown",
   "id": "600b3e52-d0c0-4c18-ad45-bdd9ef948431",
   "metadata": {},
   "source": [
    "Inital Takeaways: \n",
    "- Need to correct the names to be lower case\n",
    "- There are null values in the data\n",
    "- Data types are are all the same"
   ]
  },
  {
   "cell_type": "code",
   "execution_count": 4,
   "id": "04689503-cf14-4b84-8850-72f3305c5536",
   "metadata": {
    "tags": []
   },
   "outputs": [
    {
     "data": {
      "text/plain": [
       "Sulfate            781\n",
       "ph                 491\n",
       "Trihalomethanes    162\n",
       "Hardness             0\n",
       "Solids               0\n",
       "Chloramines          0\n",
       "Conductivity         0\n",
       "Organic_carbon       0\n",
       "Turbidity            0\n",
       "Potability           0\n",
       "dtype: int64"
      ]
     },
     "execution_count": 4,
     "metadata": {},
     "output_type": "execute_result"
    }
   ],
   "source": [
    "# How many null are there in the data? \n",
    "df.isnull().sum().sort_values(ascending = False)"
   ]
  },
  {
   "cell_type": "code",
   "execution_count": 5,
   "id": "72a3fe12-1f4e-4e3f-b7f9-c9fdadd45ca9",
   "metadata": {
    "tags": []
   },
   "outputs": [],
   "source": [
    "# function to create a datatable of nulls and the percentage that is missing\n",
    "def nulls_by_col(df):\n",
    "    num_missing = df.isnull().sum()\n",
    "    rows = df.shape[0]\n",
    "    pct_missing = (num_missing / rows) \n",
    "    cols_missing = pd.DataFrame({'number_missing_rows': num_missing, 'percent_rows_missing': pct_missing})\n",
    "    return cols_missing"
   ]
  },
  {
   "cell_type": "code",
   "execution_count": 6,
   "id": "0a0d17f3-79e8-4f85-8b84-86996f4b51ba",
   "metadata": {
    "tags": []
   },
   "outputs": [
    {
     "data": {
      "text/html": [
       "<div>\n",
       "<style scoped>\n",
       "    .dataframe tbody tr th:only-of-type {\n",
       "        vertical-align: middle;\n",
       "    }\n",
       "\n",
       "    .dataframe tbody tr th {\n",
       "        vertical-align: top;\n",
       "    }\n",
       "\n",
       "    .dataframe thead th {\n",
       "        text-align: right;\n",
       "    }\n",
       "</style>\n",
       "<table border=\"1\" class=\"dataframe\">\n",
       "  <thead>\n",
       "    <tr style=\"text-align: right;\">\n",
       "      <th></th>\n",
       "      <th>number_missing_rows</th>\n",
       "      <th>percent_rows_missing</th>\n",
       "    </tr>\n",
       "  </thead>\n",
       "  <tbody>\n",
       "    <tr>\n",
       "      <th>Sulfate</th>\n",
       "      <td>781</td>\n",
       "      <td>0.238400</td>\n",
       "    </tr>\n",
       "    <tr>\n",
       "      <th>ph</th>\n",
       "      <td>491</td>\n",
       "      <td>0.149878</td>\n",
       "    </tr>\n",
       "    <tr>\n",
       "      <th>Trihalomethanes</th>\n",
       "      <td>162</td>\n",
       "      <td>0.049451</td>\n",
       "    </tr>\n",
       "    <tr>\n",
       "      <th>Hardness</th>\n",
       "      <td>0</td>\n",
       "      <td>0.000000</td>\n",
       "    </tr>\n",
       "    <tr>\n",
       "      <th>Solids</th>\n",
       "      <td>0</td>\n",
       "      <td>0.000000</td>\n",
       "    </tr>\n",
       "    <tr>\n",
       "      <th>Chloramines</th>\n",
       "      <td>0</td>\n",
       "      <td>0.000000</td>\n",
       "    </tr>\n",
       "    <tr>\n",
       "      <th>Conductivity</th>\n",
       "      <td>0</td>\n",
       "      <td>0.000000</td>\n",
       "    </tr>\n",
       "    <tr>\n",
       "      <th>Organic_carbon</th>\n",
       "      <td>0</td>\n",
       "      <td>0.000000</td>\n",
       "    </tr>\n",
       "    <tr>\n",
       "      <th>Turbidity</th>\n",
       "      <td>0</td>\n",
       "      <td>0.000000</td>\n",
       "    </tr>\n",
       "    <tr>\n",
       "      <th>Potability</th>\n",
       "      <td>0</td>\n",
       "      <td>0.000000</td>\n",
       "    </tr>\n",
       "  </tbody>\n",
       "</table>\n",
       "</div>"
      ],
      "text/plain": [
       "                 number_missing_rows  percent_rows_missing\n",
       "Sulfate                          781              0.238400\n",
       "ph                               491              0.149878\n",
       "Trihalomethanes                  162              0.049451\n",
       "Hardness                           0              0.000000\n",
       "Solids                             0              0.000000\n",
       "Chloramines                        0              0.000000\n",
       "Conductivity                       0              0.000000\n",
       "Organic_carbon                     0              0.000000\n",
       "Turbidity                          0              0.000000\n",
       "Potability                         0              0.000000"
      ]
     },
     "execution_count": 6,
     "metadata": {},
     "output_type": "execute_result"
    }
   ],
   "source": [
    "# how big of a percent is this? \n",
    "nulls = nulls_by_col(df)\n",
    "nulls.sort_values(by = 'percent_rows_missing', ascending = False)"
   ]
  },
  {
   "cell_type": "markdown",
   "id": "e68ca6bc-69bb-4a63-8796-e6a83aaf7405",
   "metadata": {},
   "source": [
    "For this first iteration, I will drop the columns. It is not scientifically accurate to impute the values beacuse I do not have a baseline average based on the body of water nor is it ethical to impute values that may impact the outcome of water quality that could impact health. <br>\n",
    "I dont want to drop the entire column of sulfates either because it could be an important factor to water potabilty"
   ]
  },
  {
   "cell_type": "code",
   "execution_count": 7,
   "id": "3d0adbf2-78ca-4340-8ea4-22322066c497",
   "metadata": {
    "tags": []
   },
   "outputs": [],
   "source": [
    "# drop null values\n",
    "df = df.dropna()"
   ]
  },
  {
   "cell_type": "code",
   "execution_count": 8,
   "id": "2ee015e4-78be-4177-80e4-7f52beb81050",
   "metadata": {
    "tags": []
   },
   "outputs": [
    {
     "name": "stdout",
     "output_type": "stream",
     "text": [
      "<class 'pandas.core.frame.DataFrame'>\n",
      "Int64Index: 2011 entries, 3 to 3271\n",
      "Data columns (total 10 columns):\n",
      " #   Column           Non-Null Count  Dtype  \n",
      "---  ------           --------------  -----  \n",
      " 0   ph               2011 non-null   float64\n",
      " 1   Hardness         2011 non-null   float64\n",
      " 2   Solids           2011 non-null   float64\n",
      " 3   Chloramines      2011 non-null   float64\n",
      " 4   Sulfate          2011 non-null   float64\n",
      " 5   Conductivity     2011 non-null   float64\n",
      " 6   Organic_carbon   2011 non-null   float64\n",
      " 7   Trihalomethanes  2011 non-null   float64\n",
      " 8   Turbidity        2011 non-null   float64\n",
      " 9   Potability       2011 non-null   int64  \n",
      "dtypes: float64(9), int64(1)\n",
      "memory usage: 172.8 KB\n"
     ]
    }
   ],
   "source": [
    "# what does the new data frame look like?\n",
    "df.info()"
   ]
  },
  {
   "cell_type": "code",
   "execution_count": 9,
   "id": "8ae96133-4a32-43a1-98f2-98b693560b19",
   "metadata": {
    "tags": []
   },
   "outputs": [],
   "source": [
    "# lowercase the column names\n",
    "df.columns = df.columns.str.lower()"
   ]
  },
  {
   "cell_type": "code",
   "execution_count": 10,
   "id": "9bf405cd-5077-4ad8-9753-c5da26ebddf4",
   "metadata": {
    "tags": []
   },
   "outputs": [
    {
     "name": "stdout",
     "output_type": "stream",
     "text": [
      "<class 'pandas.core.frame.DataFrame'>\n",
      "Int64Index: 2011 entries, 3 to 3271\n",
      "Data columns (total 10 columns):\n",
      " #   Column           Non-Null Count  Dtype  \n",
      "---  ------           --------------  -----  \n",
      " 0   ph               2011 non-null   float64\n",
      " 1   hardness         2011 non-null   float64\n",
      " 2   solids           2011 non-null   float64\n",
      " 3   chloramines      2011 non-null   float64\n",
      " 4   sulfate          2011 non-null   float64\n",
      " 5   conductivity     2011 non-null   float64\n",
      " 6   organic_carbon   2011 non-null   float64\n",
      " 7   trihalomethanes  2011 non-null   float64\n",
      " 8   turbidity        2011 non-null   float64\n",
      " 9   potability       2011 non-null   int64  \n",
      "dtypes: float64(9), int64(1)\n",
      "memory usage: 172.8 KB\n"
     ]
    }
   ],
   "source": [
    "# look at the column names: \n",
    "df.info()"
   ]
  },
  {
   "cell_type": "code",
   "execution_count": 11,
   "id": "a3ef993f-eaaf-4fe5-aa2e-f6fe69f03299",
   "metadata": {
    "tags": []
   },
   "outputs": [
    {
     "data": {
      "text/html": [
       "<div>\n",
       "<style scoped>\n",
       "    .dataframe tbody tr th:only-of-type {\n",
       "        vertical-align: middle;\n",
       "    }\n",
       "\n",
       "    .dataframe tbody tr th {\n",
       "        vertical-align: top;\n",
       "    }\n",
       "\n",
       "    .dataframe thead th {\n",
       "        text-align: right;\n",
       "    }\n",
       "</style>\n",
       "<table border=\"1\" class=\"dataframe\">\n",
       "  <thead>\n",
       "    <tr style=\"text-align: right;\">\n",
       "      <th></th>\n",
       "      <th>ph</th>\n",
       "      <th>hardness</th>\n",
       "      <th>solids</th>\n",
       "      <th>chloramines</th>\n",
       "      <th>sulfate</th>\n",
       "      <th>conductivity</th>\n",
       "      <th>organic_carbon</th>\n",
       "      <th>trihalomethanes</th>\n",
       "      <th>turbidity</th>\n",
       "      <th>potability</th>\n",
       "    </tr>\n",
       "  </thead>\n",
       "  <tbody>\n",
       "    <tr>\n",
       "      <th>3</th>\n",
       "      <td>8.316766</td>\n",
       "      <td>214.373394</td>\n",
       "      <td>22018.417441</td>\n",
       "      <td>8.059332</td>\n",
       "      <td>356.886136</td>\n",
       "      <td>363.266516</td>\n",
       "      <td>18.436524</td>\n",
       "      <td>100.341674</td>\n",
       "      <td>4.628771</td>\n",
       "      <td>0</td>\n",
       "    </tr>\n",
       "    <tr>\n",
       "      <th>4</th>\n",
       "      <td>9.092223</td>\n",
       "      <td>181.101509</td>\n",
       "      <td>17978.986339</td>\n",
       "      <td>6.546600</td>\n",
       "      <td>310.135738</td>\n",
       "      <td>398.410813</td>\n",
       "      <td>11.558279</td>\n",
       "      <td>31.997993</td>\n",
       "      <td>4.075075</td>\n",
       "      <td>0</td>\n",
       "    </tr>\n",
       "    <tr>\n",
       "      <th>5</th>\n",
       "      <td>5.584087</td>\n",
       "      <td>188.313324</td>\n",
       "      <td>28748.687739</td>\n",
       "      <td>7.544869</td>\n",
       "      <td>326.678363</td>\n",
       "      <td>280.467916</td>\n",
       "      <td>8.399735</td>\n",
       "      <td>54.917862</td>\n",
       "      <td>2.559708</td>\n",
       "      <td>0</td>\n",
       "    </tr>\n",
       "    <tr>\n",
       "      <th>6</th>\n",
       "      <td>10.223862</td>\n",
       "      <td>248.071735</td>\n",
       "      <td>28749.716544</td>\n",
       "      <td>7.513408</td>\n",
       "      <td>393.663396</td>\n",
       "      <td>283.651634</td>\n",
       "      <td>13.789695</td>\n",
       "      <td>84.603556</td>\n",
       "      <td>2.672989</td>\n",
       "      <td>0</td>\n",
       "    </tr>\n",
       "    <tr>\n",
       "      <th>7</th>\n",
       "      <td>8.635849</td>\n",
       "      <td>203.361523</td>\n",
       "      <td>13672.091764</td>\n",
       "      <td>4.563009</td>\n",
       "      <td>303.309771</td>\n",
       "      <td>474.607645</td>\n",
       "      <td>12.363817</td>\n",
       "      <td>62.798309</td>\n",
       "      <td>4.401425</td>\n",
       "      <td>0</td>\n",
       "    </tr>\n",
       "  </tbody>\n",
       "</table>\n",
       "</div>"
      ],
      "text/plain": [
       "          ph    hardness        solids  chloramines     sulfate  conductivity  \\\n",
       "3   8.316766  214.373394  22018.417441     8.059332  356.886136    363.266516   \n",
       "4   9.092223  181.101509  17978.986339     6.546600  310.135738    398.410813   \n",
       "5   5.584087  188.313324  28748.687739     7.544869  326.678363    280.467916   \n",
       "6  10.223862  248.071735  28749.716544     7.513408  393.663396    283.651634   \n",
       "7   8.635849  203.361523  13672.091764     4.563009  303.309771    474.607645   \n",
       "\n",
       "   organic_carbon  trihalomethanes  turbidity  potability  \n",
       "3       18.436524       100.341674   4.628771           0  \n",
       "4       11.558279        31.997993   4.075075           0  \n",
       "5        8.399735        54.917862   2.559708           0  \n",
       "6       13.789695        84.603556   2.672989           0  \n",
       "7       12.363817        62.798309   4.401425           0  "
      ]
     },
     "execution_count": 11,
     "metadata": {},
     "output_type": "execute_result"
    }
   ],
   "source": [
    "df.head()"
   ]
  },
  {
   "cell_type": "code",
   "execution_count": 12,
   "id": "10f59263-fabd-4e3a-95af-a8bde21f3a93",
   "metadata": {
    "tags": []
   },
   "outputs": [],
   "source": [
    "# i want to rouond the data to only be 2 decimal points: \n",
    "df = df.round(2)"
   ]
  },
  {
   "cell_type": "code",
   "execution_count": 13,
   "id": "cba8e598-6e55-4f75-b9a8-0864571bc81d",
   "metadata": {
    "tags": []
   },
   "outputs": [
    {
     "data": {
      "text/html": [
       "<div>\n",
       "<style scoped>\n",
       "    .dataframe tbody tr th:only-of-type {\n",
       "        vertical-align: middle;\n",
       "    }\n",
       "\n",
       "    .dataframe tbody tr th {\n",
       "        vertical-align: top;\n",
       "    }\n",
       "\n",
       "    .dataframe thead th {\n",
       "        text-align: right;\n",
       "    }\n",
       "</style>\n",
       "<table border=\"1\" class=\"dataframe\">\n",
       "  <thead>\n",
       "    <tr style=\"text-align: right;\">\n",
       "      <th></th>\n",
       "      <th>ph</th>\n",
       "      <th>hardness</th>\n",
       "      <th>solids</th>\n",
       "      <th>chloramines</th>\n",
       "      <th>sulfate</th>\n",
       "      <th>conductivity</th>\n",
       "      <th>organic_carbon</th>\n",
       "      <th>trihalomethanes</th>\n",
       "      <th>turbidity</th>\n",
       "      <th>potability</th>\n",
       "    </tr>\n",
       "  </thead>\n",
       "  <tbody>\n",
       "    <tr>\n",
       "      <th>3</th>\n",
       "      <td>8.32</td>\n",
       "      <td>214.37</td>\n",
       "      <td>22018.42</td>\n",
       "      <td>8.06</td>\n",
       "      <td>356.89</td>\n",
       "      <td>363.27</td>\n",
       "      <td>18.44</td>\n",
       "      <td>100.34</td>\n",
       "      <td>4.63</td>\n",
       "      <td>0</td>\n",
       "    </tr>\n",
       "    <tr>\n",
       "      <th>4</th>\n",
       "      <td>9.09</td>\n",
       "      <td>181.10</td>\n",
       "      <td>17978.99</td>\n",
       "      <td>6.55</td>\n",
       "      <td>310.14</td>\n",
       "      <td>398.41</td>\n",
       "      <td>11.56</td>\n",
       "      <td>32.00</td>\n",
       "      <td>4.08</td>\n",
       "      <td>0</td>\n",
       "    </tr>\n",
       "    <tr>\n",
       "      <th>5</th>\n",
       "      <td>5.58</td>\n",
       "      <td>188.31</td>\n",
       "      <td>28748.69</td>\n",
       "      <td>7.54</td>\n",
       "      <td>326.68</td>\n",
       "      <td>280.47</td>\n",
       "      <td>8.40</td>\n",
       "      <td>54.92</td>\n",
       "      <td>2.56</td>\n",
       "      <td>0</td>\n",
       "    </tr>\n",
       "    <tr>\n",
       "      <th>6</th>\n",
       "      <td>10.22</td>\n",
       "      <td>248.07</td>\n",
       "      <td>28749.72</td>\n",
       "      <td>7.51</td>\n",
       "      <td>393.66</td>\n",
       "      <td>283.65</td>\n",
       "      <td>13.79</td>\n",
       "      <td>84.60</td>\n",
       "      <td>2.67</td>\n",
       "      <td>0</td>\n",
       "    </tr>\n",
       "    <tr>\n",
       "      <th>7</th>\n",
       "      <td>8.64</td>\n",
       "      <td>203.36</td>\n",
       "      <td>13672.09</td>\n",
       "      <td>4.56</td>\n",
       "      <td>303.31</td>\n",
       "      <td>474.61</td>\n",
       "      <td>12.36</td>\n",
       "      <td>62.80</td>\n",
       "      <td>4.40</td>\n",
       "      <td>0</td>\n",
       "    </tr>\n",
       "  </tbody>\n",
       "</table>\n",
       "</div>"
      ],
      "text/plain": [
       "      ph  hardness    solids  chloramines  sulfate  conductivity  \\\n",
       "3   8.32    214.37  22018.42         8.06   356.89        363.27   \n",
       "4   9.09    181.10  17978.99         6.55   310.14        398.41   \n",
       "5   5.58    188.31  28748.69         7.54   326.68        280.47   \n",
       "6  10.22    248.07  28749.72         7.51   393.66        283.65   \n",
       "7   8.64    203.36  13672.09         4.56   303.31        474.61   \n",
       "\n",
       "   organic_carbon  trihalomethanes  turbidity  potability  \n",
       "3           18.44           100.34       4.63           0  \n",
       "4           11.56            32.00       4.08           0  \n",
       "5            8.40            54.92       2.56           0  \n",
       "6           13.79            84.60       2.67           0  \n",
       "7           12.36            62.80       4.40           0  "
      ]
     },
     "execution_count": 13,
     "metadata": {},
     "output_type": "execute_result"
    }
   ],
   "source": [
    "df.head()"
   ]
  },
  {
   "cell_type": "code",
   "execution_count": 14,
   "id": "4bbb8bb4-441d-4d16-ae45-e509dc254cc1",
   "metadata": {
    "tags": []
   },
   "outputs": [],
   "source": [
    "# data looks good so lets make a function: \n",
    "def prep_water(df): \n",
    "    '''\n",
    "    This function should take in the water potability df, it will: \n",
    "    - Drop null columns\n",
    "    - Rename the columns to have all lowercase\n",
    "    '''\n",
    "    df = df.dropna()\n",
    "    df.columns = df.columns.str.lower()\n",
    "    df = df.round(2)\n",
    "    return df"
   ]
  },
  {
   "cell_type": "code",
   "execution_count": 15,
   "id": "91638c8a-7f0a-4cf2-9c4c-64194a011e62",
   "metadata": {
    "tags": []
   },
   "outputs": [
    {
     "name": "stdout",
     "output_type": "stream",
     "text": [
      "<class 'pandas.core.frame.DataFrame'>\n",
      "Int64Index: 2011 entries, 3 to 3271\n",
      "Data columns (total 10 columns):\n",
      " #   Column           Non-Null Count  Dtype  \n",
      "---  ------           --------------  -----  \n",
      " 0   ph               2011 non-null   float64\n",
      " 1   hardness         2011 non-null   float64\n",
      " 2   solids           2011 non-null   float64\n",
      " 3   chloramines      2011 non-null   float64\n",
      " 4   sulfate          2011 non-null   float64\n",
      " 5   conductivity     2011 non-null   float64\n",
      " 6   organic_carbon   2011 non-null   float64\n",
      " 7   trihalomethanes  2011 non-null   float64\n",
      " 8   turbidity        2011 non-null   float64\n",
      " 9   potability       2011 non-null   int64  \n",
      "dtypes: float64(9), int64(1)\n",
      "memory usage: 172.8 KB\n"
     ]
    }
   ],
   "source": [
    "#check that the function does what i want: \n",
    "df = prep_water(pd.read_csv('water_potability.csv'))\n",
    "df.info()"
   ]
  },
  {
   "cell_type": "markdown",
   "id": "45e543e0-9568-4288-84c9-66ce571310bd",
   "metadata": {},
   "source": [
    "# Creating Bins: "
   ]
  },
  {
   "cell_type": "code",
   "execution_count": 39,
   "id": "88d80452-fe27-4a5d-86b4-3dcd37c00226",
   "metadata": {
    "tags": []
   },
   "outputs": [],
   "source": [
    "df['solids_range'] = pd.cut(df.solids, [0, 300, 600, 900, 1200, 57000], \\\n",
    "                            labels=['excellent', 'good', 'fair', 'poor', 'unacceptable'])"
   ]
  },
  {
   "cell_type": "code",
   "execution_count": 38,
   "id": "9c63a8fe-0c3b-4aa2-a0af-bd78014842a3",
   "metadata": {
    "tags": []
   },
   "outputs": [
    {
     "data": {
      "text/plain": [
       "count     2011.000000\n",
       "mean     21917.441243\n",
       "std       8642.239802\n",
       "min        320.940000\n",
       "25%      15615.665000\n",
       "50%      20933.510000\n",
       "75%      27182.585000\n",
       "max      56488.670000\n",
       "Name: solids, dtype: float64"
      ]
     },
     "execution_count": 38,
     "metadata": {},
     "output_type": "execute_result"
    }
   ],
   "source": [
    "df.solids.describe()"
   ]
  },
  {
   "cell_type": "code",
   "execution_count": 36,
   "id": "68ba3a14-29e8-4641-b8e4-fb6d3cee7cbf",
   "metadata": {
    "tags": []
   },
   "outputs": [
    {
     "data": {
      "text/plain": [
       "unacceptable    18\n",
       "good             1\n",
       "poor             1\n",
       "excellent        0\n",
       "fair             0\n",
       "Name: solids_range, dtype: int64"
      ]
     },
     "execution_count": 36,
     "metadata": {},
     "output_type": "execute_result"
    }
   ],
   "source": [
    "df.solids_range.value_counts()"
   ]
  },
  {
   "cell_type": "code",
   "execution_count": 40,
   "id": "523a590d-01d3-4c19-a25f-c3ca3a2a6428",
   "metadata": {
    "tags": []
   },
   "outputs": [],
   "source": [
    "# bins for ph: \n",
    "df['ph_range'] = pd.cut(df.ph, [0,6.5,8.5,14], \\\n",
    "                           labels = ['acidic', 'safe', 'basic'])\n",
    "df['hardness_range'] = pd.cut(df.hardness, [0,17.1,60,120,180,372], \\\n",
    "                                 labels = ['soft', 'slightly_hard','moderately_hard','hard','very_hard'])\n",
    "df['solids_range'] = pd.cut(df.solids, [0,300,600,900,1200,57000], \\\n",
    "                               labels = ['excellent','good','fair','poor','unaceptable'])\n",
    "df['chloramines_range'] = pd.cut(df.chloramines, [0,4,14], \\\n",
    "                                labels = ['safe','high'])\n",
    "df['sulfate_range'] = pd.cut(df.sulfate, [0,250,482 ], \\\n",
    "                      labels = ['safe', 'high'])\n",
    "df['conductivity_rage'] = pd.cut(df.conductivity, [0,400,1000], \\\n",
    "                                labels = ['safe', 'high'])\n",
    "df['organic_car_range'] = pd.cut(df.organic_carbon, [0,3,30], \\\n",
    "                                labels = ['safe','high'])\n",
    "df['trihalomethanes_range'] = pd.cut(df.trihalomethanes, [0,80,125], \\\n",
    "                                    labels = ['safe', 'high'])\n",
    "df['turbidity_range'] = pd.cut(df.turbidity, [0,5.0, 7], \\\n",
    "                              labels = ['safe','high'])"
   ]
  },
  {
   "cell_type": "code",
   "execution_count": 42,
   "id": "8b93eaf0-d5c9-43be-8da0-b8dd414fed7a",
   "metadata": {
    "tags": []
   },
   "outputs": [
    {
     "data": {
      "text/html": [
       "<div>\n",
       "<style scoped>\n",
       "    .dataframe tbody tr th:only-of-type {\n",
       "        vertical-align: middle;\n",
       "    }\n",
       "\n",
       "    .dataframe tbody tr th {\n",
       "        vertical-align: top;\n",
       "    }\n",
       "\n",
       "    .dataframe thead th {\n",
       "        text-align: right;\n",
       "    }\n",
       "</style>\n",
       "<table border=\"1\" class=\"dataframe\">\n",
       "  <thead>\n",
       "    <tr style=\"text-align: right;\">\n",
       "      <th></th>\n",
       "      <th>ph</th>\n",
       "      <th>hardness</th>\n",
       "      <th>solids</th>\n",
       "      <th>chloramines</th>\n",
       "      <th>sulfate</th>\n",
       "      <th>conductivity</th>\n",
       "      <th>organic_carbon</th>\n",
       "      <th>trihalomethanes</th>\n",
       "      <th>turbidity</th>\n",
       "      <th>potability</th>\n",
       "      <th>solids_range</th>\n",
       "      <th>chloramines_range</th>\n",
       "      <th>ph_range</th>\n",
       "      <th>hardness_range</th>\n",
       "      <th>sulfate_range</th>\n",
       "      <th>conductivity_rage</th>\n",
       "      <th>organic_car_range</th>\n",
       "      <th>trihalomethanes_range</th>\n",
       "      <th>turbidity_range</th>\n",
       "    </tr>\n",
       "  </thead>\n",
       "  <tbody>\n",
       "    <tr>\n",
       "      <th>3</th>\n",
       "      <td>8.32</td>\n",
       "      <td>214.37</td>\n",
       "      <td>22018.42</td>\n",
       "      <td>8.06</td>\n",
       "      <td>356.89</td>\n",
       "      <td>363.27</td>\n",
       "      <td>18.44</td>\n",
       "      <td>100.34</td>\n",
       "      <td>4.63</td>\n",
       "      <td>0</td>\n",
       "      <td>unaceptable</td>\n",
       "      <td>high</td>\n",
       "      <td>safe</td>\n",
       "      <td>very_hard</td>\n",
       "      <td>high</td>\n",
       "      <td>safe</td>\n",
       "      <td>high</td>\n",
       "      <td>high</td>\n",
       "      <td>safe</td>\n",
       "    </tr>\n",
       "    <tr>\n",
       "      <th>4</th>\n",
       "      <td>9.09</td>\n",
       "      <td>181.10</td>\n",
       "      <td>17978.99</td>\n",
       "      <td>6.55</td>\n",
       "      <td>310.14</td>\n",
       "      <td>398.41</td>\n",
       "      <td>11.56</td>\n",
       "      <td>32.00</td>\n",
       "      <td>4.08</td>\n",
       "      <td>0</td>\n",
       "      <td>unaceptable</td>\n",
       "      <td>high</td>\n",
       "      <td>basic</td>\n",
       "      <td>very_hard</td>\n",
       "      <td>high</td>\n",
       "      <td>safe</td>\n",
       "      <td>high</td>\n",
       "      <td>safe</td>\n",
       "      <td>safe</td>\n",
       "    </tr>\n",
       "    <tr>\n",
       "      <th>5</th>\n",
       "      <td>5.58</td>\n",
       "      <td>188.31</td>\n",
       "      <td>28748.69</td>\n",
       "      <td>7.54</td>\n",
       "      <td>326.68</td>\n",
       "      <td>280.47</td>\n",
       "      <td>8.40</td>\n",
       "      <td>54.92</td>\n",
       "      <td>2.56</td>\n",
       "      <td>0</td>\n",
       "      <td>unaceptable</td>\n",
       "      <td>high</td>\n",
       "      <td>acidic</td>\n",
       "      <td>very_hard</td>\n",
       "      <td>high</td>\n",
       "      <td>safe</td>\n",
       "      <td>high</td>\n",
       "      <td>safe</td>\n",
       "      <td>safe</td>\n",
       "    </tr>\n",
       "    <tr>\n",
       "      <th>6</th>\n",
       "      <td>10.22</td>\n",
       "      <td>248.07</td>\n",
       "      <td>28749.72</td>\n",
       "      <td>7.51</td>\n",
       "      <td>393.66</td>\n",
       "      <td>283.65</td>\n",
       "      <td>13.79</td>\n",
       "      <td>84.60</td>\n",
       "      <td>2.67</td>\n",
       "      <td>0</td>\n",
       "      <td>unaceptable</td>\n",
       "      <td>high</td>\n",
       "      <td>basic</td>\n",
       "      <td>very_hard</td>\n",
       "      <td>high</td>\n",
       "      <td>safe</td>\n",
       "      <td>high</td>\n",
       "      <td>high</td>\n",
       "      <td>safe</td>\n",
       "    </tr>\n",
       "    <tr>\n",
       "      <th>7</th>\n",
       "      <td>8.64</td>\n",
       "      <td>203.36</td>\n",
       "      <td>13672.09</td>\n",
       "      <td>4.56</td>\n",
       "      <td>303.31</td>\n",
       "      <td>474.61</td>\n",
       "      <td>12.36</td>\n",
       "      <td>62.80</td>\n",
       "      <td>4.40</td>\n",
       "      <td>0</td>\n",
       "      <td>unaceptable</td>\n",
       "      <td>high</td>\n",
       "      <td>basic</td>\n",
       "      <td>very_hard</td>\n",
       "      <td>high</td>\n",
       "      <td>high</td>\n",
       "      <td>high</td>\n",
       "      <td>safe</td>\n",
       "      <td>safe</td>\n",
       "    </tr>\n",
       "    <tr>\n",
       "      <th>...</th>\n",
       "      <td>...</td>\n",
       "      <td>...</td>\n",
       "      <td>...</td>\n",
       "      <td>...</td>\n",
       "      <td>...</td>\n",
       "      <td>...</td>\n",
       "      <td>...</td>\n",
       "      <td>...</td>\n",
       "      <td>...</td>\n",
       "      <td>...</td>\n",
       "      <td>...</td>\n",
       "      <td>...</td>\n",
       "      <td>...</td>\n",
       "      <td>...</td>\n",
       "      <td>...</td>\n",
       "      <td>...</td>\n",
       "      <td>...</td>\n",
       "      <td>...</td>\n",
       "      <td>...</td>\n",
       "    </tr>\n",
       "    <tr>\n",
       "      <th>3267</th>\n",
       "      <td>8.99</td>\n",
       "      <td>215.05</td>\n",
       "      <td>15921.41</td>\n",
       "      <td>6.30</td>\n",
       "      <td>312.93</td>\n",
       "      <td>390.41</td>\n",
       "      <td>9.90</td>\n",
       "      <td>55.07</td>\n",
       "      <td>4.61</td>\n",
       "      <td>1</td>\n",
       "      <td>unaceptable</td>\n",
       "      <td>high</td>\n",
       "      <td>basic</td>\n",
       "      <td>very_hard</td>\n",
       "      <td>high</td>\n",
       "      <td>safe</td>\n",
       "      <td>high</td>\n",
       "      <td>safe</td>\n",
       "      <td>safe</td>\n",
       "    </tr>\n",
       "    <tr>\n",
       "      <th>3268</th>\n",
       "      <td>6.70</td>\n",
       "      <td>207.32</td>\n",
       "      <td>17246.92</td>\n",
       "      <td>7.71</td>\n",
       "      <td>304.51</td>\n",
       "      <td>329.27</td>\n",
       "      <td>16.22</td>\n",
       "      <td>28.88</td>\n",
       "      <td>3.44</td>\n",
       "      <td>1</td>\n",
       "      <td>unaceptable</td>\n",
       "      <td>high</td>\n",
       "      <td>safe</td>\n",
       "      <td>very_hard</td>\n",
       "      <td>high</td>\n",
       "      <td>safe</td>\n",
       "      <td>high</td>\n",
       "      <td>safe</td>\n",
       "      <td>safe</td>\n",
       "    </tr>\n",
       "    <tr>\n",
       "      <th>3269</th>\n",
       "      <td>11.49</td>\n",
       "      <td>94.81</td>\n",
       "      <td>37188.83</td>\n",
       "      <td>9.26</td>\n",
       "      <td>258.93</td>\n",
       "      <td>439.89</td>\n",
       "      <td>16.17</td>\n",
       "      <td>41.56</td>\n",
       "      <td>4.37</td>\n",
       "      <td>1</td>\n",
       "      <td>unaceptable</td>\n",
       "      <td>high</td>\n",
       "      <td>basic</td>\n",
       "      <td>moderately_hard</td>\n",
       "      <td>high</td>\n",
       "      <td>high</td>\n",
       "      <td>high</td>\n",
       "      <td>safe</td>\n",
       "      <td>safe</td>\n",
       "    </tr>\n",
       "    <tr>\n",
       "      <th>3270</th>\n",
       "      <td>6.07</td>\n",
       "      <td>186.66</td>\n",
       "      <td>26138.78</td>\n",
       "      <td>7.75</td>\n",
       "      <td>345.70</td>\n",
       "      <td>415.89</td>\n",
       "      <td>12.07</td>\n",
       "      <td>60.42</td>\n",
       "      <td>3.67</td>\n",
       "      <td>1</td>\n",
       "      <td>unaceptable</td>\n",
       "      <td>high</td>\n",
       "      <td>acidic</td>\n",
       "      <td>very_hard</td>\n",
       "      <td>high</td>\n",
       "      <td>high</td>\n",
       "      <td>high</td>\n",
       "      <td>safe</td>\n",
       "      <td>safe</td>\n",
       "    </tr>\n",
       "    <tr>\n",
       "      <th>3271</th>\n",
       "      <td>4.67</td>\n",
       "      <td>193.68</td>\n",
       "      <td>47580.99</td>\n",
       "      <td>7.17</td>\n",
       "      <td>359.95</td>\n",
       "      <td>526.42</td>\n",
       "      <td>13.89</td>\n",
       "      <td>66.69</td>\n",
       "      <td>4.44</td>\n",
       "      <td>1</td>\n",
       "      <td>unaceptable</td>\n",
       "      <td>high</td>\n",
       "      <td>acidic</td>\n",
       "      <td>very_hard</td>\n",
       "      <td>high</td>\n",
       "      <td>high</td>\n",
       "      <td>high</td>\n",
       "      <td>safe</td>\n",
       "      <td>safe</td>\n",
       "    </tr>\n",
       "  </tbody>\n",
       "</table>\n",
       "<p>2011 rows × 19 columns</p>\n",
       "</div>"
      ],
      "text/plain": [
       "         ph  hardness    solids  chloramines  sulfate  conductivity  \\\n",
       "3      8.32    214.37  22018.42         8.06   356.89        363.27   \n",
       "4      9.09    181.10  17978.99         6.55   310.14        398.41   \n",
       "5      5.58    188.31  28748.69         7.54   326.68        280.47   \n",
       "6     10.22    248.07  28749.72         7.51   393.66        283.65   \n",
       "7      8.64    203.36  13672.09         4.56   303.31        474.61   \n",
       "...     ...       ...       ...          ...      ...           ...   \n",
       "3267   8.99    215.05  15921.41         6.30   312.93        390.41   \n",
       "3268   6.70    207.32  17246.92         7.71   304.51        329.27   \n",
       "3269  11.49     94.81  37188.83         9.26   258.93        439.89   \n",
       "3270   6.07    186.66  26138.78         7.75   345.70        415.89   \n",
       "3271   4.67    193.68  47580.99         7.17   359.95        526.42   \n",
       "\n",
       "      organic_carbon  trihalomethanes  turbidity  potability solids_range  \\\n",
       "3              18.44           100.34       4.63           0  unaceptable   \n",
       "4              11.56            32.00       4.08           0  unaceptable   \n",
       "5               8.40            54.92       2.56           0  unaceptable   \n",
       "6              13.79            84.60       2.67           0  unaceptable   \n",
       "7              12.36            62.80       4.40           0  unaceptable   \n",
       "...              ...              ...        ...         ...          ...   \n",
       "3267            9.90            55.07       4.61           1  unaceptable   \n",
       "3268           16.22            28.88       3.44           1  unaceptable   \n",
       "3269           16.17            41.56       4.37           1  unaceptable   \n",
       "3270           12.07            60.42       3.67           1  unaceptable   \n",
       "3271           13.89            66.69       4.44           1  unaceptable   \n",
       "\n",
       "     chloramines_range ph_range   hardness_range sulfate_range  \\\n",
       "3                 high     safe        very_hard          high   \n",
       "4                 high    basic        very_hard          high   \n",
       "5                 high   acidic        very_hard          high   \n",
       "6                 high    basic        very_hard          high   \n",
       "7                 high    basic        very_hard          high   \n",
       "...                ...      ...              ...           ...   \n",
       "3267              high    basic        very_hard          high   \n",
       "3268              high     safe        very_hard          high   \n",
       "3269              high    basic  moderately_hard          high   \n",
       "3270              high   acidic        very_hard          high   \n",
       "3271              high   acidic        very_hard          high   \n",
       "\n",
       "     conductivity_rage organic_car_range trihalomethanes_range turbidity_range  \n",
       "3                 safe              high                  high            safe  \n",
       "4                 safe              high                  safe            safe  \n",
       "5                 safe              high                  safe            safe  \n",
       "6                 safe              high                  high            safe  \n",
       "7                 high              high                  safe            safe  \n",
       "...                ...               ...                   ...             ...  \n",
       "3267              safe              high                  safe            safe  \n",
       "3268              safe              high                  safe            safe  \n",
       "3269              high              high                  safe            safe  \n",
       "3270              high              high                  safe            safe  \n",
       "3271              high              high                  safe            safe  \n",
       "\n",
       "[2011 rows x 19 columns]"
      ]
     },
     "execution_count": 42,
     "metadata": {},
     "output_type": "execute_result"
    }
   ],
   "source": [
    "df"
   ]
  },
  {
   "cell_type": "code",
   "execution_count": 43,
   "id": "da3ad488-0bb8-4a57-815a-8dc89721edb3",
   "metadata": {
    "tags": []
   },
   "outputs": [
    {
     "data": {
      "text/plain": [
       "unaceptable    2009\n",
       "good              1\n",
       "poor              1\n",
       "excellent         0\n",
       "fair              0\n",
       "Name: solids_range, dtype: int64"
      ]
     },
     "execution_count": 43,
     "metadata": {},
     "output_type": "execute_result"
    }
   ],
   "source": [
    "df.solids_range.value_counts()"
   ]
  },
  {
   "cell_type": "code",
   "execution_count": null,
   "id": "974a956f-204a-48b6-8fac-874ed5fd7a8e",
   "metadata": {},
   "outputs": [],
   "source": []
  },
  {
   "cell_type": "code",
   "execution_count": null,
   "id": "1d4cb13f-7d9e-4899-ba95-f21bb0e8362c",
   "metadata": {},
   "outputs": [],
   "source": []
  },
  {
   "cell_type": "code",
   "execution_count": null,
   "id": "7ddda6b6-de85-4f19-b94c-399c47d03e14",
   "metadata": {
    "tags": []
   },
   "outputs": [],
   "source": [
    "def safe_water(df):\n",
    "    '''\n",
    "    This function will create bins for what is recomended as safe\n",
    "    '''"
   ]
  }
 ],
 "metadata": {
  "kernelspec": {
   "display_name": "Python 3 (ipykernel)",
   "language": "python",
   "name": "python3"
  },
  "language_info": {
   "codemirror_mode": {
    "name": "ipython",
    "version": 3
   },
   "file_extension": ".py",
   "mimetype": "text/x-python",
   "name": "python",
   "nbconvert_exporter": "python",
   "pygments_lexer": "ipython3",
   "version": "3.11.4"
  }
 },
 "nbformat": 4,
 "nbformat_minor": 5
}
