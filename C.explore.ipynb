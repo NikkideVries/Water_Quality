{
 "cells": [
  {
   "cell_type": "markdown",
   "id": "6ed43cfe-a952-4530-bc29-a566d1ba614f",
   "metadata": {},
   "source": [
    "# Explore: \n",
    "1. Univariate exploration: Explore feature variable individually.\n",
    "    - For numeric variables, create a histogram and use .describe(). For categorical variables, use a frequency table and a bar plot of that frequency table.\n",
    "2. Bivariate exploration: Plot each variable against your target.\n",
    "    - For a categorical target variable, your target can be on the x-axis, and numeric variables on the y. For testing, you can compare your categorical target to numeric variables using comparison of means tests, such as t-test, anova or mann-whitney. You can compare your categorical target to categorical variables using a chi-square test.\n",
    "    - For a numeric target variable, your target can be on the y-axis, and independent variables on the x-axis. For independent variables that are numeric, scatterplots are useful. For independent variables that are categorical or discrete, bar plots, swarm plots or violin plots are useful.\n",
    "3. Multivariate exploration: Visualize multiple (3+) variables at once.\n",
    "     - With a categorical target, plot each categorical variable (x-axis) against each numeric variable (y-axis) and set color to your categorical target variable. You could use a bar plot, swarm plot, violin plot, box plot.\n",
    "    - When plotting a numeric target against categorical independent variables, your y-axis is the target and your x-axis is categorical variables (bar, swarm, violin, box plots). You can set color to be another one of the categorical variables. One you are most interested in, for example.\n",
    "- When plotting a numeric target against numeric independent variables, your y-axis should be your target and your x-axis should be a numeric independent variable. Color can be added from one of the categorical variables to add a dimension.\n",
    "- Document any findings, insights, thoughts, takeaways from the charts and statistics you produced. In that, be sure and include any additional features you would like to develop if there is time, which features need to be removed, and which are free to move forward."
   ]
  },
  {
   "cell_type": "code",
   "execution_count": 2,
   "id": "89e7dcf7-a68c-4588-aa02-a52be4644b26",
   "metadata": {
    "tags": []
   },
   "outputs": [],
   "source": [
    "# imports:\n",
    "import pandas as pd\n",
    "import numpy as np\n",
    "import wrangle as wr\n",
    "\n",
    "# vizualizations\n",
    "import matplotlib.pyplot as plt\n",
    "import seaborn as sns\n",
    "\n",
    "# statistics\n",
    "from scipy import stats\n",
    "\n",
    "# warnings:\n",
    "import warnings\n",
    "warnings.filterwarnings(\"ignore\")"
   ]
  },
  {
   "cell_type": "code",
   "execution_count": null,
   "id": "310476b3-dd6d-45c6-9e93-208e5214cb3a",
   "metadata": {
    "tags": []
   },
   "outputs": [],
   "source": [
    "# Lets acquire the data: \n",
    "df = wr.acquire_water()"
   ]
  },
  {
   "cell_type": "code",
   "execution_count": null,
   "id": "f34dce3c-c497-447d-97cd-0aa8faf418aa",
   "metadata": {
    "tags": []
   },
   "outputs": [],
   "source": [
    "# prepare the data: \n",
    "df = wr.prep_water(df)"
   ]
  },
  {
   "cell_type": "code",
   "execution_count": null,
   "id": "b2e9fb78-f63b-4330-8eb9-c879048b75d0",
   "metadata": {
    "tags": []
   },
   "outputs": [],
   "source": [
    "df.head()"
   ]
  },
  {
   "cell_type": "code",
   "execution_count": null,
   "id": "7726a316-4a86-469c-8d42-d63ef24c2a73",
   "metadata": {
    "tags": []
   },
   "outputs": [],
   "source": [
    "# split up the x variables into categorical and numerical:\n",
    "cat_cols, num_cols = [], []\n",
    "# for a column in the X_train data frame:\n",
    "for col in df.columns:\n",
    "    # if the column is an object:\n",
    "    if df[col].dtype == 'O':\n",
    "        # add the column to the category list\n",
    "        cat_cols.append(col)\n",
    "    # else not an object:   \n",
    "    else:\n",
    "        # if the column has unique values under 10:\n",
    "        if df[col].nunique() < 10:\n",
    "            # add the columns to category list\n",
    "            cat_cols.append(col)\n",
    "        # else not object and unique is not under 10:\n",
    "        else:\n",
    "            # and the column to the numbers list\n",
    "            num_cols.append(col)"
   ]
  },
  {
   "cell_type": "code",
   "execution_count": null,
   "id": "2f750bf7-fa7d-4a52-bc0e-9172e23e5545",
   "metadata": {
    "tags": []
   },
   "outputs": [],
   "source": [
    "cat_cols"
   ]
  },
  {
   "cell_type": "code",
   "execution_count": null,
   "id": "e0da410f-7b20-4823-8b11-51b60f77eba9",
   "metadata": {
    "tags": []
   },
   "outputs": [],
   "source": [
    "num_cols"
   ]
  },
  {
   "cell_type": "markdown",
   "id": "736829da-b1de-4b7a-9a52-79974463289a",
   "metadata": {},
   "source": [
    "All of our columns are numerical data. The only categorical data is potability but this our target variable."
   ]
  },
  {
   "cell_type": "markdown",
   "id": "b9cda62c-4cdb-43fb-8d0e-b0a4e09f70d8",
   "metadata": {
    "tags": []
   },
   "source": [
    "# Univariate Exploration:\n",
    "- We dont need to split the data only looking a univariate variables"
   ]
  },
  {
   "cell_type": "code",
   "execution_count": null,
   "id": "85b00bdd-43ea-438b-ab55-16bdf0dbd59d",
   "metadata": {
    "tags": []
   },
   "outputs": [],
   "source": [
    "# Looking at Numerical Values: \n",
    "for col in num_cols:\n",
    "    # print out the title:\n",
    "    print (f'Distribution of {col}')\n",
    "    # show descriptive statistics\n",
    "    print(df[col].describe())\n",
    "    # first graph is a histogram: \n",
    "    sns.histplot(data=df, x = col, kde=True)\n",
    "    plt.show()\n",
    "    # second graph is boxplot\n",
    "    #plt.boxplot(train[col])\n",
    "    #plt.show()\n",
    "    sns.boxplot(data=df, x = col)\n",
    "    plt.show()\n",
    "    print('=======================')"
   ]
  },
  {
   "cell_type": "markdown",
   "id": "4088289d-7398-4a86-9a13-0f0431fb3cd7",
   "metadata": {},
   "source": [
    "### Take aways: \n",
    "1. pH = min: 0.23 / max: 14.00\n",
    "- Data looks normal, outliers don't look like and issue\n",
    "2. hardness = min: 73.49 / max: 317.34\n",
    "- Minor skew to the right, outliers don't look like and issue\n",
    "3. solids = min: 320.94 / max: 56488.67\n",
    "- Positive Skew, Outliers don't look like and issue.\n",
    "4. chloramines = min: 1.39 / max: 13.13\n",
    "- data looks normal, outliers don't look like an issue\n",
    "5. sulfate = min: 129.00 / max: 481.03\n",
    "- data looks negatively skewed, outlires dont look noraml, could remove one\n",
    "6. conductivity = min: 201.62 / max: 753.34\n",
    "- data looks normal, outliers don't look bad\n",
    "7. organic_carbon = min: 2.20 / max: 27.01\n",
    "- data looks normal, outliers don't look like an issue\n",
    "8. trihalomethanes = min: 8.58 / max: 124.00\n",
    "- looks skewed right, outlires don't look like an issue\n",
    "9. trubidity = min: 1.45 / max = 6.49\n",
    "- looks nomral, outliers don't seem to be an issue"
   ]
  },
  {
   "cell_type": "code",
   "execution_count": null,
   "id": "61afa8a0-6960-4dc3-ac97-dfae8cb5dbd4",
   "metadata": {
    "tags": []
   },
   "outputs": [],
   "source": [
    "# function to evaluate if distribution is normal\n",
    "def eval_dist(r, p, α=0.05):\n",
    "    \"\"\"\n",
    "    This function will take in:\n",
    "    - r: the test statistic\n",
    "    - p: p-value\n",
    "    - α: id defaulted to 5%\n",
    "    and print out if the data used to create r & p from the stats.shapiro test is normally distributed.\n",
    "    \"\"\"\n",
    "    if p > α:\n",
    "        return print(f\"\"\"The data is normally distributed\"\"\")\n",
    "    else:\n",
    "        return print(f\"\"\"The data is NOT normally distributed\"\"\")"
   ]
  },
  {
   "cell_type": "code",
   "execution_count": null,
   "id": "b6e4b6b5-daa5-4508-b4ef-76614197c777",
   "metadata": {
    "tags": []
   },
   "outputs": [],
   "source": [
    "# lets check if they are normal: \n",
    "def evaluate_normality(data, column_name):\n",
    "    \"\"\"\n",
    "    This function will take in a column_name, and then run a shapiro test\n",
    "    \"\"\"\n",
    "    r, p = stats.shapiro(data[column_name])\n",
    "    print(f\"{column_name} distribution:\")\n",
    "    print(\"Shapiro-Wilk Test Results:\")\n",
    "    print(f\"Statistic (r): {r}\")\n",
    "    print(f\"P-value (p): {p}\")\n",
    "    print(eval_dist(r, p))"
   ]
  },
  {
   "cell_type": "code",
   "execution_count": null,
   "id": "ef40e0c1-7378-4cd9-8510-6eda2cd340f0",
   "metadata": {
    "tags": []
   },
   "outputs": [],
   "source": [
    "evaluate_normality(df, 'ph')"
   ]
  },
  {
   "cell_type": "code",
   "execution_count": null,
   "id": "71b07d18-50eb-44c4-8126-82bcc330dfba",
   "metadata": {
    "tags": []
   },
   "outputs": [],
   "source": [
    "for column in num_cols:\n",
    "    evaluate_normality(df, column)"
   ]
  },
  {
   "cell_type": "code",
   "execution_count": null,
   "id": "a6504036-d331-48a4-9c63-8b102aad88c2",
   "metadata": {
    "tags": []
   },
   "outputs": [],
   "source": [
    "# look at all the categorical features\n",
    "for col in cat_cols:\n",
    "    print(f'Frequncy of {col}')\n",
    "    print(df[col].describe())\n",
    "    print(df[col].value_counts())\n",
    "    \n",
    "    #since there are multiple columns i want them to display side by side\n",
    "    fig, ax = plt.subplots(1,2, figsize=(10,8))\n",
    "    fig.suptitle(f'Graphs of {col}')\n",
    "    \n",
    "    #plot one: \n",
    "    sns.countplot(data = df, x = col, ax=ax[0], palette = 'Set2')\n",
    "    \n",
    "    #plot two:\n",
    "    sns.boxplot(ax=ax[1], data = df, x = df[col].value_counts(), color = 'skyblue')\n",
    "\n",
    "   \n",
    "    plt.show()\n",
    "    print('----------###---------')"
   ]
  },
  {
   "cell_type": "markdown",
   "id": "5dfef6a4-5f54-4786-9320-870d6a0b3b6e",
   "metadata": {},
   "source": [
    "### Takeaways: \n",
    "1. There is more 0's than 1's meaning that there is more undrinkable water in the data frame. "
   ]
  },
  {
   "cell_type": "markdown",
   "id": "1797917f-7eba-4dac-8c54-dd5e6959d798",
   "metadata": {},
   "source": [
    "# Bivariate Statistics: \n",
    "- Data needs to be split: "
   ]
  },
  {
   "cell_type": "code",
   "execution_count": null,
   "id": "3d1fe561-e569-4251-a131-6707709f4303",
   "metadata": {
    "tags": []
   },
   "outputs": [],
   "source": [
    "# import: \n",
    "from sklearn.model_selection import train_test_split"
   ]
  },
  {
   "cell_type": "code",
   "execution_count": null,
   "id": "c32325a8-8470-4dd5-9f0c-397ecc4de085",
   "metadata": {
    "tags": []
   },
   "outputs": [],
   "source": [
    "def split_water(df):\n",
    "    '''\n",
    "    This function will split my data\n",
    "    '''\n",
    "    train_validate, test = train_test_split(df, test_size=.2, random_state=123, stratify = df.potability)\n",
    "    train, validate = train_test_split(train_validate, test_size=.3, random_state=123, stratify = train_validate.potability)\n",
    "    \n",
    "    return train, validate, test"
   ]
  },
  {
   "cell_type": "code",
   "execution_count": null,
   "id": "59127292-89d8-4fbd-bdbf-0991c614cc33",
   "metadata": {
    "tags": []
   },
   "outputs": [],
   "source": [
    "train, validate, test = split_water(df)"
   ]
  },
  {
   "cell_type": "code",
   "execution_count": null,
   "id": "4f0a59af-565f-444b-a99a-4244ac81851a",
   "metadata": {
    "tags": []
   },
   "outputs": [],
   "source": [
    "# create my target varible: \n",
    "target = 'potability'"
   ]
  },
  {
   "cell_type": "code",
   "execution_count": null,
   "id": "f211649f-2e14-419b-87b4-ccd7bff778b5",
   "metadata": {
    "tags": []
   },
   "outputs": [],
   "source": [
    "# swarm plot:\n",
    "for col in num_cols:\n",
    "    # create the plot:\n",
    "    sns.swarmplot(data = train, x = target, y = col, color = 'lightseagreen')\n",
    "    plt.title(f'Graph for {col}')\n",
    "    average = train[col].mean()\n",
    "    plt.axhline(average, ls = '--', color = 'black')\n",
    "    plt.show()  "
   ]
  },
  {
   "cell_type": "code",
   "execution_count": null,
   "id": "618a081c-443d-4fb3-ad78-3213fde5f6bc",
   "metadata": {
    "tags": []
   },
   "outputs": [],
   "source": [
    "# boxen graph with average mean:\n",
    "for col in num_cols:\n",
    "    # create the plot:\n",
    "    sns.boxenplot(data = train, x = target, y = col, palette = 'Set2')\n",
    "    plt.title(f'Graph for {col}')\n",
    "    average = train[col].mean()\n",
    "    plt.axhline(average, ls = '--', color = 'black')\n",
    "    plt.show()"
   ]
  },
  {
   "cell_type": "code",
   "execution_count": null,
   "id": "1bb8d2a1-9cba-4171-b5a3-456a8142c34c",
   "metadata": {
    "tags": []
   },
   "outputs": [],
   "source": [
    "# bar plot\n",
    "for col in num_cols:\n",
    "    plt.title(f'Graph of {col}')\n",
    "    sns.barplot(x = target, y = col, data = train, palette = 'mako')\n",
    "    col_mean = train[col].mean()\n",
    "    plt.axhline(col_mean, label = (f'Mean of {col}'), color = 'black')\n",
    "    plt.legend()\n",
    "    \n",
    "    plt.show()"
   ]
  },
  {
   "cell_type": "markdown",
   "id": "d603625e-f8ae-49da-9f00-e9b1799e5457",
   "metadata": {},
   "source": [
    "# Need to complete a Mann-Whitney Test: "
   ]
  },
  {
   "cell_type": "code",
   "execution_count": null,
   "id": "5dbab1d5-8254-4745-a8bf-0e593f9afa2a",
   "metadata": {
    "tags": []
   },
   "outputs": [],
   "source": [
    "def mann_whit_test(df, num_cols):\n",
    "    for col in num_cols:\n",
    "        stat, p_val = stats.mannwhitneyu(\n",
    "            train[train.potability == 0][col],\n",
    "            train[train.potability == 1][col])\n",
    "        print(f'Mann-Whitneyu test for {col}')\n",
    "        if p_val < 0.05:\n",
    "            print('We can reject the null hypothesis; the means are different.')\n",
    "        else:\n",
    "            print('We cannot reject the null hypothesis')"
   ]
  },
  {
   "cell_type": "code",
   "execution_count": null,
   "id": "30b1ef0a-b67c-438b-b5de-9e3f667ee978",
   "metadata": {
    "tags": []
   },
   "outputs": [],
   "source": [
    "mann_whit_test(df, num_cols)"
   ]
  },
  {
   "cell_type": "markdown",
   "id": "0201ad83-0433-470c-95d3-7fab29a4e949",
   "metadata": {},
   "source": [
    "# Lets find cluster: "
   ]
  },
  {
   "cell_type": "code",
   "execution_count": null,
   "id": "d49b1583-5045-46ce-90b0-7e408acc85ca",
   "metadata": {
    "tags": []
   },
   "outputs": [],
   "source": [
    "sns.pairplot(data = train, hue = 'potability', corner = True)"
   ]
  },
  {
   "cell_type": "markdown",
   "id": "230ebb7e-e3c5-4759-ad3a-33ef9e966027",
   "metadata": {},
   "source": [
    "Is there a relationship betwwen ph and hardness: "
   ]
  },
  {
   "cell_type": "code",
   "execution_count": null,
   "id": "487fe3c2-4597-4b03-b700-0f025a15412e",
   "metadata": {
    "tags": []
   },
   "outputs": [],
   "source": [
    "# continous vs continous: Data is not normal: \n",
    "def eval_Spearmanresult(r,p,α=0.05):\n",
    "    \"\"\"\n",
    "    \n",
    "    \"\"\"\n",
    "    if p < α:\n",
    "        return print(f\"\"\"We reject H₀, there appears to be a monotonic relationship.\n",
    "Spearman's rs: {r:2f}.\n",
    "P-value: {p}\"\"\")\n",
    "    else:\n",
    "        return print(f\"\"\"We fail to reject H₀: that there does not appear to be a monotonic relationship.\n",
    "Spearman’s r: {r:2f}\n",
    "P-value: {p}\"\"\")"
   ]
  },
  {
   "cell_type": "markdown",
   "id": "6904eaed-4784-496f-9283-48180f9205eb",
   "metadata": {},
   "source": [
    "### Relationship between sulfates and ph"
   ]
  },
  {
   "cell_type": "code",
   "execution_count": null,
   "id": "a86ebe7b-ad18-41cd-bb6b-babca656a514",
   "metadata": {
    "tags": []
   },
   "outputs": [],
   "source": [
    "sns.scatterplot(data = train, y = 'sulfate', x = 'ph', hue = 'potability')\n",
    "plt.title('Sulfates vs pH');"
   ]
  },
  {
   "cell_type": "code",
   "execution_count": null,
   "id": "b05901ea-746d-41be-8b1e-92d1d12be6af",
   "metadata": {
    "tags": []
   },
   "outputs": [],
   "source": [
    "# ph and sulfates\n",
    "r, p = stats.spearmanr(train.ph, train.sulfate)\n",
    "eval_Spearmanresult(r,p)"
   ]
  },
  {
   "cell_type": "markdown",
   "id": "34a3a0b1-4390-4f79-8ef7-d571be79bbfd",
   "metadata": {},
   "source": [
    "### Relationship between hardness and pH"
   ]
  },
  {
   "cell_type": "code",
   "execution_count": null,
   "id": "9b565615-7bd3-431f-b44c-95f8d1e7a6e8",
   "metadata": {
    "tags": []
   },
   "outputs": [],
   "source": [
    "sns.scatterplot(data = train, y = 'hardness', x = 'ph', hue = 'potability');"
   ]
  },
  {
   "cell_type": "code",
   "execution_count": null,
   "id": "a78c7017-6735-4931-ae04-8a7f57870d3e",
   "metadata": {
    "tags": []
   },
   "outputs": [],
   "source": [
    "# ph and hardness\n",
    "r, p = stats.spearmanr(train.ph, train.hardness)\n",
    "eval_Spearmanresult(r,p)"
   ]
  },
  {
   "cell_type": "markdown",
   "id": "76bc941d-74e1-427a-b49c-5acaf740fc16",
   "metadata": {},
   "source": [
    "### Relaptionship between turbidity and chloramines?"
   ]
  },
  {
   "cell_type": "code",
   "execution_count": null,
   "id": "188c8137-b3a6-4a6d-90d5-7326b960df12",
   "metadata": {
    "tags": []
   },
   "outputs": [],
   "source": [
    "sns.scatterplot(data = train, y = 'turbidity', x = 'chloramines', hue = 'potability');"
   ]
  },
  {
   "cell_type": "code",
   "execution_count": null,
   "id": "2f711637-a5d1-487e-84f2-bfb4fa628b26",
   "metadata": {
    "tags": []
   },
   "outputs": [],
   "source": [
    "# turbidity and chloramines\n",
    "r, p = stats.spearmanr(train.turbidity, train.chloramines)\n",
    "eval_Spearmanresult(r,p)"
   ]
  },
  {
   "cell_type": "markdown",
   "id": "0ab634e3-80cb-43bf-8bf3-e372bfbb9d92",
   "metadata": {},
   "source": [
    "### Trihalomethanes and conducitivy"
   ]
  },
  {
   "cell_type": "code",
   "execution_count": null,
   "id": "40c4ba6f-eefa-4c8e-ab67-32a4143d51c9",
   "metadata": {
    "tags": []
   },
   "outputs": [],
   "source": [
    "sns.scatterplot(data = train, y = 'trihalomethanes', x = 'conductivity', hue = 'potability');"
   ]
  },
  {
   "cell_type": "code",
   "execution_count": null,
   "id": "22898dd6-3029-4337-8a5f-51159f5ef37b",
   "metadata": {
    "tags": []
   },
   "outputs": [],
   "source": [
    "# trihalomethanes and conductivity\n",
    "r, p = stats.spearmanr(train.trihalomethanes, train.conductivity)\n",
    "eval_Spearmanresult(r,p)"
   ]
  },
  {
   "cell_type": "markdown",
   "id": "d952e10d-a3df-44b3-8d2e-69cb8cdff3fe",
   "metadata": {},
   "source": [
    "### Is there something with a relationship with turbidity?"
   ]
  },
  {
   "cell_type": "code",
   "execution_count": null,
   "id": "19ab1e49-eae4-4b6b-a622-5a7e4ac11000",
   "metadata": {
    "tags": []
   },
   "outputs": [],
   "source": [
    "cols = ['ph','hardness','solids', 'chloramines', 'sulfate', 'conductivity', 'organic_carbon', 'trihalomethanes']\n",
    "for col in cols:\n",
    "    print(f'{col} vs turbidity')\n",
    "    r, p = stats.spearmanr(train[col], train.turbidity)\n",
    "    eval_Spearmanresult(r,p)\n",
    "    print('-------')"
   ]
  },
  {
   "cell_type": "markdown",
   "id": "d5f52f37-ecb7-47cc-9f63-5d1cb969828a",
   "metadata": {},
   "source": [
    "### Hardness: "
   ]
  },
  {
   "cell_type": "code",
   "execution_count": null,
   "id": "1f7206c8-0b3b-4eb1-8f15-98b71a35e9ca",
   "metadata": {
    "tags": []
   },
   "outputs": [],
   "source": [
    "cols = ['ph','turbidity','solids', 'chloramines', 'sulfate', 'conductivity', 'organic_carbon', 'trihalomethanes']\n",
    "for col in cols:\n",
    "    print(f'{col} vs hardness')\n",
    "    r, p = stats.spearmanr(train[col], train.hardness)\n",
    "    eval_Spearmanresult(r,p)\n",
    "    print('-------')"
   ]
  },
  {
   "cell_type": "markdown",
   "id": "f6fcb5b3-1ba2-4ee7-b37e-564636f8c002",
   "metadata": {},
   "source": [
    "### Solids"
   ]
  },
  {
   "cell_type": "code",
   "execution_count": null,
   "id": "beaec494-f1ff-4423-b70c-7c474ea5b8cc",
   "metadata": {
    "tags": []
   },
   "outputs": [],
   "source": [
    "cols = ['ph','turbidity','hardness', 'chloramines', 'sulfate', 'conductivity', 'organic_carbon', 'trihalomethanes']\n",
    "for col in cols:\n",
    "    print(f'{col} vs solids')\n",
    "    r, p = stats.spearmanr(train[col], train.solids)\n",
    "    eval_Spearmanresult(r,p)\n",
    "    print('-------')"
   ]
  },
  {
   "cell_type": "markdown",
   "id": "a8f36361-bc81-4dc1-b5ae-eb4c76d8c5ba",
   "metadata": {},
   "source": [
    "### Chloramines"
   ]
  },
  {
   "cell_type": "code",
   "execution_count": null,
   "id": "f01b427b-9999-480b-9b41-e1e94453f02c",
   "metadata": {
    "tags": []
   },
   "outputs": [],
   "source": [
    "cols = ['ph','turbidity','hardness', 'solids', 'sulfate', 'conductivity', 'organic_carbon', 'trihalomethanes']\n",
    "for col in cols:\n",
    "    print(f'{col} vs chloramines')\n",
    "    r, p = stats.spearmanr(train[col], train.chloramines)\n",
    "    eval_Spearmanresult(r,p)\n",
    "    print('-------')"
   ]
  },
  {
   "cell_type": "markdown",
   "id": "88600ff0-d1b8-45ad-b655-6b3919f8de2c",
   "metadata": {},
   "source": [
    "### Sulfate"
   ]
  },
  {
   "cell_type": "code",
   "execution_count": null,
   "id": "07ec592b-7754-44da-9e30-b833fdc1c9de",
   "metadata": {
    "tags": []
   },
   "outputs": [],
   "source": [
    "cols = ['ph','turbidity','hardness', 'solids', 'chloramines', 'conductivity', 'organic_carbon', 'trihalomethanes']\n",
    "for col in cols:\n",
    "    print(f'{col} vs sulfate')\n",
    "    r, p = stats.spearmanr(train[col], train.sulfate)\n",
    "    eval_Spearmanresult(r,p)\n",
    "    print('-------')"
   ]
  },
  {
   "cell_type": "markdown",
   "id": "87a2a3b5-ee54-4946-a8fc-60769a0cfce3",
   "metadata": {},
   "source": [
    "### Conductivity:"
   ]
  },
  {
   "cell_type": "code",
   "execution_count": null,
   "id": "d51ddf83-2c29-412b-ba4e-91141a207fe8",
   "metadata": {
    "tags": []
   },
   "outputs": [],
   "source": [
    "cols = ['ph','turbidity','hardness', 'solids', 'sulfate', 'chloramines', 'organic_carbon', 'trihalomethanes']\n",
    "for col in cols:\n",
    "    print(f'{col} vs conductivity')\n",
    "    r, p = stats.spearmanr(train[col], train.conductivity)\n",
    "    eval_Spearmanresult(r,p)\n",
    "    print('-------')"
   ]
  },
  {
   "cell_type": "markdown",
   "id": "8518a4d5-6ae2-481c-a852-cd6f8e830a9a",
   "metadata": {},
   "source": [
    "### Organic_carbon"
   ]
  },
  {
   "cell_type": "code",
   "execution_count": null,
   "id": "d0b58137-87b1-4663-943e-04656f8737ad",
   "metadata": {
    "tags": []
   },
   "outputs": [],
   "source": [
    "cols = ['ph','turbidity','hardness', 'solids', 'sulfate', 'chloramines', 'conductivity', 'trihalomethanes']\n",
    "for col in cols:\n",
    "    print(f'{col} vs organic carbon')\n",
    "    r, p = stats.spearmanr(train[col], train.organic_carbon)\n",
    "    eval_Spearmanresult(r,p)\n",
    "    print('-------')"
   ]
  },
  {
   "cell_type": "markdown",
   "id": "d9749718-c3f1-424f-b3ea-9784fc310265",
   "metadata": {},
   "source": [
    "### trihalomethanes"
   ]
  },
  {
   "cell_type": "code",
   "execution_count": null,
   "id": "1737b4fd-4a25-4302-a13b-e593a976ee43",
   "metadata": {
    "tags": []
   },
   "outputs": [],
   "source": [
    "cols = ['ph','turbidity','hardness', 'solids', 'sulfate', 'chloramines', 'conductivity', 'organic_carbon']\n",
    "for col in cols:\n",
    "    print(f'{col} vs trihalomethanes')\n",
    "    r, p = stats.spearmanr(train[col], train.trihalomethanes)\n",
    "    eval_Spearmanresult(r,p)\n",
    "    print('-------')"
   ]
  },
  {
   "cell_type": "code",
   "execution_count": null,
   "id": "d6b54000-ecae-4e26-96ed-e17f267a5486",
   "metadata": {},
   "outputs": [],
   "source": []
  },
  {
   "cell_type": "code",
   "execution_count": null,
   "id": "392bb75a-e567-49a9-813e-46e32bb9b194",
   "metadata": {},
   "outputs": [],
   "source": []
  },
  {
   "cell_type": "code",
   "execution_count": null,
   "id": "073bb0f2-f419-47bb-8fe4-938261c5499d",
   "metadata": {},
   "outputs": [],
   "source": []
  },
  {
   "cell_type": "code",
   "execution_count": null,
   "id": "4b882f28-eaf9-47da-8212-a90306f5fb5f",
   "metadata": {},
   "outputs": [],
   "source": []
  },
  {
   "cell_type": "code",
   "execution_count": null,
   "id": "92b214cc-aee3-455e-ae0d-4798563f14b1",
   "metadata": {},
   "outputs": [],
   "source": []
  },
  {
   "cell_type": "code",
   "execution_count": null,
   "id": "969cbc16-1e22-47e4-88bd-02078c1673f8",
   "metadata": {},
   "outputs": [],
   "source": []
  },
  {
   "cell_type": "code",
   "execution_count": null,
   "id": "94fd1a02-b214-4dd7-b589-1def56da4679",
   "metadata": {},
   "outputs": [],
   "source": []
  },
  {
   "cell_type": "code",
   "execution_count": null,
   "id": "e27782a3-d0b6-47e4-a599-5a2a1266eeec",
   "metadata": {
    "tags": []
   },
   "outputs": [],
   "source": [
    "# scale the columns using minmaxscaler\n",
    "from sklearn.preprocessing import StandardScaler"
   ]
  },
  {
   "cell_type": "code",
   "execution_count": null,
   "id": "e14c7588-3580-427e-943d-2bd96f198324",
   "metadata": {
    "tags": []
   },
   "outputs": [],
   "source": [
    "# create the object: \n",
    "train_scaled = train.copy()\n",
    "scaler = StandardScaler()"
   ]
  },
  {
   "cell_type": "code",
   "execution_count": null,
   "id": "4a4320fa-a8ac-4e25-b3c0-ee2df3093cd7",
   "metadata": {
    "tags": []
   },
   "outputs": [],
   "source": [
    "# fit and transform the object\n",
    "train_scaled[num_cols] = scaler.fit_transform(train[num_cols])"
   ]
  },
  {
   "cell_type": "code",
   "execution_count": null,
   "id": "5d95f553-1ec7-45b7-945e-25ff9de2837f",
   "metadata": {
    "tags": []
   },
   "outputs": [],
   "source": [
    "#correlation: \n",
    "train_corr = train_scaled[num_cols].corr(method='spearman')\n",
    "train_corr"
   ]
  },
  {
   "cell_type": "code",
   "execution_count": null,
   "id": "67eda1c4-21e1-4002-a22e-dce93405220d",
   "metadata": {
    "tags": []
   },
   "outputs": [],
   "source": [
    "sns.heatmap(train_corr, cmap= 'YlGnBu', annot=True, linewidth=0.5,\n",
    "           mask = np.triu(train_corr))"
   ]
  },
  {
   "cell_type": "code",
   "execution_count": null,
   "id": "440f7f5d-f706-4cc4-bcd2-18346f076e68",
   "metadata": {
    "tags": []
   },
   "outputs": [],
   "source": [
    "0"
   ]
  }
 ],
 "metadata": {
  "kernelspec": {
   "display_name": "Python 3 (ipykernel)",
   "language": "python",
   "name": "python3"
  },
  "language_info": {
   "codemirror_mode": {
    "name": "ipython",
    "version": 3
   },
   "file_extension": ".py",
   "mimetype": "text/x-python",
   "name": "python",
   "nbconvert_exporter": "python",
   "pygments_lexer": "ipython3",
   "version": "3.11.4"
  }
 },
 "nbformat": 4,
 "nbformat_minor": 5
}
