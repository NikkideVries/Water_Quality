{
 "cells": [
  {
   "cell_type": "code",
   "execution_count": 1,
   "id": "177494d3-fbad-46a0-9810-28071b2c0c43",
   "metadata": {
    "tags": []
   },
   "outputs": [],
   "source": [
    "# imports: \n",
    "import numpy as np\n",
    "import pandas as pd\n",
    "import wrangle as wr\n",
    "\n",
    "# feature selection: \n",
    "from sklearn.feature_selection import SelectKBest, \\\n",
    "RFE, f_regression, SequentialFeatureSelector\n",
    "\n",
    "from sklearn.linear_model import LinearRegression\n",
    "\n",
    "\n",
    "import warnings\n",
    "warnings.filterwarnings(\"ignore\")\n",
    "\n",
    "import matplotlib.pyplot as plt\n",
    "\n",
    "# imports for modeling\n",
    "from sklearn.metrics import accuracy_score\n",
    "from sklearn.metrics import f1_score\n",
    "from sklearn.metrics import confusion_matrix\n",
    "from sklearn.metrics import classification_report\n",
    "from sklearn.metrics import ConfusionMatrixDisplay\n",
    "\n",
    "# for knn\n",
    "from sklearn.neighbors import KNeighborsClassifier\n",
    "\n",
    "# for decision tree\n",
    "from sklearn.tree import DecisionTreeClassifier\n",
    "from sklearn.tree import plot_tree\n",
    "\n",
    "# for random forest\n",
    "from sklearn.ensemble import RandomForestClassifier\n",
    "\n",
    "# for logistic regression\n",
    "from sklearn.linear_model import LogisticRegression"
   ]
  },
  {
   "cell_type": "code",
   "execution_count": 2,
   "id": "8c1775c1-c549-4956-bc99-795fecce178c",
   "metadata": {
    "tags": []
   },
   "outputs": [],
   "source": [
    "# acquire the data: \n",
    "df = wr.acquire_water()"
   ]
  },
  {
   "cell_type": "code",
   "execution_count": 3,
   "id": "8447ee00-a24d-4db7-9d78-9c5f7e6e731b",
   "metadata": {
    "tags": []
   },
   "outputs": [],
   "source": [
    "# prep the data:\n",
    "df = wr.prep_water(df)"
   ]
  },
  {
   "cell_type": "code",
   "execution_count": 4,
   "id": "1c5bcc0d-b5e1-4c81-8c09-06c1bfbdf4b1",
   "metadata": {
    "tags": []
   },
   "outputs": [],
   "source": [
    "# add the bins: \n",
    "df = wr.safe_water(df)"
   ]
  },
  {
   "cell_type": "code",
   "execution_count": 5,
   "id": "4458ced5-61cc-45e1-a9cd-79fe67c055c8",
   "metadata": {
    "tags": []
   },
   "outputs": [],
   "source": [
    "# need to create dummies; \n",
    "def create_dummies(df): \n",
    "    dummies_list = []\n",
    "    cat_cols = ['ph_range',\n",
    "                 'hardness_range',\n",
    "                 'solids_range',\n",
    "                 'chloramines_range',\n",
    "                 'sulfate_range',\n",
    "                 'conductivity_rage',\n",
    "                 'organic_car_range',\n",
    "                 'trihalomethanes_range',\n",
    "                 'turbidity_range']\n",
    "    for col in cat_cols:\n",
    "        dummies = pd.get_dummies(df[col], prefix=col, drop_first=True)\n",
    "        dummies_list.append(dummies)\n",
    "    df = pd.concat([df] + dummies_list, axis = 1)\n",
    "    return df\n",
    "                "
   ]
  },
  {
   "cell_type": "code",
   "execution_count": 6,
   "id": "9b6c40f9-f8d1-4ad0-97d0-5f611273ddcf",
   "metadata": {
    "tags": []
   },
   "outputs": [
    {
     "data": {
      "text/html": [
       "<div>\n",
       "<style scoped>\n",
       "    .dataframe tbody tr th:only-of-type {\n",
       "        vertical-align: middle;\n",
       "    }\n",
       "\n",
       "    .dataframe tbody tr th {\n",
       "        vertical-align: top;\n",
       "    }\n",
       "\n",
       "    .dataframe thead th {\n",
       "        text-align: right;\n",
       "    }\n",
       "</style>\n",
       "<table border=\"1\" class=\"dataframe\">\n",
       "  <thead>\n",
       "    <tr style=\"text-align: right;\">\n",
       "      <th></th>\n",
       "      <th>ph</th>\n",
       "      <th>hardness</th>\n",
       "      <th>solids</th>\n",
       "      <th>chloramines</th>\n",
       "      <th>sulfate</th>\n",
       "      <th>conductivity</th>\n",
       "      <th>organic_carbon</th>\n",
       "      <th>trihalomethanes</th>\n",
       "      <th>turbidity</th>\n",
       "      <th>potability</th>\n",
       "      <th>...</th>\n",
       "      <th>solids_range_good</th>\n",
       "      <th>solids_range_fair</th>\n",
       "      <th>solids_range_poor</th>\n",
       "      <th>solids_range_unacceptable</th>\n",
       "      <th>chloramines_range_high</th>\n",
       "      <th>sulfate_range_high</th>\n",
       "      <th>conductivity_rage_high</th>\n",
       "      <th>organic_car_range_high</th>\n",
       "      <th>trihalomethanes_range_high</th>\n",
       "      <th>turbidity_range_high</th>\n",
       "    </tr>\n",
       "  </thead>\n",
       "  <tbody>\n",
       "    <tr>\n",
       "      <th>3</th>\n",
       "      <td>8.32</td>\n",
       "      <td>214.37</td>\n",
       "      <td>22018.42</td>\n",
       "      <td>8.06</td>\n",
       "      <td>356.89</td>\n",
       "      <td>363.27</td>\n",
       "      <td>18.44</td>\n",
       "      <td>100.34</td>\n",
       "      <td>4.63</td>\n",
       "      <td>0</td>\n",
       "      <td>...</td>\n",
       "      <td>0</td>\n",
       "      <td>0</td>\n",
       "      <td>0</td>\n",
       "      <td>1</td>\n",
       "      <td>1</td>\n",
       "      <td>1</td>\n",
       "      <td>0</td>\n",
       "      <td>1</td>\n",
       "      <td>1</td>\n",
       "      <td>0</td>\n",
       "    </tr>\n",
       "    <tr>\n",
       "      <th>4</th>\n",
       "      <td>9.09</td>\n",
       "      <td>181.10</td>\n",
       "      <td>17978.99</td>\n",
       "      <td>6.55</td>\n",
       "      <td>310.14</td>\n",
       "      <td>398.41</td>\n",
       "      <td>11.56</td>\n",
       "      <td>32.00</td>\n",
       "      <td>4.08</td>\n",
       "      <td>0</td>\n",
       "      <td>...</td>\n",
       "      <td>0</td>\n",
       "      <td>0</td>\n",
       "      <td>0</td>\n",
       "      <td>1</td>\n",
       "      <td>1</td>\n",
       "      <td>1</td>\n",
       "      <td>0</td>\n",
       "      <td>1</td>\n",
       "      <td>0</td>\n",
       "      <td>0</td>\n",
       "    </tr>\n",
       "    <tr>\n",
       "      <th>5</th>\n",
       "      <td>5.58</td>\n",
       "      <td>188.31</td>\n",
       "      <td>28748.69</td>\n",
       "      <td>7.54</td>\n",
       "      <td>326.68</td>\n",
       "      <td>280.47</td>\n",
       "      <td>8.40</td>\n",
       "      <td>54.92</td>\n",
       "      <td>2.56</td>\n",
       "      <td>0</td>\n",
       "      <td>...</td>\n",
       "      <td>0</td>\n",
       "      <td>0</td>\n",
       "      <td>0</td>\n",
       "      <td>1</td>\n",
       "      <td>1</td>\n",
       "      <td>1</td>\n",
       "      <td>0</td>\n",
       "      <td>1</td>\n",
       "      <td>0</td>\n",
       "      <td>0</td>\n",
       "    </tr>\n",
       "    <tr>\n",
       "      <th>6</th>\n",
       "      <td>10.22</td>\n",
       "      <td>248.07</td>\n",
       "      <td>28749.72</td>\n",
       "      <td>7.51</td>\n",
       "      <td>393.66</td>\n",
       "      <td>283.65</td>\n",
       "      <td>13.79</td>\n",
       "      <td>84.60</td>\n",
       "      <td>2.67</td>\n",
       "      <td>0</td>\n",
       "      <td>...</td>\n",
       "      <td>0</td>\n",
       "      <td>0</td>\n",
       "      <td>0</td>\n",
       "      <td>1</td>\n",
       "      <td>1</td>\n",
       "      <td>1</td>\n",
       "      <td>0</td>\n",
       "      <td>1</td>\n",
       "      <td>1</td>\n",
       "      <td>0</td>\n",
       "    </tr>\n",
       "    <tr>\n",
       "      <th>7</th>\n",
       "      <td>8.64</td>\n",
       "      <td>203.36</td>\n",
       "      <td>13672.09</td>\n",
       "      <td>4.56</td>\n",
       "      <td>303.31</td>\n",
       "      <td>474.61</td>\n",
       "      <td>12.36</td>\n",
       "      <td>62.80</td>\n",
       "      <td>4.40</td>\n",
       "      <td>0</td>\n",
       "      <td>...</td>\n",
       "      <td>0</td>\n",
       "      <td>0</td>\n",
       "      <td>0</td>\n",
       "      <td>1</td>\n",
       "      <td>1</td>\n",
       "      <td>1</td>\n",
       "      <td>1</td>\n",
       "      <td>1</td>\n",
       "      <td>0</td>\n",
       "      <td>0</td>\n",
       "    </tr>\n",
       "    <tr>\n",
       "      <th>...</th>\n",
       "      <td>...</td>\n",
       "      <td>...</td>\n",
       "      <td>...</td>\n",
       "      <td>...</td>\n",
       "      <td>...</td>\n",
       "      <td>...</td>\n",
       "      <td>...</td>\n",
       "      <td>...</td>\n",
       "      <td>...</td>\n",
       "      <td>...</td>\n",
       "      <td>...</td>\n",
       "      <td>...</td>\n",
       "      <td>...</td>\n",
       "      <td>...</td>\n",
       "      <td>...</td>\n",
       "      <td>...</td>\n",
       "      <td>...</td>\n",
       "      <td>...</td>\n",
       "      <td>...</td>\n",
       "      <td>...</td>\n",
       "      <td>...</td>\n",
       "    </tr>\n",
       "    <tr>\n",
       "      <th>3267</th>\n",
       "      <td>8.99</td>\n",
       "      <td>215.05</td>\n",
       "      <td>15921.41</td>\n",
       "      <td>6.30</td>\n",
       "      <td>312.93</td>\n",
       "      <td>390.41</td>\n",
       "      <td>9.90</td>\n",
       "      <td>55.07</td>\n",
       "      <td>4.61</td>\n",
       "      <td>1</td>\n",
       "      <td>...</td>\n",
       "      <td>0</td>\n",
       "      <td>0</td>\n",
       "      <td>0</td>\n",
       "      <td>1</td>\n",
       "      <td>1</td>\n",
       "      <td>1</td>\n",
       "      <td>0</td>\n",
       "      <td>1</td>\n",
       "      <td>0</td>\n",
       "      <td>0</td>\n",
       "    </tr>\n",
       "    <tr>\n",
       "      <th>3268</th>\n",
       "      <td>6.70</td>\n",
       "      <td>207.32</td>\n",
       "      <td>17246.92</td>\n",
       "      <td>7.71</td>\n",
       "      <td>304.51</td>\n",
       "      <td>329.27</td>\n",
       "      <td>16.22</td>\n",
       "      <td>28.88</td>\n",
       "      <td>3.44</td>\n",
       "      <td>1</td>\n",
       "      <td>...</td>\n",
       "      <td>0</td>\n",
       "      <td>0</td>\n",
       "      <td>0</td>\n",
       "      <td>1</td>\n",
       "      <td>1</td>\n",
       "      <td>1</td>\n",
       "      <td>0</td>\n",
       "      <td>1</td>\n",
       "      <td>0</td>\n",
       "      <td>0</td>\n",
       "    </tr>\n",
       "    <tr>\n",
       "      <th>3269</th>\n",
       "      <td>11.49</td>\n",
       "      <td>94.81</td>\n",
       "      <td>37188.83</td>\n",
       "      <td>9.26</td>\n",
       "      <td>258.93</td>\n",
       "      <td>439.89</td>\n",
       "      <td>16.17</td>\n",
       "      <td>41.56</td>\n",
       "      <td>4.37</td>\n",
       "      <td>1</td>\n",
       "      <td>...</td>\n",
       "      <td>0</td>\n",
       "      <td>0</td>\n",
       "      <td>0</td>\n",
       "      <td>1</td>\n",
       "      <td>1</td>\n",
       "      <td>1</td>\n",
       "      <td>1</td>\n",
       "      <td>1</td>\n",
       "      <td>0</td>\n",
       "      <td>0</td>\n",
       "    </tr>\n",
       "    <tr>\n",
       "      <th>3270</th>\n",
       "      <td>6.07</td>\n",
       "      <td>186.66</td>\n",
       "      <td>26138.78</td>\n",
       "      <td>7.75</td>\n",
       "      <td>345.70</td>\n",
       "      <td>415.89</td>\n",
       "      <td>12.07</td>\n",
       "      <td>60.42</td>\n",
       "      <td>3.67</td>\n",
       "      <td>1</td>\n",
       "      <td>...</td>\n",
       "      <td>0</td>\n",
       "      <td>0</td>\n",
       "      <td>0</td>\n",
       "      <td>1</td>\n",
       "      <td>1</td>\n",
       "      <td>1</td>\n",
       "      <td>1</td>\n",
       "      <td>1</td>\n",
       "      <td>0</td>\n",
       "      <td>0</td>\n",
       "    </tr>\n",
       "    <tr>\n",
       "      <th>3271</th>\n",
       "      <td>4.67</td>\n",
       "      <td>193.68</td>\n",
       "      <td>47580.99</td>\n",
       "      <td>7.17</td>\n",
       "      <td>359.95</td>\n",
       "      <td>526.42</td>\n",
       "      <td>13.89</td>\n",
       "      <td>66.69</td>\n",
       "      <td>4.44</td>\n",
       "      <td>1</td>\n",
       "      <td>...</td>\n",
       "      <td>0</td>\n",
       "      <td>0</td>\n",
       "      <td>0</td>\n",
       "      <td>1</td>\n",
       "      <td>1</td>\n",
       "      <td>1</td>\n",
       "      <td>1</td>\n",
       "      <td>1</td>\n",
       "      <td>0</td>\n",
       "      <td>0</td>\n",
       "    </tr>\n",
       "  </tbody>\n",
       "</table>\n",
       "<p>2011 rows × 35 columns</p>\n",
       "</div>"
      ],
      "text/plain": [
       "         ph  hardness    solids  chloramines  sulfate  conductivity  \\\n",
       "3      8.32    214.37  22018.42         8.06   356.89        363.27   \n",
       "4      9.09    181.10  17978.99         6.55   310.14        398.41   \n",
       "5      5.58    188.31  28748.69         7.54   326.68        280.47   \n",
       "6     10.22    248.07  28749.72         7.51   393.66        283.65   \n",
       "7      8.64    203.36  13672.09         4.56   303.31        474.61   \n",
       "...     ...       ...       ...          ...      ...           ...   \n",
       "3267   8.99    215.05  15921.41         6.30   312.93        390.41   \n",
       "3268   6.70    207.32  17246.92         7.71   304.51        329.27   \n",
       "3269  11.49     94.81  37188.83         9.26   258.93        439.89   \n",
       "3270   6.07    186.66  26138.78         7.75   345.70        415.89   \n",
       "3271   4.67    193.68  47580.99         7.17   359.95        526.42   \n",
       "\n",
       "      organic_carbon  trihalomethanes  turbidity  potability  ...  \\\n",
       "3              18.44           100.34       4.63           0  ...   \n",
       "4              11.56            32.00       4.08           0  ...   \n",
       "5               8.40            54.92       2.56           0  ...   \n",
       "6              13.79            84.60       2.67           0  ...   \n",
       "7              12.36            62.80       4.40           0  ...   \n",
       "...              ...              ...        ...         ...  ...   \n",
       "3267            9.90            55.07       4.61           1  ...   \n",
       "3268           16.22            28.88       3.44           1  ...   \n",
       "3269           16.17            41.56       4.37           1  ...   \n",
       "3270           12.07            60.42       3.67           1  ...   \n",
       "3271           13.89            66.69       4.44           1  ...   \n",
       "\n",
       "     solids_range_good solids_range_fair solids_range_poor  \\\n",
       "3                    0                 0                 0   \n",
       "4                    0                 0                 0   \n",
       "5                    0                 0                 0   \n",
       "6                    0                 0                 0   \n",
       "7                    0                 0                 0   \n",
       "...                ...               ...               ...   \n",
       "3267                 0                 0                 0   \n",
       "3268                 0                 0                 0   \n",
       "3269                 0                 0                 0   \n",
       "3270                 0                 0                 0   \n",
       "3271                 0                 0                 0   \n",
       "\n",
       "     solids_range_unacceptable chloramines_range_high sulfate_range_high  \\\n",
       "3                            1                      1                  1   \n",
       "4                            1                      1                  1   \n",
       "5                            1                      1                  1   \n",
       "6                            1                      1                  1   \n",
       "7                            1                      1                  1   \n",
       "...                        ...                    ...                ...   \n",
       "3267                         1                      1                  1   \n",
       "3268                         1                      1                  1   \n",
       "3269                         1                      1                  1   \n",
       "3270                         1                      1                  1   \n",
       "3271                         1                      1                  1   \n",
       "\n",
       "     conductivity_rage_high organic_car_range_high trihalomethanes_range_high  \\\n",
       "3                         0                      1                          1   \n",
       "4                         0                      1                          0   \n",
       "5                         0                      1                          0   \n",
       "6                         0                      1                          1   \n",
       "7                         1                      1                          0   \n",
       "...                     ...                    ...                        ...   \n",
       "3267                      0                      1                          0   \n",
       "3268                      0                      1                          0   \n",
       "3269                      1                      1                          0   \n",
       "3270                      1                      1                          0   \n",
       "3271                      1                      1                          0   \n",
       "\n",
       "      turbidity_range_high  \n",
       "3                        0  \n",
       "4                        0  \n",
       "5                        0  \n",
       "6                        0  \n",
       "7                        0  \n",
       "...                    ...  \n",
       "3267                     0  \n",
       "3268                     0  \n",
       "3269                     0  \n",
       "3270                     0  \n",
       "3271                     0  \n",
       "\n",
       "[2011 rows x 35 columns]"
      ]
     },
     "execution_count": 6,
     "metadata": {},
     "output_type": "execute_result"
    }
   ],
   "source": [
    "df = create_dummies(df)\n",
    "df"
   ]
  },
  {
   "cell_type": "code",
   "execution_count": 7,
   "id": "f2c671d3-ba68-4337-91f4-c084a16ebde5",
   "metadata": {
    "tags": []
   },
   "outputs": [],
   "source": [
    "# split the data\n",
    "train, validate, test = wr.split_water(df)"
   ]
  },
  {
   "cell_type": "code",
   "execution_count": 8,
   "id": "d0ecc395-4dae-4537-9478-6f58dcff0931",
   "metadata": {
    "tags": []
   },
   "outputs": [],
   "source": [
    "from sklearn.model_selection import train_test_split"
   ]
  },
  {
   "cell_type": "code",
   "execution_count": 9,
   "id": "fd4b9a5d-5aec-49de-b097-3df91eea142c",
   "metadata": {
    "tags": []
   },
   "outputs": [],
   "source": [
    "# need to drop non dummy columns\n",
    "def drop_columns(train, val, test):\n",
    "    \n",
    "    dropcols = ['ph_range',\n",
    " 'hardness_range',\n",
    " 'solids_range',\n",
    " 'chloramines_range',\n",
    " 'sulfate_range',\n",
    " 'conductivity_rage',\n",
    " 'organic_car_range',\n",
    " 'trihalomethanes_range',\n",
    " 'turbidity_range']\n",
    "    \n",
    "    train.drop(columns = dropcols, inplace = True)\n",
    "    val.drop(columns = dropcols, inplace=True)\n",
    "    test.drop(columns = dropcols, inplace=True)\n",
    "    return train, val, test"
   ]
  },
  {
   "cell_type": "code",
   "execution_count": 10,
   "id": "6e094b92-d19a-43fc-a06f-155086b4bc88",
   "metadata": {
    "tags": []
   },
   "outputs": [],
   "source": [
    "train, validate, test = drop_columns(train, validate, test)"
   ]
  },
  {
   "cell_type": "code",
   "execution_count": 11,
   "id": "a8024440-6b49-47f2-8ce8-aacc894d915a",
   "metadata": {
    "tags": []
   },
   "outputs": [
    {
     "data": {
      "text/plain": [
       "Index(['ph', 'hardness', 'solids', 'chloramines', 'sulfate', 'conductivity',\n",
       "       'organic_carbon', 'trihalomethanes', 'turbidity', 'potability',\n",
       "       'ph_range', 'hardness_range', 'solids_range', 'chloramines_range',\n",
       "       'sulfate_range', 'conductivity_rage', 'organic_car_range',\n",
       "       'trihalomethanes_range', 'turbidity_range', 'ph_range_safe',\n",
       "       'ph_range_basic', 'hardness_range_slightly_hard',\n",
       "       'hardness_range_moderately_hard', 'hardness_range_hard',\n",
       "       'hardness_range_very_hard', 'solids_range_good', 'solids_range_fair',\n",
       "       'solids_range_poor', 'solids_range_unacceptable',\n",
       "       'chloramines_range_high', 'sulfate_range_high',\n",
       "       'conductivity_rage_high', 'organic_car_range_high',\n",
       "       'trihalomethanes_range_high', 'turbidity_range_high'],\n",
       "      dtype='object')"
      ]
     },
     "execution_count": 11,
     "metadata": {},
     "output_type": "execute_result"
    }
   ],
   "source": [
    "df.columns"
   ]
  },
  {
   "cell_type": "code",
   "execution_count": 12,
   "id": "9e68a5eb-4c13-4fe3-bfc9-13f5280f3735",
   "metadata": {
    "tags": []
   },
   "outputs": [],
   "source": [
    "# split data in X_train, and y_train\n",
    "X_train = train.drop(columns = 'potability')\n",
    "y_train = train[['potability']]\n",
    "\n",
    "X_validate = validate.drop(columns = 'potability')\n",
    "y_validate = validate[['potability']]\n",
    "\n",
    "X_test = test.drop(columns = 'potability')\n",
    "y_test = test[['potability']]"
   ]
  },
  {
   "cell_type": "markdown",
   "id": "56f5e8a6-9323-4159-b663-1c00d7abf7cf",
   "metadata": {},
   "source": [
    "# Feature Engineering:"
   ]
  },
  {
   "cell_type": "code",
   "execution_count": 13,
   "id": "c504f835-5797-4489-a46c-161634f0d798",
   "metadata": {
    "tags": []
   },
   "outputs": [
    {
     "data": {
      "text/html": [
       "<style>#sk-container-id-1 {color: black;}#sk-container-id-1 pre{padding: 0;}#sk-container-id-1 div.sk-toggleable {background-color: white;}#sk-container-id-1 label.sk-toggleable__label {cursor: pointer;display: block;width: 100%;margin-bottom: 0;padding: 0.3em;box-sizing: border-box;text-align: center;}#sk-container-id-1 label.sk-toggleable__label-arrow:before {content: \"▸\";float: left;margin-right: 0.25em;color: #696969;}#sk-container-id-1 label.sk-toggleable__label-arrow:hover:before {color: black;}#sk-container-id-1 div.sk-estimator:hover label.sk-toggleable__label-arrow:before {color: black;}#sk-container-id-1 div.sk-toggleable__content {max-height: 0;max-width: 0;overflow: hidden;text-align: left;background-color: #f0f8ff;}#sk-container-id-1 div.sk-toggleable__content pre {margin: 0.2em;color: black;border-radius: 0.25em;background-color: #f0f8ff;}#sk-container-id-1 input.sk-toggleable__control:checked~div.sk-toggleable__content {max-height: 200px;max-width: 100%;overflow: auto;}#sk-container-id-1 input.sk-toggleable__control:checked~label.sk-toggleable__label-arrow:before {content: \"▾\";}#sk-container-id-1 div.sk-estimator input.sk-toggleable__control:checked~label.sk-toggleable__label {background-color: #d4ebff;}#sk-container-id-1 div.sk-label input.sk-toggleable__control:checked~label.sk-toggleable__label {background-color: #d4ebff;}#sk-container-id-1 input.sk-hidden--visually {border: 0;clip: rect(1px 1px 1px 1px);clip: rect(1px, 1px, 1px, 1px);height: 1px;margin: -1px;overflow: hidden;padding: 0;position: absolute;width: 1px;}#sk-container-id-1 div.sk-estimator {font-family: monospace;background-color: #f0f8ff;border: 1px dotted black;border-radius: 0.25em;box-sizing: border-box;margin-bottom: 0.5em;}#sk-container-id-1 div.sk-estimator:hover {background-color: #d4ebff;}#sk-container-id-1 div.sk-parallel-item::after {content: \"\";width: 100%;border-bottom: 1px solid gray;flex-grow: 1;}#sk-container-id-1 div.sk-label:hover label.sk-toggleable__label {background-color: #d4ebff;}#sk-container-id-1 div.sk-serial::before {content: \"\";position: absolute;border-left: 1px solid gray;box-sizing: border-box;top: 0;bottom: 0;left: 50%;z-index: 0;}#sk-container-id-1 div.sk-serial {display: flex;flex-direction: column;align-items: center;background-color: white;padding-right: 0.2em;padding-left: 0.2em;position: relative;}#sk-container-id-1 div.sk-item {position: relative;z-index: 1;}#sk-container-id-1 div.sk-parallel {display: flex;align-items: stretch;justify-content: center;background-color: white;position: relative;}#sk-container-id-1 div.sk-item::before, #sk-container-id-1 div.sk-parallel-item::before {content: \"\";position: absolute;border-left: 1px solid gray;box-sizing: border-box;top: 0;bottom: 0;left: 50%;z-index: -1;}#sk-container-id-1 div.sk-parallel-item {display: flex;flex-direction: column;z-index: 1;position: relative;background-color: white;}#sk-container-id-1 div.sk-parallel-item:first-child::after {align-self: flex-end;width: 50%;}#sk-container-id-1 div.sk-parallel-item:last-child::after {align-self: flex-start;width: 50%;}#sk-container-id-1 div.sk-parallel-item:only-child::after {width: 0;}#sk-container-id-1 div.sk-dashed-wrapped {border: 1px dashed gray;margin: 0 0.4em 0.5em 0.4em;box-sizing: border-box;padding-bottom: 0.4em;background-color: white;}#sk-container-id-1 div.sk-label label {font-family: monospace;font-weight: bold;display: inline-block;line-height: 1.2em;}#sk-container-id-1 div.sk-label-container {text-align: center;}#sk-container-id-1 div.sk-container {/* jupyter's `normalize.less` sets `[hidden] { display: none; }` but bootstrap.min.css set `[hidden] { display: none !important; }` so we also need the `!important` here to be able to override the default hidden behavior on the sphinx rendered scikit-learn.org. See: https://github.com/scikit-learn/scikit-learn/issues/21755 */display: inline-block !important;position: relative;}#sk-container-id-1 div.sk-text-repr-fallback {display: none;}</style><div id=\"sk-container-id-1\" class=\"sk-top-container\"><div class=\"sk-text-repr-fallback\"><pre>SelectKBest(k=2, score_func=&lt;function f_regression at 0x161b4f2e0&gt;)</pre><b>In a Jupyter environment, please rerun this cell to show the HTML representation or trust the notebook. <br />On GitHub, the HTML representation is unable to render, please try loading this page with nbviewer.org.</b></div><div class=\"sk-container\" hidden><div class=\"sk-item\"><div class=\"sk-estimator sk-toggleable\"><input class=\"sk-toggleable__control sk-hidden--visually\" id=\"sk-estimator-id-1\" type=\"checkbox\" checked><label for=\"sk-estimator-id-1\" class=\"sk-toggleable__label sk-toggleable__label-arrow\">SelectKBest</label><div class=\"sk-toggleable__content\"><pre>SelectKBest(k=2, score_func=&lt;function f_regression at 0x161b4f2e0&gt;)</pre></div></div></div></div></div>"
      ],
      "text/plain": [
       "SelectKBest(k=2, score_func=<function f_regression at 0x161b4f2e0>)"
      ]
     },
     "execution_count": 13,
     "metadata": {},
     "output_type": "execute_result"
    }
   ],
   "source": [
    "# Select K-best: \n",
    "kbest = SelectKBest(f_regression, k = 2)\n",
    "\n",
    "# fit the thing: \n",
    "kbest.fit(X_train, y_train)"
   ]
  },
  {
   "cell_type": "code",
   "execution_count": 14,
   "id": "87dfbed1-bd93-4ef9-8a12-2924e208f0b6",
   "metadata": {
    "tags": []
   },
   "outputs": [
    {
     "data": {
      "text/plain": [
       "array([0.28089469, 0.54203547, 1.67963804, 3.37603307, 0.44668075,\n",
       "       1.84300057, 0.28437023, 0.10380437, 0.0244078 , 7.49394409,\n",
       "       2.67420243, 0.        , 3.30035314, 0.33286598, 1.20419496,\n",
       "       0.        , 0.        , 0.        , 0.        , 0.26945535,\n",
       "       1.96984464, 1.53530192, 0.        , 0.16746606, 0.01346066])"
      ]
     },
     "execution_count": 14,
     "metadata": {},
     "output_type": "execute_result"
    }
   ],
   "source": [
    "# statiscal f-value / featurer's scores:\n",
    "kbest.scores_"
   ]
  },
  {
   "cell_type": "code",
   "execution_count": 15,
   "id": "3ce49024-b7ab-4856-9433-931a2d172481",
   "metadata": {
    "tags": []
   },
   "outputs": [
    {
     "data": {
      "text/plain": [
       "array([0.59622017, 0.46174414, 0.19523884, 0.06641518, 0.50405279,\n",
       "       0.1748724 , 0.59395653, 0.7473711 , 0.87587985, 0.00628846,\n",
       "       0.10226664, 1.        , 0.06953147, 0.56409198, 0.27272009,\n",
       "       1.        , 1.        , 1.        , 1.        , 0.60379964,\n",
       "       0.1607408 , 0.21557736, 1.        , 0.68245172, 0.90765738])"
      ]
     },
     "execution_count": 15,
     "metadata": {},
     "output_type": "execute_result"
    }
   ],
   "source": [
    "# p value: \n",
    "kbest.pvalues_"
   ]
  },
  {
   "cell_type": "code",
   "execution_count": 16,
   "id": "de7ad41c-445f-45de-b27e-95ae250f33e5",
   "metadata": {
    "tags": []
   },
   "outputs": [
    {
     "data": {
      "text/plain": [
       "array(['ph', 'hardness', 'solids', 'chloramines', 'sulfate',\n",
       "       'conductivity', 'organic_carbon', 'trihalomethanes', 'turbidity',\n",
       "       'ph_range_safe', 'ph_range_basic', 'hardness_range_slightly_hard',\n",
       "       'hardness_range_moderately_hard', 'hardness_range_hard',\n",
       "       'hardness_range_very_hard', 'solids_range_good',\n",
       "       'solids_range_fair', 'solids_range_poor',\n",
       "       'solids_range_unacceptable', 'chloramines_range_high',\n",
       "       'sulfate_range_high', 'conductivity_rage_high',\n",
       "       'organic_car_range_high', 'trihalomethanes_range_high',\n",
       "       'turbidity_range_high'], dtype=object)"
      ]
     },
     "execution_count": 16,
     "metadata": {},
     "output_type": "execute_result"
    }
   ],
   "source": [
    "# get the names of the features its looking at: \n",
    "kbest.feature_names_in_"
   ]
  },
  {
   "cell_type": "code",
   "execution_count": 17,
   "id": "29bbd2ba-48dd-4613-bdc2-d82d672d7883",
   "metadata": {
    "tags": []
   },
   "outputs": [],
   "source": [
    "kbest_results = pd.DataFrame(\n",
    "                dict(p=kbest.pvalues_, f=kbest.scores_),\n",
    "                                        index = X_train.columns)"
   ]
  },
  {
   "cell_type": "code",
   "execution_count": 18,
   "id": "47fa4578-6efa-4fca-b738-3e20cb56b1f2",
   "metadata": {
    "tags": []
   },
   "outputs": [
    {
     "data": {
      "text/html": [
       "<div>\n",
       "<style scoped>\n",
       "    .dataframe tbody tr th:only-of-type {\n",
       "        vertical-align: middle;\n",
       "    }\n",
       "\n",
       "    .dataframe tbody tr th {\n",
       "        vertical-align: top;\n",
       "    }\n",
       "\n",
       "    .dataframe thead th {\n",
       "        text-align: right;\n",
       "    }\n",
       "</style>\n",
       "<table border=\"1\" class=\"dataframe\">\n",
       "  <thead>\n",
       "    <tr style=\"text-align: right;\">\n",
       "      <th></th>\n",
       "      <th>p</th>\n",
       "      <th>f</th>\n",
       "    </tr>\n",
       "  </thead>\n",
       "  <tbody>\n",
       "    <tr>\n",
       "      <th>ph</th>\n",
       "      <td>0.596220</td>\n",
       "      <td>0.280895</td>\n",
       "    </tr>\n",
       "    <tr>\n",
       "      <th>hardness</th>\n",
       "      <td>0.461744</td>\n",
       "      <td>0.542035</td>\n",
       "    </tr>\n",
       "    <tr>\n",
       "      <th>solids</th>\n",
       "      <td>0.195239</td>\n",
       "      <td>1.679638</td>\n",
       "    </tr>\n",
       "    <tr>\n",
       "      <th>chloramines</th>\n",
       "      <td>0.066415</td>\n",
       "      <td>3.376033</td>\n",
       "    </tr>\n",
       "    <tr>\n",
       "      <th>sulfate</th>\n",
       "      <td>0.504053</td>\n",
       "      <td>0.446681</td>\n",
       "    </tr>\n",
       "    <tr>\n",
       "      <th>conductivity</th>\n",
       "      <td>0.174872</td>\n",
       "      <td>1.843001</td>\n",
       "    </tr>\n",
       "    <tr>\n",
       "      <th>organic_carbon</th>\n",
       "      <td>0.593957</td>\n",
       "      <td>0.284370</td>\n",
       "    </tr>\n",
       "    <tr>\n",
       "      <th>trihalomethanes</th>\n",
       "      <td>0.747371</td>\n",
       "      <td>0.103804</td>\n",
       "    </tr>\n",
       "    <tr>\n",
       "      <th>turbidity</th>\n",
       "      <td>0.875880</td>\n",
       "      <td>0.024408</td>\n",
       "    </tr>\n",
       "    <tr>\n",
       "      <th>ph_range_safe</th>\n",
       "      <td>0.006288</td>\n",
       "      <td>7.493944</td>\n",
       "    </tr>\n",
       "    <tr>\n",
       "      <th>ph_range_basic</th>\n",
       "      <td>0.102267</td>\n",
       "      <td>2.674202</td>\n",
       "    </tr>\n",
       "    <tr>\n",
       "      <th>hardness_range_slightly_hard</th>\n",
       "      <td>1.000000</td>\n",
       "      <td>0.000000</td>\n",
       "    </tr>\n",
       "    <tr>\n",
       "      <th>hardness_range_moderately_hard</th>\n",
       "      <td>0.069531</td>\n",
       "      <td>3.300353</td>\n",
       "    </tr>\n",
       "    <tr>\n",
       "      <th>hardness_range_hard</th>\n",
       "      <td>0.564092</td>\n",
       "      <td>0.332866</td>\n",
       "    </tr>\n",
       "    <tr>\n",
       "      <th>hardness_range_very_hard</th>\n",
       "      <td>0.272720</td>\n",
       "      <td>1.204195</td>\n",
       "    </tr>\n",
       "    <tr>\n",
       "      <th>solids_range_good</th>\n",
       "      <td>1.000000</td>\n",
       "      <td>0.000000</td>\n",
       "    </tr>\n",
       "    <tr>\n",
       "      <th>solids_range_fair</th>\n",
       "      <td>1.000000</td>\n",
       "      <td>0.000000</td>\n",
       "    </tr>\n",
       "    <tr>\n",
       "      <th>solids_range_poor</th>\n",
       "      <td>1.000000</td>\n",
       "      <td>0.000000</td>\n",
       "    </tr>\n",
       "    <tr>\n",
       "      <th>solids_range_unacceptable</th>\n",
       "      <td>1.000000</td>\n",
       "      <td>0.000000</td>\n",
       "    </tr>\n",
       "    <tr>\n",
       "      <th>chloramines_range_high</th>\n",
       "      <td>0.603800</td>\n",
       "      <td>0.269455</td>\n",
       "    </tr>\n",
       "    <tr>\n",
       "      <th>sulfate_range_high</th>\n",
       "      <td>0.160741</td>\n",
       "      <td>1.969845</td>\n",
       "    </tr>\n",
       "    <tr>\n",
       "      <th>conductivity_rage_high</th>\n",
       "      <td>0.215577</td>\n",
       "      <td>1.535302</td>\n",
       "    </tr>\n",
       "    <tr>\n",
       "      <th>organic_car_range_high</th>\n",
       "      <td>1.000000</td>\n",
       "      <td>0.000000</td>\n",
       "    </tr>\n",
       "    <tr>\n",
       "      <th>trihalomethanes_range_high</th>\n",
       "      <td>0.682452</td>\n",
       "      <td>0.167466</td>\n",
       "    </tr>\n",
       "    <tr>\n",
       "      <th>turbidity_range_high</th>\n",
       "      <td>0.907657</td>\n",
       "      <td>0.013461</td>\n",
       "    </tr>\n",
       "  </tbody>\n",
       "</table>\n",
       "</div>"
      ],
      "text/plain": [
       "                                       p         f\n",
       "ph                              0.596220  0.280895\n",
       "hardness                        0.461744  0.542035\n",
       "solids                          0.195239  1.679638\n",
       "chloramines                     0.066415  3.376033\n",
       "sulfate                         0.504053  0.446681\n",
       "conductivity                    0.174872  1.843001\n",
       "organic_carbon                  0.593957  0.284370\n",
       "trihalomethanes                 0.747371  0.103804\n",
       "turbidity                       0.875880  0.024408\n",
       "ph_range_safe                   0.006288  7.493944\n",
       "ph_range_basic                  0.102267  2.674202\n",
       "hardness_range_slightly_hard    1.000000  0.000000\n",
       "hardness_range_moderately_hard  0.069531  3.300353\n",
       "hardness_range_hard             0.564092  0.332866\n",
       "hardness_range_very_hard        0.272720  1.204195\n",
       "solids_range_good               1.000000  0.000000\n",
       "solids_range_fair               1.000000  0.000000\n",
       "solids_range_poor               1.000000  0.000000\n",
       "solids_range_unacceptable       1.000000  0.000000\n",
       "chloramines_range_high          0.603800  0.269455\n",
       "sulfate_range_high              0.160741  1.969845\n",
       "conductivity_rage_high          0.215577  1.535302\n",
       "organic_car_range_high          1.000000  0.000000\n",
       "trihalomethanes_range_high      0.682452  0.167466\n",
       "turbidity_range_high            0.907657  0.013461"
      ]
     },
     "execution_count": 18,
     "metadata": {},
     "output_type": "execute_result"
    }
   ],
   "source": [
    "kbest_results"
   ]
  },
  {
   "cell_type": "code",
   "execution_count": 19,
   "id": "f83d312e-cb13-47cd-8cb9-9e4ff9e89b70",
   "metadata": {
    "tags": []
   },
   "outputs": [],
   "source": [
    "#RFE:\n",
    "model = LinearRegression()"
   ]
  },
  {
   "cell_type": "code",
   "execution_count": 20,
   "id": "91944058-72a6-42c7-b7e6-de32cb1e65fc",
   "metadata": {
    "tags": []
   },
   "outputs": [
    {
     "data": {
      "text/html": [
       "<style>#sk-container-id-2 {color: black;}#sk-container-id-2 pre{padding: 0;}#sk-container-id-2 div.sk-toggleable {background-color: white;}#sk-container-id-2 label.sk-toggleable__label {cursor: pointer;display: block;width: 100%;margin-bottom: 0;padding: 0.3em;box-sizing: border-box;text-align: center;}#sk-container-id-2 label.sk-toggleable__label-arrow:before {content: \"▸\";float: left;margin-right: 0.25em;color: #696969;}#sk-container-id-2 label.sk-toggleable__label-arrow:hover:before {color: black;}#sk-container-id-2 div.sk-estimator:hover label.sk-toggleable__label-arrow:before {color: black;}#sk-container-id-2 div.sk-toggleable__content {max-height: 0;max-width: 0;overflow: hidden;text-align: left;background-color: #f0f8ff;}#sk-container-id-2 div.sk-toggleable__content pre {margin: 0.2em;color: black;border-radius: 0.25em;background-color: #f0f8ff;}#sk-container-id-2 input.sk-toggleable__control:checked~div.sk-toggleable__content {max-height: 200px;max-width: 100%;overflow: auto;}#sk-container-id-2 input.sk-toggleable__control:checked~label.sk-toggleable__label-arrow:before {content: \"▾\";}#sk-container-id-2 div.sk-estimator input.sk-toggleable__control:checked~label.sk-toggleable__label {background-color: #d4ebff;}#sk-container-id-2 div.sk-label input.sk-toggleable__control:checked~label.sk-toggleable__label {background-color: #d4ebff;}#sk-container-id-2 input.sk-hidden--visually {border: 0;clip: rect(1px 1px 1px 1px);clip: rect(1px, 1px, 1px, 1px);height: 1px;margin: -1px;overflow: hidden;padding: 0;position: absolute;width: 1px;}#sk-container-id-2 div.sk-estimator {font-family: monospace;background-color: #f0f8ff;border: 1px dotted black;border-radius: 0.25em;box-sizing: border-box;margin-bottom: 0.5em;}#sk-container-id-2 div.sk-estimator:hover {background-color: #d4ebff;}#sk-container-id-2 div.sk-parallel-item::after {content: \"\";width: 100%;border-bottom: 1px solid gray;flex-grow: 1;}#sk-container-id-2 div.sk-label:hover label.sk-toggleable__label {background-color: #d4ebff;}#sk-container-id-2 div.sk-serial::before {content: \"\";position: absolute;border-left: 1px solid gray;box-sizing: border-box;top: 0;bottom: 0;left: 50%;z-index: 0;}#sk-container-id-2 div.sk-serial {display: flex;flex-direction: column;align-items: center;background-color: white;padding-right: 0.2em;padding-left: 0.2em;position: relative;}#sk-container-id-2 div.sk-item {position: relative;z-index: 1;}#sk-container-id-2 div.sk-parallel {display: flex;align-items: stretch;justify-content: center;background-color: white;position: relative;}#sk-container-id-2 div.sk-item::before, #sk-container-id-2 div.sk-parallel-item::before {content: \"\";position: absolute;border-left: 1px solid gray;box-sizing: border-box;top: 0;bottom: 0;left: 50%;z-index: -1;}#sk-container-id-2 div.sk-parallel-item {display: flex;flex-direction: column;z-index: 1;position: relative;background-color: white;}#sk-container-id-2 div.sk-parallel-item:first-child::after {align-self: flex-end;width: 50%;}#sk-container-id-2 div.sk-parallel-item:last-child::after {align-self: flex-start;width: 50%;}#sk-container-id-2 div.sk-parallel-item:only-child::after {width: 0;}#sk-container-id-2 div.sk-dashed-wrapped {border: 1px dashed gray;margin: 0 0.4em 0.5em 0.4em;box-sizing: border-box;padding-bottom: 0.4em;background-color: white;}#sk-container-id-2 div.sk-label label {font-family: monospace;font-weight: bold;display: inline-block;line-height: 1.2em;}#sk-container-id-2 div.sk-label-container {text-align: center;}#sk-container-id-2 div.sk-container {/* jupyter's `normalize.less` sets `[hidden] { display: none; }` but bootstrap.min.css set `[hidden] { display: none !important; }` so we also need the `!important` here to be able to override the default hidden behavior on the sphinx rendered scikit-learn.org. See: https://github.com/scikit-learn/scikit-learn/issues/21755 */display: inline-block !important;position: relative;}#sk-container-id-2 div.sk-text-repr-fallback {display: none;}</style><div id=\"sk-container-id-2\" class=\"sk-top-container\"><div class=\"sk-text-repr-fallback\"><pre>RFE(estimator=LinearRegression(), n_features_to_select=2)</pre><b>In a Jupyter environment, please rerun this cell to show the HTML representation or trust the notebook. <br />On GitHub, the HTML representation is unable to render, please try loading this page with nbviewer.org.</b></div><div class=\"sk-container\" hidden><div class=\"sk-item sk-dashed-wrapped\"><div class=\"sk-label-container\"><div class=\"sk-label sk-toggleable\"><input class=\"sk-toggleable__control sk-hidden--visually\" id=\"sk-estimator-id-2\" type=\"checkbox\" ><label for=\"sk-estimator-id-2\" class=\"sk-toggleable__label sk-toggleable__label-arrow\">RFE</label><div class=\"sk-toggleable__content\"><pre>RFE(estimator=LinearRegression(), n_features_to_select=2)</pre></div></div></div><div class=\"sk-parallel\"><div class=\"sk-parallel-item\"><div class=\"sk-item\"><div class=\"sk-label-container\"><div class=\"sk-label sk-toggleable\"><input class=\"sk-toggleable__control sk-hidden--visually\" id=\"sk-estimator-id-3\" type=\"checkbox\" ><label for=\"sk-estimator-id-3\" class=\"sk-toggleable__label sk-toggleable__label-arrow\">estimator: LinearRegression</label><div class=\"sk-toggleable__content\"><pre>LinearRegression()</pre></div></div></div><div class=\"sk-serial\"><div class=\"sk-item\"><div class=\"sk-estimator sk-toggleable\"><input class=\"sk-toggleable__control sk-hidden--visually\" id=\"sk-estimator-id-4\" type=\"checkbox\" ><label for=\"sk-estimator-id-4\" class=\"sk-toggleable__label sk-toggleable__label-arrow\">LinearRegression</label><div class=\"sk-toggleable__content\"><pre>LinearRegression()</pre></div></div></div></div></div></div></div></div></div></div>"
      ],
      "text/plain": [
       "RFE(estimator=LinearRegression(), n_features_to_select=2)"
      ]
     },
     "execution_count": 20,
     "metadata": {},
     "output_type": "execute_result"
    }
   ],
   "source": [
    "# make it: \n",
    "rfe = RFE(model, n_features_to_select= 2)\n",
    "\n",
    "# Fit the thing:\n",
    "rfe.fit(X_train, y_train)"
   ]
  },
  {
   "cell_type": "code",
   "execution_count": 21,
   "id": "e9900b43-a293-4a26-a495-e1e0ed718421",
   "metadata": {
    "tags": []
   },
   "outputs": [
    {
     "data": {
      "text/plain": [
       "array([ 9, 14, 18,  7, 16, 15, 13, 17, 12,  4,  8, 19,  1,  1,  2, 22, 20,\n",
       "       21, 23,  6,  3,  5, 24, 11, 10])"
      ]
     },
     "execution_count": 21,
     "metadata": {},
     "output_type": "execute_result"
    }
   ],
   "source": [
    "# get the feature ranking:\n",
    "rfe.ranking_"
   ]
  },
  {
   "cell_type": "code",
   "execution_count": 22,
   "id": "d7bc09b0-4e06-4c1b-b1be-f302bfaf9622",
   "metadata": {
    "tags": []
   },
   "outputs": [
    {
     "data": {
      "text/html": [
       "<div>\n",
       "<style scoped>\n",
       "    .dataframe tbody tr th:only-of-type {\n",
       "        vertical-align: middle;\n",
       "    }\n",
       "\n",
       "    .dataframe tbody tr th {\n",
       "        vertical-align: top;\n",
       "    }\n",
       "\n",
       "    .dataframe thead th {\n",
       "        text-align: right;\n",
       "    }\n",
       "</style>\n",
       "<table border=\"1\" class=\"dataframe\">\n",
       "  <thead>\n",
       "    <tr style=\"text-align: right;\">\n",
       "      <th></th>\n",
       "      <th>rfe_ranking</th>\n",
       "    </tr>\n",
       "  </thead>\n",
       "  <tbody>\n",
       "    <tr>\n",
       "      <th>ph</th>\n",
       "      <td>9</td>\n",
       "    </tr>\n",
       "    <tr>\n",
       "      <th>hardness</th>\n",
       "      <td>14</td>\n",
       "    </tr>\n",
       "    <tr>\n",
       "      <th>solids</th>\n",
       "      <td>18</td>\n",
       "    </tr>\n",
       "    <tr>\n",
       "      <th>chloramines</th>\n",
       "      <td>7</td>\n",
       "    </tr>\n",
       "    <tr>\n",
       "      <th>sulfate</th>\n",
       "      <td>16</td>\n",
       "    </tr>\n",
       "    <tr>\n",
       "      <th>conductivity</th>\n",
       "      <td>15</td>\n",
       "    </tr>\n",
       "    <tr>\n",
       "      <th>organic_carbon</th>\n",
       "      <td>13</td>\n",
       "    </tr>\n",
       "    <tr>\n",
       "      <th>trihalomethanes</th>\n",
       "      <td>17</td>\n",
       "    </tr>\n",
       "    <tr>\n",
       "      <th>turbidity</th>\n",
       "      <td>12</td>\n",
       "    </tr>\n",
       "    <tr>\n",
       "      <th>ph_range_safe</th>\n",
       "      <td>4</td>\n",
       "    </tr>\n",
       "    <tr>\n",
       "      <th>ph_range_basic</th>\n",
       "      <td>8</td>\n",
       "    </tr>\n",
       "    <tr>\n",
       "      <th>hardness_range_slightly_hard</th>\n",
       "      <td>19</td>\n",
       "    </tr>\n",
       "    <tr>\n",
       "      <th>hardness_range_moderately_hard</th>\n",
       "      <td>1</td>\n",
       "    </tr>\n",
       "    <tr>\n",
       "      <th>hardness_range_hard</th>\n",
       "      <td>1</td>\n",
       "    </tr>\n",
       "    <tr>\n",
       "      <th>hardness_range_very_hard</th>\n",
       "      <td>2</td>\n",
       "    </tr>\n",
       "    <tr>\n",
       "      <th>solids_range_good</th>\n",
       "      <td>22</td>\n",
       "    </tr>\n",
       "    <tr>\n",
       "      <th>solids_range_fair</th>\n",
       "      <td>20</td>\n",
       "    </tr>\n",
       "    <tr>\n",
       "      <th>solids_range_poor</th>\n",
       "      <td>21</td>\n",
       "    </tr>\n",
       "    <tr>\n",
       "      <th>solids_range_unacceptable</th>\n",
       "      <td>23</td>\n",
       "    </tr>\n",
       "    <tr>\n",
       "      <th>chloramines_range_high</th>\n",
       "      <td>6</td>\n",
       "    </tr>\n",
       "    <tr>\n",
       "      <th>sulfate_range_high</th>\n",
       "      <td>3</td>\n",
       "    </tr>\n",
       "    <tr>\n",
       "      <th>conductivity_rage_high</th>\n",
       "      <td>5</td>\n",
       "    </tr>\n",
       "    <tr>\n",
       "      <th>organic_car_range_high</th>\n",
       "      <td>24</td>\n",
       "    </tr>\n",
       "    <tr>\n",
       "      <th>trihalomethanes_range_high</th>\n",
       "      <td>11</td>\n",
       "    </tr>\n",
       "    <tr>\n",
       "      <th>turbidity_range_high</th>\n",
       "      <td>10</td>\n",
       "    </tr>\n",
       "  </tbody>\n",
       "</table>\n",
       "</div>"
      ],
      "text/plain": [
       "                                rfe_ranking\n",
       "ph                                        9\n",
       "hardness                                 14\n",
       "solids                                   18\n",
       "chloramines                               7\n",
       "sulfate                                  16\n",
       "conductivity                             15\n",
       "organic_carbon                           13\n",
       "trihalomethanes                          17\n",
       "turbidity                                12\n",
       "ph_range_safe                             4\n",
       "ph_range_basic                            8\n",
       "hardness_range_slightly_hard             19\n",
       "hardness_range_moderately_hard            1\n",
       "hardness_range_hard                       1\n",
       "hardness_range_very_hard                  2\n",
       "solids_range_good                        22\n",
       "solids_range_fair                        20\n",
       "solids_range_poor                        21\n",
       "solids_range_unacceptable                23\n",
       "chloramines_range_high                    6\n",
       "sulfate_range_high                        3\n",
       "conductivity_rage_high                    5\n",
       "organic_car_range_high                   24\n",
       "trihalomethanes_range_high               11\n",
       "turbidity_range_high                     10"
      ]
     },
     "execution_count": 22,
     "metadata": {},
     "output_type": "execute_result"
    }
   ],
   "source": [
    "# make a dataframe of the rankings for better understanding\n",
    "pd.DataFrame(\n",
    "{\n",
    "    'rfe_ranking':rfe.ranking_\n",
    "}, index = X_train.columns)"
   ]
  },
  {
   "cell_type": "code",
   "execution_count": 23,
   "id": "fa4d22d0-2faa-4dae-bcb1-1d1486689440",
   "metadata": {
    "tags": []
   },
   "outputs": [
    {
     "data": {
      "text/html": [
       "<style>#sk-container-id-3 {color: black;}#sk-container-id-3 pre{padding: 0;}#sk-container-id-3 div.sk-toggleable {background-color: white;}#sk-container-id-3 label.sk-toggleable__label {cursor: pointer;display: block;width: 100%;margin-bottom: 0;padding: 0.3em;box-sizing: border-box;text-align: center;}#sk-container-id-3 label.sk-toggleable__label-arrow:before {content: \"▸\";float: left;margin-right: 0.25em;color: #696969;}#sk-container-id-3 label.sk-toggleable__label-arrow:hover:before {color: black;}#sk-container-id-3 div.sk-estimator:hover label.sk-toggleable__label-arrow:before {color: black;}#sk-container-id-3 div.sk-toggleable__content {max-height: 0;max-width: 0;overflow: hidden;text-align: left;background-color: #f0f8ff;}#sk-container-id-3 div.sk-toggleable__content pre {margin: 0.2em;color: black;border-radius: 0.25em;background-color: #f0f8ff;}#sk-container-id-3 input.sk-toggleable__control:checked~div.sk-toggleable__content {max-height: 200px;max-width: 100%;overflow: auto;}#sk-container-id-3 input.sk-toggleable__control:checked~label.sk-toggleable__label-arrow:before {content: \"▾\";}#sk-container-id-3 div.sk-estimator input.sk-toggleable__control:checked~label.sk-toggleable__label {background-color: #d4ebff;}#sk-container-id-3 div.sk-label input.sk-toggleable__control:checked~label.sk-toggleable__label {background-color: #d4ebff;}#sk-container-id-3 input.sk-hidden--visually {border: 0;clip: rect(1px 1px 1px 1px);clip: rect(1px, 1px, 1px, 1px);height: 1px;margin: -1px;overflow: hidden;padding: 0;position: absolute;width: 1px;}#sk-container-id-3 div.sk-estimator {font-family: monospace;background-color: #f0f8ff;border: 1px dotted black;border-radius: 0.25em;box-sizing: border-box;margin-bottom: 0.5em;}#sk-container-id-3 div.sk-estimator:hover {background-color: #d4ebff;}#sk-container-id-3 div.sk-parallel-item::after {content: \"\";width: 100%;border-bottom: 1px solid gray;flex-grow: 1;}#sk-container-id-3 div.sk-label:hover label.sk-toggleable__label {background-color: #d4ebff;}#sk-container-id-3 div.sk-serial::before {content: \"\";position: absolute;border-left: 1px solid gray;box-sizing: border-box;top: 0;bottom: 0;left: 50%;z-index: 0;}#sk-container-id-3 div.sk-serial {display: flex;flex-direction: column;align-items: center;background-color: white;padding-right: 0.2em;padding-left: 0.2em;position: relative;}#sk-container-id-3 div.sk-item {position: relative;z-index: 1;}#sk-container-id-3 div.sk-parallel {display: flex;align-items: stretch;justify-content: center;background-color: white;position: relative;}#sk-container-id-3 div.sk-item::before, #sk-container-id-3 div.sk-parallel-item::before {content: \"\";position: absolute;border-left: 1px solid gray;box-sizing: border-box;top: 0;bottom: 0;left: 50%;z-index: -1;}#sk-container-id-3 div.sk-parallel-item {display: flex;flex-direction: column;z-index: 1;position: relative;background-color: white;}#sk-container-id-3 div.sk-parallel-item:first-child::after {align-self: flex-end;width: 50%;}#sk-container-id-3 div.sk-parallel-item:last-child::after {align-self: flex-start;width: 50%;}#sk-container-id-3 div.sk-parallel-item:only-child::after {width: 0;}#sk-container-id-3 div.sk-dashed-wrapped {border: 1px dashed gray;margin: 0 0.4em 0.5em 0.4em;box-sizing: border-box;padding-bottom: 0.4em;background-color: white;}#sk-container-id-3 div.sk-label label {font-family: monospace;font-weight: bold;display: inline-block;line-height: 1.2em;}#sk-container-id-3 div.sk-label-container {text-align: center;}#sk-container-id-3 div.sk-container {/* jupyter's `normalize.less` sets `[hidden] { display: none; }` but bootstrap.min.css set `[hidden] { display: none !important; }` so we also need the `!important` here to be able to override the default hidden behavior on the sphinx rendered scikit-learn.org. See: https://github.com/scikit-learn/scikit-learn/issues/21755 */display: inline-block !important;position: relative;}#sk-container-id-3 div.sk-text-repr-fallback {display: none;}</style><div id=\"sk-container-id-3\" class=\"sk-top-container\"><div class=\"sk-text-repr-fallback\"><pre>SequentialFeatureSelector(estimator=LinearRegression(), n_features_to_select=2)</pre><b>In a Jupyter environment, please rerun this cell to show the HTML representation or trust the notebook. <br />On GitHub, the HTML representation is unable to render, please try loading this page with nbviewer.org.</b></div><div class=\"sk-container\" hidden><div class=\"sk-item sk-dashed-wrapped\"><div class=\"sk-label-container\"><div class=\"sk-label sk-toggleable\"><input class=\"sk-toggleable__control sk-hidden--visually\" id=\"sk-estimator-id-5\" type=\"checkbox\" ><label for=\"sk-estimator-id-5\" class=\"sk-toggleable__label sk-toggleable__label-arrow\">SequentialFeatureSelector</label><div class=\"sk-toggleable__content\"><pre>SequentialFeatureSelector(estimator=LinearRegression(), n_features_to_select=2)</pre></div></div></div><div class=\"sk-parallel\"><div class=\"sk-parallel-item\"><div class=\"sk-item\"><div class=\"sk-label-container\"><div class=\"sk-label sk-toggleable\"><input class=\"sk-toggleable__control sk-hidden--visually\" id=\"sk-estimator-id-6\" type=\"checkbox\" ><label for=\"sk-estimator-id-6\" class=\"sk-toggleable__label sk-toggleable__label-arrow\">estimator: LinearRegression</label><div class=\"sk-toggleable__content\"><pre>LinearRegression()</pre></div></div></div><div class=\"sk-serial\"><div class=\"sk-item\"><div class=\"sk-estimator sk-toggleable\"><input class=\"sk-toggleable__control sk-hidden--visually\" id=\"sk-estimator-id-7\" type=\"checkbox\" ><label for=\"sk-estimator-id-7\" class=\"sk-toggleable__label sk-toggleable__label-arrow\">LinearRegression</label><div class=\"sk-toggleable__content\"><pre>LinearRegression()</pre></div></div></div></div></div></div></div></div></div></div>"
      ],
      "text/plain": [
       "SequentialFeatureSelector(estimator=LinearRegression(), n_features_to_select=2)"
      ]
     },
     "execution_count": 23,
     "metadata": {},
     "output_type": "execute_result"
    }
   ],
   "source": [
    "#SFS\n",
    "model = LinearRegression()\n",
    "\n",
    "# MAKE the thing\n",
    "sfs = SequentialFeatureSelector(model, n_features_to_select=2)\n",
    "\n",
    "# FIT the thing\n",
    "sfs.fit(X_train, y_train)"
   ]
  },
  {
   "cell_type": "code",
   "execution_count": 24,
   "id": "233daf6f-0f31-4452-8950-d0651c29d41a",
   "metadata": {
    "tags": []
   },
   "outputs": [
    {
     "data": {
      "text/plain": [
       "array([False, False, False, False, False, False, False, False, False,\n",
       "        True, False, False,  True, False, False, False, False, False,\n",
       "       False, False, False, False, False, False, False])"
      ]
     },
     "execution_count": 24,
     "metadata": {},
     "output_type": "execute_result"
    }
   ],
   "source": [
    "sfs.support_"
   ]
  },
  {
   "cell_type": "code",
   "execution_count": 25,
   "id": "380a4227-73a0-4b81-9a18-d336cce8ba6d",
   "metadata": {
    "tags": []
   },
   "outputs": [],
   "source": [
    "X_train_SFStransformed = pd.DataFrame(\n",
    "                            sfs.transform(X_train),\n",
    "                            index = X_train.index,\n",
    "                            columns = X_train.columns[sfs.support_])"
   ]
  },
  {
   "cell_type": "code",
   "execution_count": 26,
   "id": "7679cd44-bfa9-4f8d-afb6-fc3e3651a49e",
   "metadata": {
    "tags": []
   },
   "outputs": [
    {
     "data": {
      "text/html": [
       "<div>\n",
       "<style scoped>\n",
       "    .dataframe tbody tr th:only-of-type {\n",
       "        vertical-align: middle;\n",
       "    }\n",
       "\n",
       "    .dataframe tbody tr th {\n",
       "        vertical-align: top;\n",
       "    }\n",
       "\n",
       "    .dataframe thead th {\n",
       "        text-align: right;\n",
       "    }\n",
       "</style>\n",
       "<table border=\"1\" class=\"dataframe\">\n",
       "  <thead>\n",
       "    <tr style=\"text-align: right;\">\n",
       "      <th></th>\n",
       "      <th>ph_range_safe</th>\n",
       "      <th>hardness_range_moderately_hard</th>\n",
       "    </tr>\n",
       "  </thead>\n",
       "  <tbody>\n",
       "    <tr>\n",
       "      <th>2719</th>\n",
       "      <td>0.0</td>\n",
       "      <td>0.0</td>\n",
       "    </tr>\n",
       "    <tr>\n",
       "      <th>3230</th>\n",
       "      <td>0.0</td>\n",
       "      <td>1.0</td>\n",
       "    </tr>\n",
       "    <tr>\n",
       "      <th>1502</th>\n",
       "      <td>0.0</td>\n",
       "      <td>0.0</td>\n",
       "    </tr>\n",
       "    <tr>\n",
       "      <th>978</th>\n",
       "      <td>1.0</td>\n",
       "      <td>0.0</td>\n",
       "    </tr>\n",
       "    <tr>\n",
       "      <th>1114</th>\n",
       "      <td>1.0</td>\n",
       "      <td>0.0</td>\n",
       "    </tr>\n",
       "  </tbody>\n",
       "</table>\n",
       "</div>"
      ],
      "text/plain": [
       "      ph_range_safe  hardness_range_moderately_hard\n",
       "2719            0.0                             0.0\n",
       "3230            0.0                             1.0\n",
       "1502            0.0                             0.0\n",
       "978             1.0                             0.0\n",
       "1114            1.0                             0.0"
      ]
     },
     "execution_count": 26,
     "metadata": {},
     "output_type": "execute_result"
    }
   ],
   "source": [
    "X_train_SFStransformed.head()"
   ]
  },
  {
   "cell_type": "markdown",
   "id": "6e1382e3-9314-4951-bacc-b70bc7af8c09",
   "metadata": {},
   "source": [
    "# Modeling: \n",
    "- Decision Tree\n",
    "- Random Forest\n",
    "- KNN\n",
    "- Linear Regression\n",
    "Confusion matrix Prediction: \n",
    "- positive =  safe, potable\n",
    "- negative = not safe, not potable"
   ]
  },
  {
   "cell_type": "code",
   "execution_count": 27,
   "id": "8d371e4a-9517-4e3b-979a-e0cced260b1f",
   "metadata": {
    "tags": []
   },
   "outputs": [],
   "source": [
    "# acquire the data: \n",
    "df = wr.acquire_water()"
   ]
  },
  {
   "cell_type": "code",
   "execution_count": 28,
   "id": "002a7739-2979-4627-bfc4-40441a284a0e",
   "metadata": {
    "tags": []
   },
   "outputs": [],
   "source": [
    "# prep the data:\n",
    "df = wr.prep_water(df)"
   ]
  },
  {
   "cell_type": "code",
   "execution_count": 29,
   "id": "6a072a1f-64cc-4886-92b2-a88afcbd5d52",
   "metadata": {
    "tags": []
   },
   "outputs": [],
   "source": [
    "# using wrangle safe water, create new features: \n",
    "df = wr.safe_water(df)"
   ]
  },
  {
   "cell_type": "code",
   "execution_count": 30,
   "id": "fd43a192-b0aa-4e25-8e0d-6fdcb727e189",
   "metadata": {
    "tags": []
   },
   "outputs": [],
   "source": [
    "# using wrange create_dummies, make dummies for these features\n",
    "df = wr.create_dummies(df)"
   ]
  },
  {
   "cell_type": "code",
   "execution_count": 31,
   "id": "286c2358-a64a-4dbc-b8a0-7f9cd7b15f23",
   "metadata": {
    "tags": []
   },
   "outputs": [],
   "source": [
    "# using wrange split, make train, validate, test\n",
    "train, validate, test = wr.split_water(df)"
   ]
  },
  {
   "cell_type": "code",
   "execution_count": 32,
   "id": "558f194c-f69f-4792-8adc-84023dee1f84",
   "metadata": {
    "tags": []
   },
   "outputs": [],
   "source": [
    "# prepocessing: using wrangle drop columns to remove duplicate columns for modeling\n",
    "train, validate, test = wr.drop_columns(train, validate, test)"
   ]
  },
  {
   "cell_type": "code",
   "execution_count": 33,
   "id": "b4f76430-6b45-4b6b-8fd8-6467d3d21536",
   "metadata": {
    "tags": []
   },
   "outputs": [
    {
     "data": {
      "text/plain": [
       "Index(['ph', 'hardness', 'solids', 'chloramines', 'sulfate', 'conductivity',\n",
       "       'organic_carbon', 'trihalomethanes', 'turbidity', 'potability',\n",
       "       'ph_range_safe', 'ph_range_basic', 'hardness_range_slightly_hard',\n",
       "       'hardness_range_moderately_hard', 'hardness_range_hard',\n",
       "       'hardness_range_very_hard', 'solids_range_good', 'solids_range_fair',\n",
       "       'solids_range_poor', 'solids_range_unacceptable',\n",
       "       'chloramines_range_high', 'sulfate_range_high',\n",
       "       'conductivity_rage_high', 'organic_car_range_high',\n",
       "       'trihalomethanes_range_high', 'turbidity_range_high'],\n",
       "      dtype='object')"
      ]
     },
     "execution_count": 33,
     "metadata": {},
     "output_type": "execute_result"
    }
   ],
   "source": [
    "train.columns"
   ]
  },
  {
   "cell_type": "code",
   "execution_count": 34,
   "id": "24bb0a43-3b3c-497b-aa2c-710471650691",
   "metadata": {
    "tags": []
   },
   "outputs": [],
   "source": [
    "# create Feature selection: \n",
    "set_features = ['ph','hardness','chloramines','conductivity','ph_range_safe',\n",
    "                'hardness_range_moderately_hard', 'hardness_range_hard'] \n",
    "all_features = ['ph', 'hardness', 'solids', 'chloramines', 'sulfate', 'conductivity',\n",
    "       'organic_carbon', 'trihalomethanes', 'turbidity',\n",
    "       'ph_range_safe', 'ph_range_basic', 'hardness_range_slightly_hard',\n",
    "       'hardness_range_moderately_hard', 'hardness_range_hard',\n",
    "       'hardness_range_very_hard', 'solids_range_good', 'solids_range_fair',\n",
    "       'solids_range_poor', 'solids_range_unacceptable',\n",
    "       'chloramines_range_high', 'sulfate_range_high',\n",
    "       'conductivity_rage_high', 'organic_car_range_high',\n",
    "       'trihalomethanes_range_high', 'turbidity_range_high']"
   ]
  },
  {
   "cell_type": "markdown",
   "id": "5eee540b-2ddb-4d8f-a41c-79e04ef78ebf",
   "metadata": {},
   "source": [
    "# Phases: \n",
    "1. Run phase one using all features. Record Data.\n",
    "    - To do this change the list on X vairbales to be:\n",
    "        - train[all_features]\n",
    "        - validate[all_features]\n",
    "        - test[all_features]\n",
    "    - Run the entire notebook.\n",
    "2. Run phase two using set features. Record Data.\n",
    "    - To do this, change the list on X variables to be: \n",
    "        - train[set_features]\n",
    "        - validate[set_features]\n",
    "        - test[set_features]\n",
    "    - Run the entire notebook."
   ]
  },
  {
   "cell_type": "code",
   "execution_count": 35,
   "id": "0b3577f4-e339-4ce7-9ce2-39625fa37a9b",
   "metadata": {
    "tags": []
   },
   "outputs": [],
   "source": [
    "# create our x and y: \n",
    "X_train = train[all_features]\n",
    "y_train = train.potability\n",
    "\n",
    "X_val = validate[all_features]\n",
    "y_val = validate.potability\n",
    "\n",
    "X_test = test[all_features]\n",
    "y_test = test.potability"
   ]
  },
  {
   "cell_type": "code",
   "execution_count": 36,
   "id": "e3da960c-798c-4aab-af21-462bbdfa4155",
   "metadata": {
    "tags": []
   },
   "outputs": [
    {
     "name": "stdout",
     "output_type": "stream",
     "text": [
      "Baseline accuracy: 0.6\n"
     ]
    }
   ],
   "source": [
    "# The mode is a great baseline\n",
    "baseline = y_train.mode()\n",
    "\n",
    "# Produce a boolean array with True representing a match between the baseline prediction and reality\n",
    "matches_baseline_prediction = y_train == 0\n",
    "\n",
    "baseline_accuracy = matches_baseline_prediction.mean()\n",
    "print(f\"Baseline accuracy: {round(baseline_accuracy, 2)}\")"
   ]
  },
  {
   "cell_type": "code",
   "execution_count": 37,
   "id": "c82f4b3d-4c59-44e2-8259-ef7a13cf8720",
   "metadata": {
    "tags": []
   },
   "outputs": [
    {
     "name": "stdout",
     "output_type": "stream",
     "text": [
      "<class 'pandas.core.frame.DataFrame'>\n",
      "<class 'pandas.core.series.Series'>\n",
      "<class 'pandas.core.frame.DataFrame'>\n",
      "<class 'pandas.core.series.Series'>\n"
     ]
    }
   ],
   "source": [
    "# double check the data frames are all the same: \n",
    "print(type(X_train))\n",
    "print(type(y_train))\n",
    "print(type(X_val))\n",
    "print(type(y_val))"
   ]
  },
  {
   "cell_type": "markdown",
   "id": "d9f5308b-26b7-4280-b399-07116c6c8590",
   "metadata": {},
   "source": [
    "# Decision Tree: "
   ]
  },
  {
   "cell_type": "code",
   "execution_count": 38,
   "id": "97ad52ef-9366-42d8-a721-715b96771f30",
   "metadata": {
    "tags": []
   },
   "outputs": [],
   "source": [
    "# create the model: \n",
    "clf = DecisionTreeClassifier(max_depth=3, random_state=123)"
   ]
  },
  {
   "cell_type": "code",
   "execution_count": 39,
   "id": "11439298-6b93-4109-87d4-7e9742019cc5",
   "metadata": {
    "tags": []
   },
   "outputs": [],
   "source": [
    "#fit the model\n",
    "clf = clf.fit(X_train, y_train)"
   ]
  },
  {
   "cell_type": "code",
   "execution_count": 40,
   "id": "323530f5-c2d0-448d-a85f-9982ccc3bc6e",
   "metadata": {
    "tags": []
   },
   "outputs": [
    {
     "data": {
      "text/plain": [
       "0.6435555555555555"
      ]
     },
     "execution_count": 40,
     "metadata": {},
     "output_type": "execute_result"
    }
   ],
   "source": [
    "clf.score(X_train, y_train)"
   ]
  },
  {
   "cell_type": "code",
   "execution_count": 41,
   "id": "65a1fe1f-0d76-465a-b955-522200cb5cef",
   "metadata": {
    "tags": []
   },
   "outputs": [],
   "source": [
    "y_pred = clf.predict(X_train)"
   ]
  },
  {
   "cell_type": "code",
   "execution_count": 42,
   "id": "ada8ca98-3c1d-4513-ae8d-d6dc12c3c597",
   "metadata": {
    "tags": []
   },
   "outputs": [
    {
     "data": {
      "text/plain": [
       "array([[666,   6],\n",
       "       [395,  58]])"
      ]
     },
     "execution_count": 42,
     "metadata": {},
     "output_type": "execute_result"
    }
   ],
   "source": [
    "conf = confusion_matrix(y_train, y_pred)\n",
    "conf"
   ]
  },
  {
   "cell_type": "code",
   "execution_count": 43,
   "id": "8804c5cf-1742-4690-9ef8-5dff9566dc5e",
   "metadata": {
    "tags": []
   },
   "outputs": [
    {
     "name": "stdout",
     "output_type": "stream",
     "text": [
      "              precision    recall  f1-score   support\n",
      "\n",
      "           0       0.63      0.99      0.77       672\n",
      "           1       0.91      0.13      0.22       453\n",
      "\n",
      "    accuracy                           0.64      1125\n",
      "   macro avg       0.77      0.56      0.50      1125\n",
      "weighted avg       0.74      0.64      0.55      1125\n",
      "\n"
     ]
    }
   ],
   "source": [
    "print(classification_report(y_train, y_pred))"
   ]
  },
  {
   "cell_type": "code",
   "execution_count": 44,
   "id": "7bd85303-86f9-4dfb-b94b-e2651a4f9dcc",
   "metadata": {
    "tags": []
   },
   "outputs": [
    {
     "data": {
      "text/plain": [
       "array([[666,   6],\n",
       "       [395,  58]])"
      ]
     },
     "execution_count": 44,
     "metadata": {},
     "output_type": "execute_result"
    }
   ],
   "source": [
    "conf"
   ]
  },
  {
   "cell_type": "code",
   "execution_count": 45,
   "id": "5a0040d4-e802-4284-b838-f7e595250673",
   "metadata": {
    "tags": []
   },
   "outputs": [
    {
     "data": {
      "text/plain": [
       "(666, 6, 395, 58)"
      ]
     },
     "execution_count": 45,
     "metadata": {},
     "output_type": "execute_result"
    }
   ],
   "source": [
    "TN, FP, FN, TP = conf.ravel()\n",
    "TN, FP, FN, TP"
   ]
  },
  {
   "cell_type": "code",
   "execution_count": 46,
   "id": "5c88334a-81c1-4870-b683-b50f766dabfc",
   "metadata": {
    "tags": []
   },
   "outputs": [],
   "source": [
    "all_ = (TP + TN + FP + FN)\n",
    "\n",
    "accuracy = (TP + TN) / all_\n",
    "\n",
    "TPR = recall = TP / (TP + FN)\n",
    "FPR = FP / (FP + TN)\n",
    "\n",
    "TNR = TN / (FP + TN)\n",
    "FNR = FN / (FN + TP)\n",
    "\n",
    "recall = TP / (TP + FN)\n",
    "precision =  TP / (TP + FP)\n",
    "f1 =  2 * ((precision * recall) / ( precision + recall))\n",
    "\n",
    "support_pos = TP + FN\n",
    "support_neg = FP + TN"
   ]
  },
  {
   "cell_type": "code",
   "execution_count": 47,
   "id": "ddc79250-b067-4858-b39a-3d67a9701468",
   "metadata": {
    "tags": []
   },
   "outputs": [
    {
     "name": "stdout",
     "output_type": "stream",
     "text": [
      "Accuracy: 0.6435555555555555\n",
      "\n",
      "True Positive Rate/Sensitivity/Recall/Power: 0.1280353200883002\n",
      "False Positive Rate/False Alarm Ratio/Fall-out: 0.008928571428571428\n",
      "True Negative Rate/Specificity/Selectivity: 0.9910714285714286\n",
      "False Negative Rate/Miss Rate: 0.8719646799116998\n",
      "\n",
      "Precision/PPV: 0.90625\n",
      "Recall0.1280353200883002\n",
      "F1 Score: 0.2243713733075435\n",
      "\n",
      "Support (0): 453\n",
      "Support (1): 672\n"
     ]
    }
   ],
   "source": [
    "print(f\"Accuracy: {accuracy}\\n\")\n",
    "print(f\"True Positive Rate/Sensitivity/Recall/Power: {TPR}\")\n",
    "print(f\"False Positive Rate/False Alarm Ratio/Fall-out: {FPR}\")\n",
    "print(f\"True Negative Rate/Specificity/Selectivity: {TNR}\")\n",
    "print(f\"False Negative Rate/Miss Rate: {FNR}\\n\")\n",
    "print(f\"Precision/PPV: {precision}\")\n",
    "print(f'Recall{recall}')\n",
    "print(f\"F1 Score: {f1}\\n\")\n",
    "print(f\"Support (0): {support_pos}\")\n",
    "print(f\"Support (1): {support_neg}\")"
   ]
  },
  {
   "cell_type": "code",
   "execution_count": 48,
   "id": "8a648b7d-2be3-4dc7-a9ef-4389718ddd16",
   "metadata": {
    "tags": []
   },
   "outputs": [
    {
     "name": "stdout",
     "output_type": "stream",
     "text": [
      "for depth of  1, the accuracy is 0.62\n",
      "for depth of  2, the accuracy is 0.64\n",
      "for depth of  3, the accuracy is 0.64\n",
      "for depth of  4, the accuracy is 0.68\n",
      "for depth of  5, the accuracy is 0.71\n",
      "for depth of  6, the accuracy is 0.73\n",
      "for depth of  7, the accuracy is 0.74\n",
      "for depth of  8, the accuracy is 0.75\n",
      "for depth of  9, the accuracy is 0.78\n",
      "for depth of 10, the accuracy is 0.81\n",
      "for depth of 11, the accuracy is 0.85\n",
      "for depth of 12, the accuracy is 0.87\n",
      "for depth of 13, the accuracy is 0.89\n",
      "for depth of 14, the accuracy is 0.9\n",
      "for depth of 15, the accuracy is 0.92\n",
      "for depth of 16, the accuracy is 0.93\n",
      "for depth of 17, the accuracy is 0.94\n",
      "for depth of 18, the accuracy is 0.95\n",
      "for depth of 19, the accuracy is 0.97\n"
     ]
    }
   ],
   "source": [
    "#for lots\n",
    "for x in range(1,20):\n",
    "#     print(x)\n",
    "    clf = DecisionTreeClassifier(max_depth=x)\n",
    "    clf.fit(X_train, y_train)\n",
    "    acc = clf.score(X_train, y_train)\n",
    "    print(f'for depth of {x:2}, the accuracy is {round(acc,2)}')"
   ]
  },
  {
   "cell_type": "code",
   "execution_count": 49,
   "id": "1d459b47-075b-47b9-80d4-d271da61eef1",
   "metadata": {
    "tags": []
   },
   "outputs": [],
   "source": [
    "scores_all = []\n",
    "\n",
    "for x in range(1,20):\n",
    "\n",
    "    clf = DecisionTreeClassifier(max_depth=x)\n",
    "    clf.fit(X_train, y_train)\n",
    "    train_acc = clf.score(X_train, y_train)\n",
    "    \n",
    "    #evaluate on validate\n",
    "    val_acc = clf.score(X_val, y_val)\n",
    "    \n",
    "    scores_all.append([x, train_acc, val_acc])"
   ]
  },
  {
   "cell_type": "code",
   "execution_count": 50,
   "id": "13db0acc-14cf-46d7-a68d-9b55c6e03edd",
   "metadata": {
    "tags": []
   },
   "outputs": [
    {
     "data": {
      "text/html": [
       "<div>\n",
       "<style scoped>\n",
       "    .dataframe tbody tr th:only-of-type {\n",
       "        vertical-align: middle;\n",
       "    }\n",
       "\n",
       "    .dataframe tbody tr th {\n",
       "        vertical-align: top;\n",
       "    }\n",
       "\n",
       "    .dataframe thead th {\n",
       "        text-align: right;\n",
       "    }\n",
       "</style>\n",
       "<table border=\"1\" class=\"dataframe\">\n",
       "  <thead>\n",
       "    <tr style=\"text-align: right;\">\n",
       "      <th></th>\n",
       "      <th>max_depth</th>\n",
       "      <th>train_acc</th>\n",
       "      <th>val_acc</th>\n",
       "    </tr>\n",
       "  </thead>\n",
       "  <tbody>\n",
       "    <tr>\n",
       "      <th>0</th>\n",
       "      <td>1</td>\n",
       "      <td>0.624889</td>\n",
       "      <td>0.602484</td>\n",
       "    </tr>\n",
       "    <tr>\n",
       "      <th>1</th>\n",
       "      <td>2</td>\n",
       "      <td>0.639111</td>\n",
       "      <td>0.614907</td>\n",
       "    </tr>\n",
       "    <tr>\n",
       "      <th>2</th>\n",
       "      <td>3</td>\n",
       "      <td>0.643556</td>\n",
       "      <td>0.612836</td>\n",
       "    </tr>\n",
       "    <tr>\n",
       "      <th>3</th>\n",
       "      <td>4</td>\n",
       "      <td>0.680889</td>\n",
       "      <td>0.621118</td>\n",
       "    </tr>\n",
       "    <tr>\n",
       "      <th>4</th>\n",
       "      <td>5</td>\n",
       "      <td>0.708444</td>\n",
       "      <td>0.633540</td>\n",
       "    </tr>\n",
       "  </tbody>\n",
       "</table>\n",
       "</div>"
      ],
      "text/plain": [
       "   max_depth  train_acc   val_acc\n",
       "0          1   0.624889  0.602484\n",
       "1          2   0.639111  0.614907\n",
       "2          3   0.643556  0.612836\n",
       "3          4   0.680889  0.621118\n",
       "4          5   0.708444  0.633540"
      ]
     },
     "execution_count": 50,
     "metadata": {},
     "output_type": "execute_result"
    }
   ],
   "source": [
    "\n",
    "scores_df = pd.DataFrame(scores_all, columns=['max_depth','train_acc','val_acc'])\n",
    "scores_df.head()"
   ]
  },
  {
   "cell_type": "code",
   "execution_count": 51,
   "id": "3b02e951-d48f-4ac1-8ae5-84d32e4bdbc8",
   "metadata": {
    "tags": []
   },
   "outputs": [],
   "source": [
    "scores_df['diff'] = scores_df.train_acc - scores_df.val_acc"
   ]
  },
  {
   "cell_type": "code",
   "execution_count": 52,
   "id": "1cae2ff2-37d3-445f-b7f7-187053b22795",
   "metadata": {
    "tags": []
   },
   "outputs": [
    {
     "data": {
      "text/html": [
       "<div>\n",
       "<style scoped>\n",
       "    .dataframe tbody tr th:only-of-type {\n",
       "        vertical-align: middle;\n",
       "    }\n",
       "\n",
       "    .dataframe tbody tr th {\n",
       "        vertical-align: top;\n",
       "    }\n",
       "\n",
       "    .dataframe thead th {\n",
       "        text-align: right;\n",
       "    }\n",
       "</style>\n",
       "<table border=\"1\" class=\"dataframe\">\n",
       "  <thead>\n",
       "    <tr style=\"text-align: right;\">\n",
       "      <th></th>\n",
       "      <th>max_depth</th>\n",
       "      <th>train_acc</th>\n",
       "      <th>val_acc</th>\n",
       "      <th>diff</th>\n",
       "    </tr>\n",
       "  </thead>\n",
       "  <tbody>\n",
       "    <tr>\n",
       "      <th>0</th>\n",
       "      <td>1</td>\n",
       "      <td>0.624889</td>\n",
       "      <td>0.602484</td>\n",
       "      <td>0.022404</td>\n",
       "    </tr>\n",
       "    <tr>\n",
       "      <th>1</th>\n",
       "      <td>2</td>\n",
       "      <td>0.639111</td>\n",
       "      <td>0.614907</td>\n",
       "      <td>0.024204</td>\n",
       "    </tr>\n",
       "    <tr>\n",
       "      <th>2</th>\n",
       "      <td>3</td>\n",
       "      <td>0.643556</td>\n",
       "      <td>0.612836</td>\n",
       "      <td>0.030719</td>\n",
       "    </tr>\n",
       "    <tr>\n",
       "      <th>3</th>\n",
       "      <td>4</td>\n",
       "      <td>0.680889</td>\n",
       "      <td>0.621118</td>\n",
       "      <td>0.059771</td>\n",
       "    </tr>\n",
       "    <tr>\n",
       "      <th>4</th>\n",
       "      <td>5</td>\n",
       "      <td>0.708444</td>\n",
       "      <td>0.633540</td>\n",
       "      <td>0.074904</td>\n",
       "    </tr>\n",
       "    <tr>\n",
       "      <th>5</th>\n",
       "      <td>6</td>\n",
       "      <td>0.726222</td>\n",
       "      <td>0.623188</td>\n",
       "      <td>0.103034</td>\n",
       "    </tr>\n",
       "    <tr>\n",
       "      <th>6</th>\n",
       "      <td>7</td>\n",
       "      <td>0.737778</td>\n",
       "      <td>0.621118</td>\n",
       "      <td>0.116660</td>\n",
       "    </tr>\n",
       "  </tbody>\n",
       "</table>\n",
       "</div>"
      ],
      "text/plain": [
       "   max_depth  train_acc   val_acc      diff\n",
       "0          1   0.624889  0.602484  0.022404\n",
       "1          2   0.639111  0.614907  0.024204\n",
       "2          3   0.643556  0.612836  0.030719\n",
       "3          4   0.680889  0.621118  0.059771\n",
       "4          5   0.708444  0.633540  0.074904\n",
       "5          6   0.726222  0.623188  0.103034\n",
       "6          7   0.737778  0.621118  0.116660"
      ]
     },
     "execution_count": 52,
     "metadata": {},
     "output_type": "execute_result"
    }
   ],
   "source": [
    "scores_df.sort_values('diff').head(7)"
   ]
  },
  {
   "cell_type": "code",
   "execution_count": 53,
   "id": "89993518-a2f0-4109-84da-bf5ab5bec25b",
   "metadata": {
    "tags": []
   },
   "outputs": [
    {
     "data": {
      "image/png": "[encoded data removed]",
      "text/plain": [
       "<Figure size 1200x600 with 1 Axes>"
      ]
     },
     "metadata": {},
     "output_type": "display_data"
    }
   ],
   "source": [
    "plt.figure(figsize=(12,6))\n",
    "plt.plot(scores_df.max_depth, scores_df.train_acc, label='train', marker='o')\n",
    "plt.plot(scores_df.max_depth, scores_df.val_acc, label='validate', marker='o')\n",
    "plt.xlabel('max depth')\n",
    "plt.ylabel('accuracy')\n",
    "plt.title('how does the accuracy change with max depth on train and validate?')\n",
    "plt.legend()\n",
    "plt.show()"
   ]
  },
  {
   "cell_type": "markdown",
   "id": "822ed718-252d-44fd-96ef-ffafb85d7f19",
   "metadata": {},
   "source": [
    "# Random Forest: "
   ]
  },
  {
   "cell_type": "code",
   "execution_count": 54,
   "id": "d9bfb7d0-2a0f-444e-a50a-58c656292db9",
   "metadata": {
    "tags": []
   },
   "outputs": [
    {
     "name": "stdout",
     "output_type": "stream",
     "text": [
      "Baseline accuracy: 0.6\n"
     ]
    }
   ],
   "source": [
    "# The mode is a great baseline\n",
    "baseline = y_train.mode()\n",
    "\n",
    "# Produce a boolean array with True representing a match between the baseline prediction and reality\n",
    "matches_baseline_prediction = y_train == 0\n",
    "\n",
    "baseline_accuracy = matches_baseline_prediction.mean()\n",
    "print(f\"Baseline accuracy: {round(baseline_accuracy, 2)}\")"
   ]
  },
  {
   "cell_type": "code",
   "execution_count": 55,
   "id": "8429a3f9-f7cc-4299-86db-fada9f44be0e",
   "metadata": {
    "tags": []
   },
   "outputs": [
    {
     "name": "stdout",
     "output_type": "stream",
     "text": [
      "Tree of 1 depth\n"
     ]
    },
    {
     "data": {
      "text/html": [
       "<div>\n",
       "<style scoped>\n",
       "    .dataframe tbody tr th:only-of-type {\n",
       "        vertical-align: middle;\n",
       "    }\n",
       "\n",
       "    .dataframe tbody tr th {\n",
       "        vertical-align: top;\n",
       "    }\n",
       "\n",
       "    .dataframe thead th {\n",
       "        text-align: right;\n",
       "    }\n",
       "</style>\n",
       "<table border=\"1\" class=\"dataframe\">\n",
       "  <thead>\n",
       "    <tr style=\"text-align: right;\">\n",
       "      <th></th>\n",
       "      <th>0</th>\n",
       "      <th>1</th>\n",
       "      <th>accuracy</th>\n",
       "      <th>macro avg</th>\n",
       "      <th>weighted avg</th>\n",
       "    </tr>\n",
       "  </thead>\n",
       "  <tbody>\n",
       "    <tr>\n",
       "      <th>precision</th>\n",
       "      <td>0.655206</td>\n",
       "      <td>0.953271</td>\n",
       "      <td>0.683556</td>\n",
       "      <td>0.804239</td>\n",
       "      <td>0.775227</td>\n",
       "    </tr>\n",
       "    <tr>\n",
       "      <th>recall</th>\n",
       "      <td>0.992560</td>\n",
       "      <td>0.225166</td>\n",
       "      <td>0.683556</td>\n",
       "      <td>0.608863</td>\n",
       "      <td>0.683556</td>\n",
       "    </tr>\n",
       "    <tr>\n",
       "      <th>f1-score</th>\n",
       "      <td>0.789349</td>\n",
       "      <td>0.364286</td>\n",
       "      <td>0.683556</td>\n",
       "      <td>0.576817</td>\n",
       "      <td>0.618190</td>\n",
       "    </tr>\n",
       "    <tr>\n",
       "      <th>support</th>\n",
       "      <td>672.000000</td>\n",
       "      <td>453.000000</td>\n",
       "      <td>0.683556</td>\n",
       "      <td>1125.000000</td>\n",
       "      <td>1125.000000</td>\n",
       "    </tr>\n",
       "  </tbody>\n",
       "</table>\n",
       "</div>"
      ],
      "text/plain": [
       "                    0           1  accuracy    macro avg  weighted avg\n",
       "precision    0.655206    0.953271  0.683556     0.804239      0.775227\n",
       "recall       0.992560    0.225166  0.683556     0.608863      0.683556\n",
       "f1-score     0.789349    0.364286  0.683556     0.576817      0.618190\n",
       "support    672.000000  453.000000  0.683556  1125.000000   1125.000000"
      ]
     },
     "execution_count": 55,
     "metadata": {},
     "output_type": "execute_result"
    }
   ],
   "source": [
    "# Make the model\n",
    "forest1 = RandomForestClassifier(max_depth=4, random_state=124)\n",
    "\n",
    "# Fit the model (on train and only train)\n",
    "forest1.fit(X_train, y_train)\n",
    "\n",
    "# Use the model\n",
    "# We'll evaluate the model's performance on train, first\n",
    "y_predictions = forest1.predict(X_train)\n",
    "\n",
    "# Produce the classification report on the actual y values and this model's predicted y values\n",
    "report = classification_report(y_train, y_predictions, output_dict=True)\n",
    "print(\"Tree of 1 depth\")\n",
    "pd.DataFrame(report)"
   ]
  },
  {
   "cell_type": "code",
   "execution_count": 88,
   "id": "012a4b52-a193-433a-a777-d5b2a9eb2cfb",
   "metadata": {},
   "outputs": [
    {
     "data": {
      "image/png": "[encoded data removed]",
      "text/plain": [
       "<Figure size 1000x800 with 1 Axes>"
      ]
     },
     "metadata": {},
     "output_type": "display_data"
    }
   ],
   "source": [
    "plt.figure(figsize=(10,8))\n",
    "plt.hist(forest1.predict(X_test), alpha=0.5, label='Random Forest')\n",
    "plt.hist(y_test, alpha=0.2)\n",
    "plt.legend()\n",
    "plt.xlabel('Potability')\n",
    "plt.title('Random Forest Predictions on Test', fontsize=15)\n",
    "plt.show()"
   ]
  },
  {
   "cell_type": "code",
   "execution_count": 57,
   "id": "dc2903d7-3626-4812-8da2-d183793a7fde",
   "metadata": {
    "tags": []
   },
   "outputs": [
    {
     "data": {
      "text/html": [
       "<div>\n",
       "<style scoped>\n",
       "    .dataframe tbody tr th:only-of-type {\n",
       "        vertical-align: middle;\n",
       "    }\n",
       "\n",
       "    .dataframe tbody tr th {\n",
       "        vertical-align: top;\n",
       "    }\n",
       "\n",
       "    .dataframe thead th {\n",
       "        text-align: right;\n",
       "    }\n",
       "</style>\n",
       "<table border=\"1\" class=\"dataframe\">\n",
       "  <thead>\n",
       "    <tr style=\"text-align: right;\">\n",
       "      <th></th>\n",
       "      <th>0</th>\n",
       "      <th>1</th>\n",
       "    </tr>\n",
       "  </thead>\n",
       "  <tbody>\n",
       "    <tr>\n",
       "      <th>0</th>\n",
       "      <td>667</td>\n",
       "      <td>351</td>\n",
       "    </tr>\n",
       "    <tr>\n",
       "      <th>1</th>\n",
       "      <td>5</td>\n",
       "      <td>102</td>\n",
       "    </tr>\n",
       "  </tbody>\n",
       "</table>\n",
       "</div>"
      ],
      "text/plain": [
       "     0    1\n",
       "0  667  351\n",
       "1    5  102"
      ]
     },
     "execution_count": 57,
     "metadata": {},
     "output_type": "execute_result"
    }
   ],
   "source": [
    "# sklearn confusion matrix\n",
    "pd.DataFrame(confusion_matrix(y_predictions, y_train))"
   ]
  },
  {
   "cell_type": "code",
   "execution_count": 58,
   "id": "1b0baddf-7b49-4248-a8d7-ccbc6bdb15e5",
   "metadata": {
    "tags": []
   },
   "outputs": [
    {
     "data": {
      "image/png": "[encoded data removed]",
      "text/plain": [
       "<Figure size 640x480 with 2 Axes>"
      ]
     },
     "metadata": {},
     "output_type": "display_data"
    }
   ],
   "source": [
    "ConfusionMatrixDisplay.from_estimator(forest1, X_train, y_train);"
   ]
  },
  {
   "cell_type": "code",
   "execution_count": 59,
   "id": "af909c48-f963-44f3-a389-5ea544b3df39",
   "metadata": {
    "tags": []
   },
   "outputs": [
    {
     "data": {
      "text/plain": [
       "(102, 667, 5, 351)"
      ]
     },
     "execution_count": 59,
     "metadata": {},
     "output_type": "execute_result"
    }
   ],
   "source": [
    "TN, FP, FN, TP = confusion_matrix(y_train,y_predictions).ravel()\n",
    "ALL = TP + TN + FP + FN\n",
    "\n",
    "TP, TN, FP, FN"
   ]
  },
  {
   "cell_type": "code",
   "execution_count": 60,
   "id": "56a9b498-cd05-4710-b03a-f50b38ce56ac",
   "metadata": {
    "tags": []
   },
   "outputs": [
    {
     "name": "stdout",
     "output_type": "stream",
     "text": [
      "Accuracy: 0.6835555555555556\n",
      "True Positive Rate: 0.2251655629139073\n",
      "False Positive Rate: 0.00744047619047619\n",
      "True Negative Rate: 0.9925595238095238\n",
      "False Negative Rate: 0.7748344370860927\n",
      "Precision: 0.9532710280373832\n",
      "Recall: 0.2251655629139073\n",
      "F1 Score: 0.3642857142857143\n",
      "Support (0): 453\n",
      "Support (1): 672\n"
     ]
    }
   ],
   "source": [
    "\n",
    "accuracy = (TP + TN)/ALL\n",
    "print(f\"Accuracy: {accuracy}\")\n",
    "\n",
    "true_positive_rate = TP/(TP+FN)\n",
    "print(f\"True Positive Rate: {true_positive_rate}\")\n",
    "\n",
    "false_positive_rate = FP/(FP+TN)\n",
    "print(f\"False Positive Rate: {false_positive_rate}\")\n",
    "\n",
    "true_negative_rate = TN/(TN+FP)\n",
    "print(f\"True Negative Rate: {true_negative_rate}\")\n",
    "\n",
    "false_negative_rate = FN/(FN+TP)\n",
    "print(f\"False Negative Rate: {false_negative_rate}\")\n",
    "\n",
    "precision = TP/(TP+FP)\n",
    "print(f\"Precision: {precision}\")\n",
    "\n",
    "recall = TP/(TP+FN)\n",
    "print(f\"Recall: {recall}\")\n",
    "\n",
    "f1_score = 2*(precision*recall)/(precision+recall)\n",
    "print(f\"F1 Score: {f1_score}\")\n",
    "\n",
    "support_pos = TP + FN\n",
    "print(f\"Support (0): {support_pos}\")\n",
    "\n",
    "support_neg = FP + TN\n",
    "print(f\"Support (1): {support_neg}\")"
   ]
  },
  {
   "cell_type": "code",
   "execution_count": 61,
   "id": "8d7052a8-d26e-45d0-8a16-852ebe3c3ec4",
   "metadata": {
    "tags": []
   },
   "outputs": [
    {
     "data": {
      "text/html": [
       "<div>\n",
       "<style scoped>\n",
       "    .dataframe tbody tr th:only-of-type {\n",
       "        vertical-align: middle;\n",
       "    }\n",
       "\n",
       "    .dataframe tbody tr th {\n",
       "        vertical-align: top;\n",
       "    }\n",
       "\n",
       "    .dataframe thead th {\n",
       "        text-align: right;\n",
       "    }\n",
       "</style>\n",
       "<table border=\"1\" class=\"dataframe\">\n",
       "  <thead>\n",
       "    <tr style=\"text-align: right;\">\n",
       "      <th></th>\n",
       "      <th>max_depth</th>\n",
       "      <th>train_accuracy</th>\n",
       "      <th>validate_accuracy</th>\n",
       "      <th>difference</th>\n",
       "    </tr>\n",
       "  </thead>\n",
       "  <tbody>\n",
       "    <tr>\n",
       "      <th>0</th>\n",
       "      <td>2</td>\n",
       "      <td>0.625778</td>\n",
       "      <td>0.619048</td>\n",
       "      <td>0.006730</td>\n",
       "    </tr>\n",
       "    <tr>\n",
       "      <th>1</th>\n",
       "      <td>3</td>\n",
       "      <td>0.656889</td>\n",
       "      <td>0.621118</td>\n",
       "      <td>0.035771</td>\n",
       "    </tr>\n",
       "    <tr>\n",
       "      <th>2</th>\n",
       "      <td>4</td>\n",
       "      <td>0.679111</td>\n",
       "      <td>0.629400</td>\n",
       "      <td>0.049712</td>\n",
       "    </tr>\n",
       "    <tr>\n",
       "      <th>3</th>\n",
       "      <td>5</td>\n",
       "      <td>0.705778</td>\n",
       "      <td>0.616977</td>\n",
       "      <td>0.088801</td>\n",
       "    </tr>\n",
       "    <tr>\n",
       "      <th>4</th>\n",
       "      <td>6</td>\n",
       "      <td>0.730667</td>\n",
       "      <td>0.633540</td>\n",
       "      <td>0.097126</td>\n",
       "    </tr>\n",
       "    <tr>\n",
       "      <th>5</th>\n",
       "      <td>7</td>\n",
       "      <td>0.777778</td>\n",
       "      <td>0.648033</td>\n",
       "      <td>0.129745</td>\n",
       "    </tr>\n",
       "    <tr>\n",
       "      <th>6</th>\n",
       "      <td>8</td>\n",
       "      <td>0.817778</td>\n",
       "      <td>0.648033</td>\n",
       "      <td>0.169745</td>\n",
       "    </tr>\n",
       "    <tr>\n",
       "      <th>7</th>\n",
       "      <td>9</td>\n",
       "      <td>0.872000</td>\n",
       "      <td>0.637681</td>\n",
       "      <td>0.234319</td>\n",
       "    </tr>\n",
       "    <tr>\n",
       "      <th>8</th>\n",
       "      <td>10</td>\n",
       "      <td>0.896889</td>\n",
       "      <td>0.621118</td>\n",
       "      <td>0.275771</td>\n",
       "    </tr>\n",
       "    <tr>\n",
       "      <th>9</th>\n",
       "      <td>11</td>\n",
       "      <td>0.928889</td>\n",
       "      <td>0.639752</td>\n",
       "      <td>0.289137</td>\n",
       "    </tr>\n",
       "    <tr>\n",
       "      <th>10</th>\n",
       "      <td>12</td>\n",
       "      <td>0.958222</td>\n",
       "      <td>0.648033</td>\n",
       "      <td>0.310189</td>\n",
       "    </tr>\n",
       "    <tr>\n",
       "      <th>11</th>\n",
       "      <td>13</td>\n",
       "      <td>0.984889</td>\n",
       "      <td>0.645963</td>\n",
       "      <td>0.338926</td>\n",
       "    </tr>\n",
       "    <tr>\n",
       "      <th>12</th>\n",
       "      <td>14</td>\n",
       "      <td>0.987556</td>\n",
       "      <td>0.621118</td>\n",
       "      <td>0.366438</td>\n",
       "    </tr>\n",
       "    <tr>\n",
       "      <th>13</th>\n",
       "      <td>15</td>\n",
       "      <td>0.997333</td>\n",
       "      <td>0.633540</td>\n",
       "      <td>0.363793</td>\n",
       "    </tr>\n",
       "    <tr>\n",
       "      <th>14</th>\n",
       "      <td>16</td>\n",
       "      <td>0.999111</td>\n",
       "      <td>0.639752</td>\n",
       "      <td>0.359360</td>\n",
       "    </tr>\n",
       "    <tr>\n",
       "      <th>15</th>\n",
       "      <td>17</td>\n",
       "      <td>0.999111</td>\n",
       "      <td>0.631470</td>\n",
       "      <td>0.367641</td>\n",
       "    </tr>\n",
       "    <tr>\n",
       "      <th>16</th>\n",
       "      <td>18</td>\n",
       "      <td>1.000000</td>\n",
       "      <td>0.641822</td>\n",
       "      <td>0.358178</td>\n",
       "    </tr>\n",
       "    <tr>\n",
       "      <th>17</th>\n",
       "      <td>19</td>\n",
       "      <td>1.000000</td>\n",
       "      <td>0.627329</td>\n",
       "      <td>0.372671</td>\n",
       "    </tr>\n",
       "    <tr>\n",
       "      <th>18</th>\n",
       "      <td>20</td>\n",
       "      <td>1.000000</td>\n",
       "      <td>0.643892</td>\n",
       "      <td>0.356108</td>\n",
       "    </tr>\n",
       "    <tr>\n",
       "      <th>19</th>\n",
       "      <td>21</td>\n",
       "      <td>1.000000</td>\n",
       "      <td>0.641822</td>\n",
       "      <td>0.358178</td>\n",
       "    </tr>\n",
       "    <tr>\n",
       "      <th>20</th>\n",
       "      <td>22</td>\n",
       "      <td>1.000000</td>\n",
       "      <td>0.635611</td>\n",
       "      <td>0.364389</td>\n",
       "    </tr>\n",
       "    <tr>\n",
       "      <th>21</th>\n",
       "      <td>23</td>\n",
       "      <td>1.000000</td>\n",
       "      <td>0.641822</td>\n",
       "      <td>0.358178</td>\n",
       "    </tr>\n",
       "    <tr>\n",
       "      <th>22</th>\n",
       "      <td>24</td>\n",
       "      <td>1.000000</td>\n",
       "      <td>0.637681</td>\n",
       "      <td>0.362319</td>\n",
       "    </tr>\n",
       "  </tbody>\n",
       "</table>\n",
       "</div>"
      ],
      "text/plain": [
       "    max_depth  train_accuracy  validate_accuracy  difference\n",
       "0           2        0.625778           0.619048    0.006730\n",
       "1           3        0.656889           0.621118    0.035771\n",
       "2           4        0.679111           0.629400    0.049712\n",
       "3           5        0.705778           0.616977    0.088801\n",
       "4           6        0.730667           0.633540    0.097126\n",
       "5           7        0.777778           0.648033    0.129745\n",
       "6           8        0.817778           0.648033    0.169745\n",
       "7           9        0.872000           0.637681    0.234319\n",
       "8          10        0.896889           0.621118    0.275771\n",
       "9          11        0.928889           0.639752    0.289137\n",
       "10         12        0.958222           0.648033    0.310189\n",
       "11         13        0.984889           0.645963    0.338926\n",
       "12         14        0.987556           0.621118    0.366438\n",
       "13         15        0.997333           0.633540    0.363793\n",
       "14         16        0.999111           0.639752    0.359360\n",
       "15         17        0.999111           0.631470    0.367641\n",
       "16         18        1.000000           0.641822    0.358178\n",
       "17         19        1.000000           0.627329    0.372671\n",
       "18         20        1.000000           0.643892    0.356108\n",
       "19         21        1.000000           0.641822    0.358178\n",
       "20         22        1.000000           0.635611    0.364389\n",
       "21         23        1.000000           0.641822    0.358178\n",
       "22         24        1.000000           0.637681    0.362319"
      ]
     },
     "execution_count": 61,
     "metadata": {},
     "output_type": "execute_result"
    }
   ],
   "source": [
    "# Let's continue getting loopy, so we can compare in-sample to out-of-sample\n",
    "metrics = []\n",
    "\n",
    "for i in range(2, 25):\n",
    "    # Make the model\n",
    "    forest = RandomForestClassifier(max_depth=i, random_state=123)\n",
    "\n",
    "    # Fit the model (on train and only train)\n",
    "    forest = forest.fit(X_train, y_train)\n",
    "\n",
    "    # Use the model\n",
    "    # We'll evaluate the model's performance on train, first\n",
    "    in_sample_accuracy = forest.score(X_train, y_train)\n",
    "    \n",
    "    out_of_sample_accuracy = forest.score(X_val, y_val)\n",
    "\n",
    "    output = {\n",
    "        \"max_depth\": i,\n",
    "        \"train_accuracy\": in_sample_accuracy,\n",
    "        \"validate_accuracy\": out_of_sample_accuracy\n",
    "    }\n",
    "    \n",
    "    metrics.append(output)\n",
    "    \n",
    "df = pd.DataFrame(metrics)\n",
    "df[\"difference\"] = df.train_accuracy - df.validate_accuracy\n",
    "df"
   ]
  },
  {
   "cell_type": "code",
   "execution_count": 62,
   "id": "cb4f67d9-edba-4f25-962d-f46cc54491fe",
   "metadata": {
    "tags": []
   },
   "outputs": [
    {
     "data": {
      "image/png": "[encoded data removed]",
      "text/plain": [
       "<Figure size 1600x900 with 1 Axes>"
      ]
     },
     "metadata": {},
     "output_type": "display_data"
    }
   ],
   "source": [
    "df.set_index('max_depth').plot(figsize = (16,9))\n",
    "plt.ylabel('Accuracy')\n",
    "plt.xticks(np.arange(0,21,1))\n",
    "plt.grid()"
   ]
  },
  {
   "cell_type": "code",
   "execution_count": 63,
   "id": "0736479b-4403-428c-851d-062b54a9ed17",
   "metadata": {
    "tags": []
   },
   "outputs": [
    {
     "data": {
      "text/html": [
       "<div>\n",
       "<style scoped>\n",
       "    .dataframe tbody tr th:only-of-type {\n",
       "        vertical-align: middle;\n",
       "    }\n",
       "\n",
       "    .dataframe tbody tr th {\n",
       "        vertical-align: top;\n",
       "    }\n",
       "\n",
       "    .dataframe thead th {\n",
       "        text-align: right;\n",
       "    }\n",
       "</style>\n",
       "<table border=\"1\" class=\"dataframe\">\n",
       "  <thead>\n",
       "    <tr style=\"text-align: right;\">\n",
       "      <th></th>\n",
       "      <th>min_samples_per_leaf</th>\n",
       "      <th>max_depth</th>\n",
       "      <th>train_accuracy</th>\n",
       "      <th>validate_accuracy</th>\n",
       "      <th>difference</th>\n",
       "    </tr>\n",
       "  </thead>\n",
       "  <tbody>\n",
       "    <tr>\n",
       "      <th>0</th>\n",
       "      <td>2</td>\n",
       "      <td>2</td>\n",
       "      <td>0.626667</td>\n",
       "      <td>0.619048</td>\n",
       "      <td>0.007619</td>\n",
       "    </tr>\n",
       "    <tr>\n",
       "      <th>1</th>\n",
       "      <td>3</td>\n",
       "      <td>3</td>\n",
       "      <td>0.656000</td>\n",
       "      <td>0.625259</td>\n",
       "      <td>0.030741</td>\n",
       "    </tr>\n",
       "    <tr>\n",
       "      <th>2</th>\n",
       "      <td>4</td>\n",
       "      <td>4</td>\n",
       "      <td>0.671111</td>\n",
       "      <td>0.633540</td>\n",
       "      <td>0.037571</td>\n",
       "    </tr>\n",
       "    <tr>\n",
       "      <th>3</th>\n",
       "      <td>5</td>\n",
       "      <td>5</td>\n",
       "      <td>0.687111</td>\n",
       "      <td>0.627329</td>\n",
       "      <td>0.059782</td>\n",
       "    </tr>\n",
       "    <tr>\n",
       "      <th>4</th>\n",
       "      <td>6</td>\n",
       "      <td>6</td>\n",
       "      <td>0.705778</td>\n",
       "      <td>0.631470</td>\n",
       "      <td>0.074308</td>\n",
       "    </tr>\n",
       "    <tr>\n",
       "      <th>5</th>\n",
       "      <td>7</td>\n",
       "      <td>7</td>\n",
       "      <td>0.728889</td>\n",
       "      <td>0.621118</td>\n",
       "      <td>0.107771</td>\n",
       "    </tr>\n",
       "  </tbody>\n",
       "</table>\n",
       "</div>"
      ],
      "text/plain": [
       "   min_samples_per_leaf  max_depth  train_accuracy  validate_accuracy  \\\n",
       "0                     2          2        0.626667           0.619048   \n",
       "1                     3          3        0.656000           0.625259   \n",
       "2                     4          4        0.671111           0.633540   \n",
       "3                     5          5        0.687111           0.627329   \n",
       "4                     6          6        0.705778           0.631470   \n",
       "5                     7          7        0.728889           0.621118   \n",
       "\n",
       "   difference  \n",
       "0    0.007619  \n",
       "1    0.030741  \n",
       "2    0.037571  \n",
       "3    0.059782  \n",
       "4    0.074308  \n",
       "5    0.107771  "
      ]
     },
     "execution_count": 63,
     "metadata": {},
     "output_type": "execute_result"
    }
   ],
   "source": [
    "# Let's continue getting loopy, so we can compare in-sample to out-of-sample\n",
    "metrics = []\n",
    "max_depth = 8\n",
    "\n",
    "for i in range(2, max_depth):\n",
    "    # Make the model\n",
    "    depth = i\n",
    "    n_samples = i\n",
    "    forest = RandomForestClassifier(max_depth=depth, min_samples_leaf=n_samples, random_state=123)\n",
    "\n",
    "    # Fit the model (on train and only train)\n",
    "    forest = forest.fit(X_train, y_train)\n",
    "\n",
    "    # Use the model\n",
    "    # We'll evaluate the model's performance on train, first\n",
    "    in_sample_accuracy = forest.score(X_train, y_train)\n",
    "    \n",
    "    out_of_sample_accuracy = forest.score(X_val, y_val)\n",
    "\n",
    "    output = {\n",
    "        \"min_samples_per_leaf\": n_samples,\n",
    "        \"max_depth\": depth,\n",
    "        \"train_accuracy\": in_sample_accuracy,\n",
    "        \"validate_accuracy\": out_of_sample_accuracy\n",
    "    }\n",
    "    \n",
    "    metrics.append(output)\n",
    "    \n",
    "df = pd.DataFrame(metrics)\n",
    "df[\"difference\"] = df.train_accuracy - df.validate_accuracy\n",
    "df"
   ]
  },
  {
   "cell_type": "code",
   "execution_count": 64,
   "id": "ff1e7295-a401-48e3-b77a-fa9aa8053add",
   "metadata": {
    "tags": []
   },
   "outputs": [
    {
     "data": {
      "image/png": "[encoded data removed]",
      "text/plain": [
       "<Figure size 640x480 with 1 Axes>"
      ]
     },
     "metadata": {},
     "output_type": "display_data"
    }
   ],
   "source": [
    "df[['train_accuracy', 'validate_accuracy','difference']].plot()\n",
    "plt.grid()"
   ]
  },
  {
   "cell_type": "markdown",
   "id": "79235694-702b-4a8a-bbe6-6884c9ffabdf",
   "metadata": {},
   "source": [
    "# Logistic Regression: "
   ]
  },
  {
   "cell_type": "code",
   "execution_count": 65,
   "id": "2f3f7e3e-eae1-4ad5-a72e-75727b7d420b",
   "metadata": {
    "tags": []
   },
   "outputs": [],
   "source": [
    "\n",
    "metrics = []\n",
    "\n",
    "for c in np.arange(0.0001,0.1, 0.001):\n",
    "     # base line\n",
    "    baseline_accuracy = (train.potability == 0).mean()\n",
    "    \n",
    "    # create ramdom tree object\n",
    "    logReg = LogisticRegression(C=c, random_state=123, max_iter= 1000)\n",
    "    \n",
    "    # fit the model\n",
    "    randFor = logReg.fit(X_train, y_train)\n",
    "    \n",
    "    # get accuracy scores\n",
    "    train_score = randFor.score(X_train, y_train)\n",
    "    validate_score = randFor.score(X_val, y_val)\n",
    "    \n",
    "    # create a dictionary of scores\n",
    "    output = {\n",
    "        \"C\": c,\n",
    "        \"train_score\": train_score,\n",
    "         \"validate_score\": validate_score,\n",
    "        \"difference\": train_score - validate_score,\n",
    "        \"train_baseline_diff\": baseline_accuracy - train_score,\n",
    "        \"validate_baseline_diff\": baseline_accuracy - validate_score,\n",
    "        \"baseline_accuracy\": baseline_accuracy\n",
    "    }\n",
    "    \n",
    "    metrics.append(output)"
   ]
  },
  {
   "cell_type": "code",
   "execution_count": 66,
   "id": "389ccf5b-1804-4e6a-9b53-0da8cde5aea1",
   "metadata": {
    "tags": []
   },
   "outputs": [
    {
     "data": {
      "text/html": [
       "<div>\n",
       "<style scoped>\n",
       "    .dataframe tbody tr th:only-of-type {\n",
       "        vertical-align: middle;\n",
       "    }\n",
       "\n",
       "    .dataframe tbody tr th {\n",
       "        vertical-align: top;\n",
       "    }\n",
       "\n",
       "    .dataframe thead th {\n",
       "        text-align: right;\n",
       "    }\n",
       "</style>\n",
       "<table border=\"1\" class=\"dataframe\">\n",
       "  <thead>\n",
       "    <tr style=\"text-align: right;\">\n",
       "      <th></th>\n",
       "      <th>C</th>\n",
       "      <th>train_score</th>\n",
       "      <th>validate_score</th>\n",
       "      <th>difference</th>\n",
       "      <th>train_baseline_diff</th>\n",
       "      <th>validate_baseline_diff</th>\n",
       "      <th>baseline_accuracy</th>\n",
       "    </tr>\n",
       "  </thead>\n",
       "  <tbody>\n",
       "    <tr>\n",
       "      <th>0</th>\n",
       "      <td>0.0001</td>\n",
       "      <td>0.597333</td>\n",
       "      <td>0.596273</td>\n",
       "      <td>0.001060</td>\n",
       "      <td>0.000000</td>\n",
       "      <td>0.001060</td>\n",
       "      <td>0.597333</td>\n",
       "    </tr>\n",
       "    <tr>\n",
       "      <th>1</th>\n",
       "      <td>0.0011</td>\n",
       "      <td>0.599111</td>\n",
       "      <td>0.590062</td>\n",
       "      <td>0.009049</td>\n",
       "      <td>-0.001778</td>\n",
       "      <td>0.007271</td>\n",
       "      <td>0.597333</td>\n",
       "    </tr>\n",
       "    <tr>\n",
       "      <th>2</th>\n",
       "      <td>0.0021</td>\n",
       "      <td>0.596444</td>\n",
       "      <td>0.596273</td>\n",
       "      <td>0.000171</td>\n",
       "      <td>0.000889</td>\n",
       "      <td>0.001060</td>\n",
       "      <td>0.597333</td>\n",
       "    </tr>\n",
       "    <tr>\n",
       "      <th>3</th>\n",
       "      <td>0.0031</td>\n",
       "      <td>0.596444</td>\n",
       "      <td>0.596273</td>\n",
       "      <td>0.000171</td>\n",
       "      <td>0.000889</td>\n",
       "      <td>0.001060</td>\n",
       "      <td>0.597333</td>\n",
       "    </tr>\n",
       "    <tr>\n",
       "      <th>4</th>\n",
       "      <td>0.0041</td>\n",
       "      <td>0.607111</td>\n",
       "      <td>0.606625</td>\n",
       "      <td>0.000486</td>\n",
       "      <td>-0.009778</td>\n",
       "      <td>-0.009292</td>\n",
       "      <td>0.597333</td>\n",
       "    </tr>\n",
       "    <tr>\n",
       "      <th>...</th>\n",
       "      <td>...</td>\n",
       "      <td>...</td>\n",
       "      <td>...</td>\n",
       "      <td>...</td>\n",
       "      <td>...</td>\n",
       "      <td>...</td>\n",
       "      <td>...</td>\n",
       "    </tr>\n",
       "    <tr>\n",
       "      <th>95</th>\n",
       "      <td>0.0951</td>\n",
       "      <td>0.616000</td>\n",
       "      <td>0.612836</td>\n",
       "      <td>0.003164</td>\n",
       "      <td>-0.018667</td>\n",
       "      <td>-0.015503</td>\n",
       "      <td>0.597333</td>\n",
       "    </tr>\n",
       "    <tr>\n",
       "      <th>96</th>\n",
       "      <td>0.0961</td>\n",
       "      <td>0.609778</td>\n",
       "      <td>0.604555</td>\n",
       "      <td>0.005223</td>\n",
       "      <td>-0.012444</td>\n",
       "      <td>-0.007222</td>\n",
       "      <td>0.597333</td>\n",
       "    </tr>\n",
       "    <tr>\n",
       "      <th>97</th>\n",
       "      <td>0.0971</td>\n",
       "      <td>0.609778</td>\n",
       "      <td>0.604555</td>\n",
       "      <td>0.005223</td>\n",
       "      <td>-0.012444</td>\n",
       "      <td>-0.007222</td>\n",
       "      <td>0.597333</td>\n",
       "    </tr>\n",
       "    <tr>\n",
       "      <th>98</th>\n",
       "      <td>0.0981</td>\n",
       "      <td>0.609778</td>\n",
       "      <td>0.604555</td>\n",
       "      <td>0.005223</td>\n",
       "      <td>-0.012444</td>\n",
       "      <td>-0.007222</td>\n",
       "      <td>0.597333</td>\n",
       "    </tr>\n",
       "    <tr>\n",
       "      <th>99</th>\n",
       "      <td>0.0991</td>\n",
       "      <td>0.596444</td>\n",
       "      <td>0.596273</td>\n",
       "      <td>0.000171</td>\n",
       "      <td>0.000889</td>\n",
       "      <td>0.001060</td>\n",
       "      <td>0.597333</td>\n",
       "    </tr>\n",
       "  </tbody>\n",
       "</table>\n",
       "<p>100 rows × 7 columns</p>\n",
       "</div>"
      ],
      "text/plain": [
       "         C  train_score  validate_score  difference  train_baseline_diff  \\\n",
       "0   0.0001     0.597333        0.596273    0.001060             0.000000   \n",
       "1   0.0011     0.599111        0.590062    0.009049            -0.001778   \n",
       "2   0.0021     0.596444        0.596273    0.000171             0.000889   \n",
       "3   0.0031     0.596444        0.596273    0.000171             0.000889   \n",
       "4   0.0041     0.607111        0.606625    0.000486            -0.009778   \n",
       "..     ...          ...             ...         ...                  ...   \n",
       "95  0.0951     0.616000        0.612836    0.003164            -0.018667   \n",
       "96  0.0961     0.609778        0.604555    0.005223            -0.012444   \n",
       "97  0.0971     0.609778        0.604555    0.005223            -0.012444   \n",
       "98  0.0981     0.609778        0.604555    0.005223            -0.012444   \n",
       "99  0.0991     0.596444        0.596273    0.000171             0.000889   \n",
       "\n",
       "    validate_baseline_diff  baseline_accuracy  \n",
       "0                 0.001060           0.597333  \n",
       "1                 0.007271           0.597333  \n",
       "2                 0.001060           0.597333  \n",
       "3                 0.001060           0.597333  \n",
       "4                -0.009292           0.597333  \n",
       "..                     ...                ...  \n",
       "95               -0.015503           0.597333  \n",
       "96               -0.007222           0.597333  \n",
       "97               -0.007222           0.597333  \n",
       "98               -0.007222           0.597333  \n",
       "99                0.001060           0.597333  \n",
       "\n",
       "[100 rows x 7 columns]"
      ]
     },
     "execution_count": 66,
     "metadata": {},
     "output_type": "execute_result"
    }
   ],
   "source": [
    "# get the result as a dataframe\n",
    "model_df = pd.DataFrame(metrics)\n",
    "model_df"
   ]
  },
  {
   "cell_type": "code",
   "execution_count": 67,
   "id": "6d53b6f8-69d8-4bdd-a36f-440aacb1dbf5",
   "metadata": {
    "tags": []
   },
   "outputs": [
    {
     "data": {
      "image/png": "[encoded data removed]",
      "text/plain": [
       "<Figure size 640x480 with 1 Axes>"
      ]
     },
     "metadata": {},
     "output_type": "display_data"
    }
   ],
   "source": [
    "model_df[model_df.columns[:-4]].set_index(\"C\").plot()\n",
    "plt.ylabel('accuracy')\n",
    "plt.xlabel('C')\n",
    "plt.title(\"Train vs Validate Accuracy Scores\")\n",
    "plt.grid()\n",
    "plt.show()"
   ]
  },
  {
   "cell_type": "code",
   "execution_count": 68,
   "id": "7f9e2e12-2dec-436b-b970-6765a633e0e6",
   "metadata": {
    "tags": []
   },
   "outputs": [
    {
     "data": {
      "text/html": [
       "<div>\n",
       "<style scoped>\n",
       "    .dataframe tbody tr th:only-of-type {\n",
       "        vertical-align: middle;\n",
       "    }\n",
       "\n",
       "    .dataframe tbody tr th {\n",
       "        vertical-align: top;\n",
       "    }\n",
       "\n",
       "    .dataframe thead th {\n",
       "        text-align: right;\n",
       "    }\n",
       "</style>\n",
       "<table border=\"1\" class=\"dataframe\">\n",
       "  <thead>\n",
       "    <tr style=\"text-align: right;\">\n",
       "      <th></th>\n",
       "      <th>C</th>\n",
       "      <th>train_score</th>\n",
       "      <th>validate_score</th>\n",
       "      <th>difference</th>\n",
       "      <th>train_baseline_diff</th>\n",
       "      <th>validate_baseline_diff</th>\n",
       "      <th>baseline_accuracy</th>\n",
       "    </tr>\n",
       "  </thead>\n",
       "  <tbody>\n",
       "    <tr>\n",
       "      <th>49</th>\n",
       "      <td>0.0491</td>\n",
       "      <td>0.596444</td>\n",
       "      <td>0.596273</td>\n",
       "      <td>0.000171</td>\n",
       "      <td>0.000889</td>\n",
       "      <td>0.00106</td>\n",
       "      <td>0.597333</td>\n",
       "    </tr>\n",
       "    <tr>\n",
       "      <th>53</th>\n",
       "      <td>0.0531</td>\n",
       "      <td>0.596444</td>\n",
       "      <td>0.596273</td>\n",
       "      <td>0.000171</td>\n",
       "      <td>0.000889</td>\n",
       "      <td>0.00106</td>\n",
       "      <td>0.597333</td>\n",
       "    </tr>\n",
       "  </tbody>\n",
       "</table>\n",
       "</div>"
      ],
      "text/plain": [
       "         C  train_score  validate_score  difference  train_baseline_diff  \\\n",
       "49  0.0491     0.596444        0.596273    0.000171             0.000889   \n",
       "53  0.0531     0.596444        0.596273    0.000171             0.000889   \n",
       "\n",
       "    validate_baseline_diff  baseline_accuracy  \n",
       "49                 0.00106           0.597333  \n",
       "53                 0.00106           0.597333  "
      ]
     },
     "execution_count": 68,
     "metadata": {},
     "output_type": "execute_result"
    }
   ],
   "source": [
    "# find the model with smallest ifference between the train and validate\n",
    "high_models = model_df[(model_df.C > 0.045) & (model_df.C < 0.055)]\n",
    "\n",
    "high_models[high_models.difference == high_models.difference.min()]"
   ]
  },
  {
   "cell_type": "markdown",
   "id": "bff3cb25-b03f-4560-bef0-b97ed4f54a33",
   "metadata": {},
   "source": [
    "# KNN"
   ]
  },
  {
   "cell_type": "code",
   "execution_count": 69,
   "id": "8020041e-498a-4926-84f8-da4860d367ea",
   "metadata": {
    "tags": []
   },
   "outputs": [
    {
     "name": "stdout",
     "output_type": "stream",
     "text": [
      "X_train type: <class 'pandas.core.frame.DataFrame'>\n",
      "X_train shape: (1125, 25)\n",
      "y_train type: <class 'pandas.core.series.Series'>\n",
      "y_train shape: (1125,)\n"
     ]
    }
   ],
   "source": [
    "print(\"X_train type:\", type(X_train))\n",
    "print(\"X_train shape:\", X_train.shape)\n",
    "print(\"y_train type:\", type(y_train))\n",
    "print(\"y_train shape:\", y_train.shape)"
   ]
  },
  {
   "cell_type": "code",
   "execution_count": 70,
   "id": "14a22d0c-3028-46bf-96eb-095534c046a3",
   "metadata": {
    "tags": []
   },
   "outputs": [],
   "source": [
    "X_train_numpy = X_train.values"
   ]
  },
  {
   "cell_type": "code",
   "execution_count": 71,
   "id": "06c81d94-bc2e-40a4-9d1c-cd66ad369647",
   "metadata": {
    "tags": []
   },
   "outputs": [
    {
     "name": "stdout",
     "output_type": "stream",
     "text": [
      "  C_CONTIGUOUS : False\n",
      "  F_CONTIGUOUS : True\n",
      "  OWNDATA : False\n",
      "  WRITEABLE : True\n",
      "  ALIGNED : True\n",
      "  WRITEBACKIFCOPY : False\n",
      "\n"
     ]
    }
   ],
   "source": [
    "print(X_train_numpy.flags)"
   ]
  },
  {
   "cell_type": "code",
   "execution_count": 72,
   "id": "bf21fc9b-ed2c-4937-9453-7cce481847ca",
   "metadata": {
    "tags": []
   },
   "outputs": [],
   "source": [
    "X_train = np.ascontiguousarray(X_train_numpy)"
   ]
  },
  {
   "cell_type": "code",
   "execution_count": 73,
   "id": "310179da-50b0-4651-b7ba-b6f020bd8701",
   "metadata": {
    "tags": []
   },
   "outputs": [
    {
     "name": "stdout",
     "output_type": "stream",
     "text": [
      "  C_CONTIGUOUS : False\n",
      "  F_CONTIGUOUS : True\n",
      "  OWNDATA : False\n",
      "  WRITEABLE : True\n",
      "  ALIGNED : True\n",
      "  WRITEBACKIFCOPY : False\n",
      "\n"
     ]
    }
   ],
   "source": [
    "print(X_train_numpy.flags)"
   ]
  },
  {
   "cell_type": "code",
   "execution_count": 74,
   "id": "30aedf69-70c7-4ca7-a0f3-d659883a605a",
   "metadata": {
    "tags": []
   },
   "outputs": [
    {
     "data": {
      "text/plain": [
       "numpy.ndarray"
      ]
     },
     "execution_count": 74,
     "metadata": {},
     "output_type": "execute_result"
    }
   ],
   "source": [
    "type(X_train)"
   ]
  },
  {
   "cell_type": "code",
   "execution_count": 75,
   "id": "61b603f2-8730-44d0-8f90-99aa3f993c30",
   "metadata": {},
   "outputs": [],
   "source": [
    "# work X-Train out: \n",
    "X_val = np.ascontiguousarray(X_val.values)\n",
    "X_test = np.ascontiguousarray(X_test.values)"
   ]
  },
  {
   "cell_type": "code",
   "execution_count": 76,
   "id": "8206bb3c-2f60-41aa-a928-648e399b1ce1",
   "metadata": {
    "tags": []
   },
   "outputs": [],
   "source": [
    "# Make the KNN classifier\n",
    "knn = KNeighborsClassifier()\n",
    "\n",
    "# Fit the KNN classifier\n",
    "knn.fit(X_train, y_train)\n",
    "\n",
    "# Use the trained classifier\n",
    "y_train_pred = knn.predict(X_train)"
   ]
  },
  {
   "cell_type": "code",
   "execution_count": 77,
   "id": "99a56ae2-a241-4dd2-a450-1e1ddbb594e1",
   "metadata": {},
   "outputs": [
    {
     "data": {
      "text/plain": [
       "0.6933333333333334"
      ]
     },
     "execution_count": 77,
     "metadata": {},
     "output_type": "execute_result"
    }
   ],
   "source": [
    "#get the accuracy score of train set\n",
    "train_score = knn.score(X_train, y_train)\n",
    "train_score"
   ]
  },
  {
   "cell_type": "code",
   "execution_count": 78,
   "id": "ea8d0d5d-8afd-44bd-bc85-8e11aad838db",
   "metadata": {},
   "outputs": [
    {
     "data": {
      "text/html": [
       "<div>\n",
       "<style scoped>\n",
       "    .dataframe tbody tr th:only-of-type {\n",
       "        vertical-align: middle;\n",
       "    }\n",
       "\n",
       "    .dataframe tbody tr th {\n",
       "        vertical-align: top;\n",
       "    }\n",
       "\n",
       "    .dataframe thead th {\n",
       "        text-align: right;\n",
       "    }\n",
       "</style>\n",
       "<table border=\"1\" class=\"dataframe\">\n",
       "  <thead>\n",
       "    <tr style=\"text-align: right;\">\n",
       "      <th></th>\n",
       "      <th>Pred 0</th>\n",
       "      <th>Pred 1</th>\n",
       "    </tr>\n",
       "  </thead>\n",
       "  <tbody>\n",
       "    <tr>\n",
       "      <th>Actual 0</th>\n",
       "      <td>551</td>\n",
       "      <td>121</td>\n",
       "    </tr>\n",
       "    <tr>\n",
       "      <th>Actual 1</th>\n",
       "      <td>224</td>\n",
       "      <td>229</td>\n",
       "    </tr>\n",
       "  </tbody>\n",
       "</table>\n",
       "</div>"
      ],
      "text/plain": [
       "          Pred 0  Pred 1\n",
       "Actual 0     551     121\n",
       "Actual 1     224     229"
      ]
     },
     "execution_count": 78,
     "metadata": {},
     "output_type": "execute_result"
    }
   ],
   "source": [
    "#confusion matrix\n",
    "cm = confusion_matrix(y_train, y_train_pred)\n",
    "pd.DataFrame(cm, index=['Actual 0', 'Actual 1'], \n",
    "             columns=['Pred 0', 'Pred 1'])"
   ]
  },
  {
   "cell_type": "code",
   "execution_count": 79,
   "id": "5cf453c8-4766-4c4e-a02a-98112616d900",
   "metadata": {},
   "outputs": [
    {
     "name": "stdout",
     "output_type": "stream",
     "text": [
      "              precision    recall  f1-score   support\n",
      "\n",
      "           0       0.71      0.82      0.76       672\n",
      "           1       0.65      0.51      0.57       453\n",
      "\n",
      "    accuracy                           0.69      1125\n",
      "   macro avg       0.68      0.66      0.67      1125\n",
      "weighted avg       0.69      0.69      0.68      1125\n",
      "\n"
     ]
    }
   ],
   "source": [
    "#classification report\n",
    "print(classification_report(y_train, y_train_pred))"
   ]
  },
  {
   "cell_type": "code",
   "execution_count": 80,
   "id": "8265d9c5-fecd-4944-b50c-c4a8763020f7",
   "metadata": {},
   "outputs": [
    {
     "data": {
      "text/html": [
       "<div>\n",
       "<style scoped>\n",
       "    .dataframe tbody tr th:only-of-type {\n",
       "        vertical-align: middle;\n",
       "    }\n",
       "\n",
       "    .dataframe tbody tr th {\n",
       "        vertical-align: top;\n",
       "    }\n",
       "\n",
       "    .dataframe thead th {\n",
       "        text-align: right;\n",
       "    }\n",
       "</style>\n",
       "<table border=\"1\" class=\"dataframe\">\n",
       "  <thead>\n",
       "    <tr style=\"text-align: right;\">\n",
       "      <th></th>\n",
       "      <th>precision</th>\n",
       "      <th>recall</th>\n",
       "      <th>f1-score</th>\n",
       "      <th>support</th>\n",
       "    </tr>\n",
       "  </thead>\n",
       "  <tbody>\n",
       "    <tr>\n",
       "      <th>0</th>\n",
       "      <td>0.710968</td>\n",
       "      <td>0.819940</td>\n",
       "      <td>0.761576</td>\n",
       "      <td>672.000000</td>\n",
       "    </tr>\n",
       "    <tr>\n",
       "      <th>1</th>\n",
       "      <td>0.654286</td>\n",
       "      <td>0.505519</td>\n",
       "      <td>0.570361</td>\n",
       "      <td>453.000000</td>\n",
       "    </tr>\n",
       "    <tr>\n",
       "      <th>accuracy</th>\n",
       "      <td>0.693333</td>\n",
       "      <td>0.693333</td>\n",
       "      <td>0.693333</td>\n",
       "      <td>0.693333</td>\n",
       "    </tr>\n",
       "    <tr>\n",
       "      <th>macro avg</th>\n",
       "      <td>0.682627</td>\n",
       "      <td>0.662730</td>\n",
       "      <td>0.665968</td>\n",
       "      <td>1125.000000</td>\n",
       "    </tr>\n",
       "    <tr>\n",
       "      <th>weighted avg</th>\n",
       "      <td>0.688144</td>\n",
       "      <td>0.693333</td>\n",
       "      <td>0.684580</td>\n",
       "      <td>1125.000000</td>\n",
       "    </tr>\n",
       "  </tbody>\n",
       "</table>\n",
       "</div>"
      ],
      "text/plain": [
       "              precision    recall  f1-score      support\n",
       "0              0.710968  0.819940  0.761576   672.000000\n",
       "1              0.654286  0.505519  0.570361   453.000000\n",
       "accuracy       0.693333  0.693333  0.693333     0.693333\n",
       "macro avg      0.682627  0.662730  0.665968  1125.000000\n",
       "weighted avg   0.688144  0.693333  0.684580  1125.000000"
      ]
     },
     "execution_count": 80,
     "metadata": {},
     "output_type": "execute_result"
    }
   ],
   "source": [
    "#classification report as a df\n",
    "pd.DataFrame(classification_report(y_train, \n",
    "                                   y_train_pred, \n",
    "                                   output_dict=True)).T"
   ]
  },
  {
   "cell_type": "code",
   "execution_count": 81,
   "id": "c32c2734-affa-4358-83d1-591993b53515",
   "metadata": {},
   "outputs": [
    {
     "data": {
      "text/html": [
       "<div>\n",
       "<style scoped>\n",
       "    .dataframe tbody tr th:only-of-type {\n",
       "        vertical-align: middle;\n",
       "    }\n",
       "\n",
       "    .dataframe tbody tr th {\n",
       "        vertical-align: top;\n",
       "    }\n",
       "\n",
       "    .dataframe thead th {\n",
       "        text-align: right;\n",
       "    }\n",
       "</style>\n",
       "<table border=\"1\" class=\"dataframe\">\n",
       "  <thead>\n",
       "    <tr style=\"text-align: right;\">\n",
       "      <th></th>\n",
       "      <th>metric</th>\n",
       "      <th>score</th>\n",
       "    </tr>\n",
       "  </thead>\n",
       "  <tbody>\n",
       "    <tr>\n",
       "      <th>0</th>\n",
       "      <td>accuracy</td>\n",
       "      <td>0.693333</td>\n",
       "    </tr>\n",
       "    <tr>\n",
       "      <th>1</th>\n",
       "      <td>true_positive_rate</td>\n",
       "      <td>0.505519</td>\n",
       "    </tr>\n",
       "    <tr>\n",
       "      <th>2</th>\n",
       "      <td>false_positive_rate</td>\n",
       "      <td>0.180060</td>\n",
       "    </tr>\n",
       "    <tr>\n",
       "      <th>3</th>\n",
       "      <td>true_negative_rate</td>\n",
       "      <td>0.819940</td>\n",
       "    </tr>\n",
       "    <tr>\n",
       "      <th>4</th>\n",
       "      <td>false_negative_rate</td>\n",
       "      <td>0.494481</td>\n",
       "    </tr>\n",
       "    <tr>\n",
       "      <th>5</th>\n",
       "      <td>precision</td>\n",
       "      <td>0.654286</td>\n",
       "    </tr>\n",
       "    <tr>\n",
       "      <th>6</th>\n",
       "      <td>recall</td>\n",
       "      <td>0.505519</td>\n",
       "    </tr>\n",
       "    <tr>\n",
       "      <th>7</th>\n",
       "      <td>f1_score</td>\n",
       "      <td>0.570361</td>\n",
       "    </tr>\n",
       "    <tr>\n",
       "      <th>8</th>\n",
       "      <td>support_pos</td>\n",
       "      <td>453.000000</td>\n",
       "    </tr>\n",
       "    <tr>\n",
       "      <th>9</th>\n",
       "      <td>support_neg</td>\n",
       "      <td>672.000000</td>\n",
       "    </tr>\n",
       "  </tbody>\n",
       "</table>\n",
       "</div>"
      ],
      "text/plain": [
       "                metric       score\n",
       "0             accuracy    0.693333\n",
       "1   true_positive_rate    0.505519\n",
       "2  false_positive_rate    0.180060\n",
       "3   true_negative_rate    0.819940\n",
       "4  false_negative_rate    0.494481\n",
       "5            precision    0.654286\n",
       "6               recall    0.505519\n",
       "7             f1_score    0.570361\n",
       "8          support_pos  453.000000\n",
       "9          support_neg  672.000000"
      ]
     },
     "execution_count": 81,
     "metadata": {},
     "output_type": "execute_result"
    }
   ],
   "source": [
    "tn, fp, fn, tp = cm.ravel()\n",
    "\n",
    "accuracy = (tp + tn)/(tn + fp + fn + tp)\n",
    "\n",
    "true_positive_rate = tp/(tp + fn)\n",
    "false_positive_rate = fp/(fp + tn)\n",
    "true_negative_rate = tn/(tn + fp)\n",
    "false_negative_rate = fn/(fn + tp)\n",
    "\n",
    "precision = tp/(tp + fp)\n",
    "recall = tp/(tp + fn)\n",
    "f1_score = 2*(precision*recall)/(precision+recall)\n",
    "\n",
    "support_pos = tp + fn\n",
    "support_neg = fp + tn\n",
    "\n",
    "dict = {\n",
    "    'metric' : ['accuracy'\n",
    "                ,'true_positive_rate'\n",
    "                ,'false_positive_rate'\n",
    "                ,'true_negative_rate'\n",
    "                ,'false_negative_rate'\n",
    "                ,'precision'\n",
    "                ,'recall'\n",
    "                ,'f1_score'\n",
    "                ,'support_pos'\n",
    "                ,'support_neg']\n",
    "    ,'score' : [accuracy\n",
    "                ,true_positive_rate\n",
    "                ,false_positive_rate\n",
    "                ,true_negative_rate\n",
    "                ,false_negative_rate\n",
    "                ,precision\n",
    "                ,recall\n",
    "                ,f1_score\n",
    "                ,support_pos\n",
    "                ,support_neg]\n",
    "}\n",
    "\n",
    "pd.DataFrame(dict)"
   ]
  },
  {
   "cell_type": "code",
   "execution_count": 82,
   "id": "a1f4601b-9e79-450a-91c0-cd57add2f0ab",
   "metadata": {},
   "outputs": [],
   "source": [
    "def print_cm_metrics(cm):\n",
    "    tn, fp, fn, tp = cm.ravel()\n",
    "\n",
    "    accuracy = (tp + tn)/(tn + fp + fn + tp)\n",
    "\n",
    "    true_positive_rate = tp/(tp + fn)\n",
    "    false_positive_rate = fp/(fp + tn)\n",
    "    true_negative_rate = tn/(tn + fp)\n",
    "    false_negative_rate = fn/(fn + tp)\n",
    "\n",
    "    precision = tp/(tp + fp)\n",
    "    recall = tp/(tp + fn)\n",
    "    f1_score = 2*(precision*recall)/(precision+recall)\n",
    "\n",
    "    support_pos = tp + fn\n",
    "    support_neg = fp + tn\n",
    "\n",
    "    dict = {\n",
    "        'metric' : ['accuracy'\n",
    "                    ,'true_positive_rate'\n",
    "                    ,'false_positive_rate'\n",
    "                    ,'true_negative_rate'\n",
    "                    ,'false_negative_rate'\n",
    "                    ,'precision'\n",
    "                    ,'recall'\n",
    "                    ,'f1_score'\n",
    "                    ,'support_pos'\n",
    "                    ,'support_neg']\n",
    "        ,'score' : [accuracy\n",
    "                    ,true_positive_rate\n",
    "                    ,false_positive_rate\n",
    "                    ,true_negative_rate\n",
    "                    ,false_negative_rate\n",
    "                    ,precision\n",
    "                    ,recall\n",
    "                    ,f1_score\n",
    "                    ,support_pos\n",
    "                    ,support_neg]\n",
    "    }\n",
    "\n",
    "    return pd.DataFrame(dict)"
   ]
  },
  {
   "cell_type": "code",
   "execution_count": 83,
   "id": "e446d5ea-d6b4-4892-8a2a-4e2ee54eac54",
   "metadata": {},
   "outputs": [],
   "source": [
    "def knn_fit_predict(k, X_train, y_train, X_validate):\n",
    "    '''\n",
    "    This function takes n_neighbors, X_train,  target  and X_val\n",
    "    and returns knn, predictions for train set and validate set\n",
    "    '''\n",
    "    # MAKE the thing\n",
    "    knn = KNeighborsClassifier(n_neighbors=k)\n",
    "\n",
    "    # FIT the thing\n",
    "    knn.fit(X_train, y_train)\n",
    "\n",
    "    # USE the thing\n",
    "    y_train_pred = knn.predict(X_train)\n",
    "    y_validate_pred = knn.predict(X_validate)\n",
    "    \n",
    "    return knn, y_train_pred, y_validate_pred"
   ]
  },
  {
   "cell_type": "code",
   "execution_count": 84,
   "id": "031faaca-6e24-40c2-9f86-78af7fdaf52a",
   "metadata": {},
   "outputs": [],
   "source": [
    "#Now, let's make a function to return the \n",
    "#accuracy, confusion matrix and classification report\n",
    "\n",
    "def evaluate_clf(model, X, y, y_pred):\n",
    "    '''\n",
    "    This function can be used on any classification model\n",
    "    It takes in a model, features, target and prediction\n",
    "    and returns the accuracy, confusion matrix and classification report\n",
    "    '''\n",
    "    # model score\n",
    "    accuracy = model.score(X, y)\n",
    "\n",
    "    # confusion matrix\n",
    "    cm = confusion_matrix(y, y_pred)\n",
    "    cmdf = pd.DataFrame(cm, index=['Actual 0', 'Actual 1'], \n",
    "                       columns=['Pred 0', 'Pred 1'])\n",
    "\n",
    "    # classification report\n",
    "    crdf = pd.DataFrame(classification_report(y, y_pred, output_dict=True))\n",
    "    \n",
    "    # confusion matrix metrics\n",
    "    metrics = print_cm_metrics(cm)\n",
    "    \n",
    "    return accuracy, cmdf, crdf, metrics"
   ]
  },
  {
   "cell_type": "code",
   "execution_count": 85,
   "id": "d73badb7-f479-4ee6-8199-0282dd1c0689",
   "metadata": {},
   "outputs": [
    {
     "data": {
      "text/html": [
       "<div>\n",
       "<style scoped>\n",
       "    .dataframe tbody tr th:only-of-type {\n",
       "        vertical-align: middle;\n",
       "    }\n",
       "\n",
       "    .dataframe tbody tr th {\n",
       "        vertical-align: top;\n",
       "    }\n",
       "\n",
       "    .dataframe thead th {\n",
       "        text-align: right;\n",
       "    }\n",
       "</style>\n",
       "<table border=\"1\" class=\"dataframe\">\n",
       "  <thead>\n",
       "    <tr style=\"text-align: right;\">\n",
       "      <th></th>\n",
       "      <th>k</th>\n",
       "      <th>train_accuracy</th>\n",
       "      <th>validate_accuracy</th>\n",
       "      <th>difference</th>\n",
       "    </tr>\n",
       "  </thead>\n",
       "  <tbody>\n",
       "    <tr>\n",
       "      <th>0</th>\n",
       "      <td>1</td>\n",
       "      <td>1.000000</td>\n",
       "      <td>0.532091</td>\n",
       "      <td>0.467909</td>\n",
       "    </tr>\n",
       "    <tr>\n",
       "      <th>1</th>\n",
       "      <td>2</td>\n",
       "      <td>0.737778</td>\n",
       "      <td>0.575569</td>\n",
       "      <td>0.162208</td>\n",
       "    </tr>\n",
       "    <tr>\n",
       "      <th>2</th>\n",
       "      <td>3</td>\n",
       "      <td>0.749333</td>\n",
       "      <td>0.525880</td>\n",
       "      <td>0.223453</td>\n",
       "    </tr>\n",
       "    <tr>\n",
       "      <th>3</th>\n",
       "      <td>4</td>\n",
       "      <td>0.688000</td>\n",
       "      <td>0.563147</td>\n",
       "      <td>0.124853</td>\n",
       "    </tr>\n",
       "    <tr>\n",
       "      <th>4</th>\n",
       "      <td>5</td>\n",
       "      <td>0.693333</td>\n",
       "      <td>0.552795</td>\n",
       "      <td>0.140538</td>\n",
       "    </tr>\n",
       "    <tr>\n",
       "      <th>5</th>\n",
       "      <td>6</td>\n",
       "      <td>0.666667</td>\n",
       "      <td>0.561077</td>\n",
       "      <td>0.105590</td>\n",
       "    </tr>\n",
       "    <tr>\n",
       "      <th>6</th>\n",
       "      <td>7</td>\n",
       "      <td>0.683556</td>\n",
       "      <td>0.534161</td>\n",
       "      <td>0.149394</td>\n",
       "    </tr>\n",
       "    <tr>\n",
       "      <th>7</th>\n",
       "      <td>8</td>\n",
       "      <td>0.664000</td>\n",
       "      <td>0.567288</td>\n",
       "      <td>0.096712</td>\n",
       "    </tr>\n",
       "    <tr>\n",
       "      <th>8</th>\n",
       "      <td>9</td>\n",
       "      <td>0.677333</td>\n",
       "      <td>0.552795</td>\n",
       "      <td>0.124538</td>\n",
       "    </tr>\n",
       "    <tr>\n",
       "      <th>9</th>\n",
       "      <td>10</td>\n",
       "      <td>0.656000</td>\n",
       "      <td>0.550725</td>\n",
       "      <td>0.105275</td>\n",
       "    </tr>\n",
       "    <tr>\n",
       "      <th>10</th>\n",
       "      <td>11</td>\n",
       "      <td>0.665778</td>\n",
       "      <td>0.532091</td>\n",
       "      <td>0.133687</td>\n",
       "    </tr>\n",
       "    <tr>\n",
       "      <th>11</th>\n",
       "      <td>12</td>\n",
       "      <td>0.654222</td>\n",
       "      <td>0.552795</td>\n",
       "      <td>0.101427</td>\n",
       "    </tr>\n",
       "    <tr>\n",
       "      <th>12</th>\n",
       "      <td>13</td>\n",
       "      <td>0.651556</td>\n",
       "      <td>0.540373</td>\n",
       "      <td>0.111183</td>\n",
       "    </tr>\n",
       "    <tr>\n",
       "      <th>13</th>\n",
       "      <td>14</td>\n",
       "      <td>0.633778</td>\n",
       "      <td>0.573499</td>\n",
       "      <td>0.060279</td>\n",
       "    </tr>\n",
       "    <tr>\n",
       "      <th>14</th>\n",
       "      <td>15</td>\n",
       "      <td>0.653333</td>\n",
       "      <td>0.552795</td>\n",
       "      <td>0.100538</td>\n",
       "    </tr>\n",
       "    <tr>\n",
       "      <th>15</th>\n",
       "      <td>16</td>\n",
       "      <td>0.630222</td>\n",
       "      <td>0.552795</td>\n",
       "      <td>0.077427</td>\n",
       "    </tr>\n",
       "    <tr>\n",
       "      <th>16</th>\n",
       "      <td>17</td>\n",
       "      <td>0.630222</td>\n",
       "      <td>0.550725</td>\n",
       "      <td>0.079498</td>\n",
       "    </tr>\n",
       "    <tr>\n",
       "      <th>17</th>\n",
       "      <td>18</td>\n",
       "      <td>0.616889</td>\n",
       "      <td>0.575569</td>\n",
       "      <td>0.041320</td>\n",
       "    </tr>\n",
       "    <tr>\n",
       "      <th>18</th>\n",
       "      <td>19</td>\n",
       "      <td>0.615111</td>\n",
       "      <td>0.565217</td>\n",
       "      <td>0.049894</td>\n",
       "    </tr>\n",
       "    <tr>\n",
       "      <th>19</th>\n",
       "      <td>20</td>\n",
       "      <td>0.622222</td>\n",
       "      <td>0.579710</td>\n",
       "      <td>0.042512</td>\n",
       "    </tr>\n",
       "  </tbody>\n",
       "</table>\n",
       "</div>"
      ],
      "text/plain": [
       "     k  train_accuracy  validate_accuracy  difference\n",
       "0    1        1.000000           0.532091    0.467909\n",
       "1    2        0.737778           0.575569    0.162208\n",
       "2    3        0.749333           0.525880    0.223453\n",
       "3    4        0.688000           0.563147    0.124853\n",
       "4    5        0.693333           0.552795    0.140538\n",
       "5    6        0.666667           0.561077    0.105590\n",
       "6    7        0.683556           0.534161    0.149394\n",
       "7    8        0.664000           0.567288    0.096712\n",
       "8    9        0.677333           0.552795    0.124538\n",
       "9   10        0.656000           0.550725    0.105275\n",
       "10  11        0.665778           0.532091    0.133687\n",
       "11  12        0.654222           0.552795    0.101427\n",
       "12  13        0.651556           0.540373    0.111183\n",
       "13  14        0.633778           0.573499    0.060279\n",
       "14  15        0.653333           0.552795    0.100538\n",
       "15  16        0.630222           0.552795    0.077427\n",
       "16  17        0.630222           0.550725    0.079498\n",
       "17  18        0.616889           0.575569    0.041320\n",
       "18  19        0.615111           0.565217    0.049894\n",
       "19  20        0.622222           0.579710    0.042512"
      ]
     },
     "execution_count": 85,
     "metadata": {},
     "output_type": "execute_result"
    }
   ],
   "source": [
    "metrics = []\n",
    "\n",
    "for k in range(1,21):\n",
    "    knn, y_train_pred, y_val_pred = knn_fit_predict(k, X_train, \n",
    "                                                    y_train, \n",
    "                                                    X_val)\n",
    "    train_acc = knn.score(X_train, y_train)\n",
    "    val_acc = knn.score(X_val, y_val)\n",
    "    \n",
    "    output = {\n",
    "            \"k\": k,\n",
    "            \"train_accuracy\": train_acc,\n",
    "            \"validate_accuracy\": val_acc\n",
    "    }\n",
    "\n",
    "    metrics.append(output)\n",
    "    \n",
    "eval_df = pd.DataFrame(metrics)\n",
    "eval_df['difference'] = eval_df['train_accuracy'] - eval_df['validate_accuracy']\n",
    "\n",
    "eval_df"
   ]
  },
  {
   "cell_type": "code",
   "execution_count": 86,
   "id": "64d4e006-6ed3-4787-b8f5-4b8ad29cb689",
   "metadata": {
    "tags": []
   },
   "outputs": [
    {
     "data": {
      "image/png": "[encoded data removed]",
      "text/plain": [
       "<Figure size 1600x900 with 1 Axes>"
      ]
     },
     "metadata": {},
     "output_type": "display_data"
    }
   ],
   "source": [
    "# plot the data\n",
    "plt.figure(figsize=(16,9))\n",
    "plt.plot(eval_df.k, eval_df.train_accuracy, label='Train Accuracy')\n",
    "plt.plot(eval_df.k, eval_df.validate_accuracy, label='Validate Accuracy')\n",
    "plt.plot(eval_df.k, eval_df.difference, label='Accuracy Difference')\n",
    "plt.ylabel('Accuracy')\n",
    "plt.legend()\n",
    "plt.xticks(np.arange(0,21,1))\n",
    "plt.grid()\n",
    "plt.show()"
   ]
  },
  {
   "cell_type": "code",
   "execution_count": null,
   "id": "1139463c-17b8-4925-9f9a-d72607a7aac5",
   "metadata": {},
   "outputs": [],
   "source": []
  }
 ],
 "metadata": {
  "kernelspec": {
   "display_name": "Python 3 (ipykernel)",
   "language": "python",
   "name": "python3"
  },
  "language_info": {
   "codemirror_mode": {
    "name": "ipython",
    "version": 3
   },
   "file_extension": ".py",
   "mimetype": "text/x-python",
   "name": "python",
   "nbconvert_exporter": "python",
   "pygments_lexer": "ipython3",
   "version": "3.11.4"
  }
 },
 "nbformat": 4,
 "nbformat_minor": 5
}
