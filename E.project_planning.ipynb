{
 "cells": [
  {
   "cell_type": "markdown",
   "id": "31fae06b-5213-4d49-a564-a48036310bc5",
   "metadata": {},
   "source": [
    "# Outline: "
   ]
  },
  {
   "cell_type": "markdown",
   "id": "531c69bf-7893-455d-8d56-f57c8788fd66",
   "metadata": {},
   "source": [
    "1. Step One: Project Plannig: \n",
    "### Target: \n",
    "- The Target is **Potability**. This indicates if the water is safe for human consumption. 1 indicates that the water is potable while 0 indicates that the water is not potable. \n",
    "### Goals and Deliverables: \n",
    "- My goal is to predict id a water is safe for human consumption.\n",
    "- Deliverable: I need to deliver this presentation infront of a body of interviewers or scientists. \n",
    "### Inital Thoughst and Hypothesis: \n",
    "\n",
    "### Create a Trello Board: \n",
    "- Document what those deliverables are and the steps you will take to get there."
   ]
  }
 ],
 "metadata": {
  "kernelspec": {
   "display_name": "Python 3 (ipykernel)",
   "language": "python",
   "name": "python3"
  },
  "language_info": {
   "codemirror_mode": {
    "name": "ipython",
    "version": 3
   },
   "file_extension": ".py",
   "mimetype": "text/x-python",
   "name": "python",
   "nbconvert_exporter": "python",
   "pygments_lexer": "ipython3",
   "version": "3.11.4"
  }
 },
 "nbformat": 4,
 "nbformat_minor": 5
}
