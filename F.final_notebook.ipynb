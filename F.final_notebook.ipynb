{
 "cells": [
  {
   "cell_type": "markdown",
   "id": "078328b8-2ce9-4c39-99ee-9429ac2e7287",
   "metadata": {
    "tags": []
   },
   "source": [
    "# Predicitng Potability\n",
    "By: Nikki de Vries"
   ]
  },
  {
   "cell_type": "markdown",
   "id": "9f015f22-db10-4d92-89b5-1b22bafae5cf",
   "metadata": {},
   "source": [
    "## The Goal: \n",
    "- Find divers of potability based of water quality metrics from 3276 different bodies of water.\n",
    "- Potability is defined as potable water, water that is suitable for drinking and is safe for human consumption."
   ]
  },
  {
   "cell_type": "markdown",
   "id": "556c3e8b-ce9e-401c-be55-230fa9d352da",
   "metadata": {},
   "source": [
    "# Inital Questions: \n",
    "1. Could chloramines be a big influence? They are used to treat water to make it drinkable.\n",
    "2. Could Turbidity be important? How much clarity in the water could be a major impact on drinkable water.\n",
    "3. Could ph be important? Is the water to acidic or too basic? Humans can safley consume water on a ph range of 6.5 to 8.5."
   ]
  },
  {
   "cell_type": "markdown",
   "id": "8b29fed3-7ffc-4201-a261-2ac0ddd8ca99",
   "metadata": {},
   "source": [
    "# Project Outline: \n",
    "1. Data Acquisition: \n",
    "    - Acquire the data from: https://www.kaggle.com/datasets/adityakadiwal/water-potability\n",
    "2. Data Peperations: \n",
    "    - Get an overhead look at the data\n",
    "    - Investigate null values\n",
    "    - Investigate outliers\n",
    "    - Clean up column names\n",
    "3. Data Exploration: \n",
    "    - Analyze Univariate variables\n",
    "    - Analyze Bivariate variables\n",
    "    - Analyze Multivariate variables\n",
    "    - Statistical Testing: \n",
    "        - Chi2\n",
    "        - Spearman's R\n",
    "4. Modeling: \n",
    "    - Decision Tree\n",
    "    - Random Forest\n",
    "    - KNN\n",
    "    - Logistic Regression\n",
    "5. Presentation: \n",
    "    - Create a 5 minute storytelling presentation"
   ]
  },
  {
   "cell_type": "markdown",
   "id": "bb05bb6d-e704-4801-b153-2e7233d6452a",
   "metadata": {},
   "source": [
    "# Data Dictionary"
   ]
  },
  {
   "cell_type": "markdown",
   "id": "affdd764-019f-4fac-aef0-1a4dfad19962",
   "metadata": {},
   "source": [
    "| **Quality Index** | **Detailed Definition** | **Simplified** | **Mesaurement** |  **Safe Range** | \n",
    "|-------------------|-----------------|----------------| ----------------|-------------|\n",
    "|pH | A quantitative measure of the acidity or basicity of an aqueous or other liquid solution | The measure of the acidity or basicity of water | pH | 6.5 to 8.5 |\n",
    "|Hardness | the total calcium and magnesium ion concentration in a water sample | How hard or soft the water is | mg/L <br> **Levels** <br> 0 - 17.1 : Soft <br> 17.1 - 60 : Slightly Hard <br> 60 - 120 : Moderately Hard <br> 120 - 180 : Hard <br> 180+ : Very Hard | 120 - 170 mg/L |\n",
    "| Total dissolved solids (TDS) | Dissovled inoragnic and organic compounds. Can be: Salts, Potassium, Calcium, Sodium, Bicarbonates etc. | How many minerals are in the water | ppm | 500 ppm - 1000 ppm |\n",
    "|Chloramines | Chlorine and Chloramine used to treat water | Disinfectants used to public water systems to treat the water | ppm |Less than 4 mg/L |\n",
    "|Sulfate | Naturally occurring minerals in minerals, soil, and rocks | Large amounts of sulfates can cause laxative effects | mg/L |Less than 250 mg/L |\n",
    "|Conductivity | Measure the ionic process of a solution that enables it to transmit current | Amount of ion concentraions in the water that result in electrial conductivity | μS/cm |Less than 400  μS/cm |\n",
    "|Organic Carbon | (TOC) Total Organic Carbon is the measure of the total amount of carbon in organic compouns in pure water| TOC can come from decaying natural organic mattter | ppm |Less than 3 mg/L | \n",
    "| Trihalomethanes | Formed when natural organic mateials react with chlorine | Chemicals found in water treated with chlorine| μS/cm  | Less than 80 ppm |\n",
    "| Turbidity | Meaure of light penetraion of water impacted by suspened materials | How much supspended materias in the water impacting clarity | NTU |Lower than 5.00 NTU |\n",
    "| Potability | potable water is suitable for drinking | Is the water safe for human consumption | 1 indicates potable, 0 indicates not potable |"
   ]
  },
  {
   "cell_type": "markdown",
   "id": "99592e09-9407-4024-b1af-17e0e8375e92",
   "metadata": {},
   "source": [
    "# Imports: "
   ]
  },
  {
   "cell_type": "code",
   "execution_count": 1,
   "id": "c1b044ea-f1ee-4487-98ff-1ee2e6a1542c",
   "metadata": {
    "tags": []
   },
   "outputs": [],
   "source": [
    "# environmental imports: \n",
    "import wrangle as wr\n",
    "\n",
    "# core imports:\n",
    "import pandas as pd\n",
    "import numpy as np\n",
    "\n",
    "# stats and viz\n",
    "from scipy import stats\n",
    "import matplotlib.pyplot as plt\n",
    "import seaborn as sns\n",
    "\n",
    "# reduce warnings: \n",
    "import warnings\n",
    "warnings.filterwarnings(\"ignore\")\n",
    "\n",
    "# modeling:\n",
    "# for random forest\n",
    "from sklearn.ensemble import RandomForestClassifier\n",
    "import notebook_functions as nf"
   ]
  },
  {
   "cell_type": "markdown",
   "id": "3b6d10a8-68c5-4738-a234-b8a6f97c493d",
   "metadata": {},
   "source": [
    "# Acquire: \n",
    "- Data was imported as a csv from the water quality link and saved into a dataframe."
   ]
  },
  {
   "cell_type": "code",
   "execution_count": 2,
   "id": "4993f3b9-6b9e-4d65-aab9-9dae9111d81d",
   "metadata": {
    "tags": []
   },
   "outputs": [],
   "source": [
    "# using the wrangle acquire water function get the data:\n",
    "df = wr.acquire_water()"
   ]
  },
  {
   "cell_type": "markdown",
   "id": "8918f746-ace4-4027-89af-6ad5980afe91",
   "metadata": {},
   "source": [
    "# Prepare: \n",
    "- Steps taken to clean the data: \n",
    "    - Remove null values:\n",
    "        1. Sulfates: 23%\n",
    "        2. ph: 14%\n",
    "        3. Trihalomethanes: 4%\n",
    "    - For this first iteration through the project I will drop the null values. Based on personal opinion, I do not want to impute values that could potential impact the saftey of drinking water. \n",
    "    - Rename the columns to be lowercase\n",
    "- Feature Engineering: \n",
    "    - Based on exploration, I decided to create new columns for feature ranges that that are safe for human consumption. These ranges are based on informatio from the internet, WHO, and the EPA.\n",
    "    - Split the data into train, validate, test\n",
    "- Preprocessing (after explore): \n",
    "    - Remove the duplucate columns when making dummies"
   ]
  },
  {
   "cell_type": "code",
   "execution_count": 3,
   "id": "8a633df0-2cdc-43ab-a659-8366b6549e47",
   "metadata": {
    "tags": []
   },
   "outputs": [],
   "source": [
    "# using the wranlge prep water functio to prep the data:\n",
    "df = wr.prep_water(df)"
   ]
  },
  {
   "cell_type": "code",
   "execution_count": 4,
   "id": "44b751b6-ebbf-4e49-9b7f-dd966dae5bb7",
   "metadata": {
    "tags": []
   },
   "outputs": [],
   "source": [
    "# using wrangle safe water, create new features: \n",
    "df = wr.safe_water(df)"
   ]
  },
  {
   "cell_type": "code",
   "execution_count": 5,
   "id": "0213edce-d2d1-439b-9720-b65dc668d130",
   "metadata": {
    "tags": []
   },
   "outputs": [],
   "source": [
    "# using wrange create_dummies, make dummies for these features\n",
    "df = wr.create_dummies(df)"
   ]
  },
  {
   "cell_type": "code",
   "execution_count": 6,
   "id": "2a0af34e-aa08-420a-8d6f-e22791c88381",
   "metadata": {
    "tags": []
   },
   "outputs": [],
   "source": [
    "# using wrange split, make train, validate, test\n",
    "train, validate, test = wr.split_water(df)"
   ]
  },
  {
   "cell_type": "markdown",
   "id": "966d9d59-4e31-4006-952f-9fba323c7ba6",
   "metadata": {
    "tags": []
   },
   "source": [
    "# Explore\n",
    "- Phase On: Variables without bins: \n",
    "    - Look at univariate\n",
    "    - Look at bivariate\n",
    "    - Look at Multivarite\n",
    "    - Hypothesis testings\n",
    "- Phase two: New Features based on ranges: \n",
    "    - Look at univaraite\n",
    "    - Look at bivarite\n",
    "    - Look a Multivariate\n",
    "    - Hypothesis testing"
   ]
  },
  {
   "cell_type": "markdown",
   "id": "1a015caa-1d93-46f3-b890-47f160345b45",
   "metadata": {},
   "source": [
    "# 1. Does Potability differ across ph?\n",
    "$H_0$ : There is no difference in the mean potability over ph levels. <br>\n",
    "$H_a$ : There is a difference in the mean potability over ph levels."
   ]
  },
  {
   "cell_type": "code",
   "execution_count": 7,
   "id": "92dab74b-cf36-4dae-8d77-4292662d4a47",
   "metadata": {
    "tags": []
   },
   "outputs": [
    {
     "data": {
      "image/png": "[encoded data removed]",
      "text/plain": [
       "<Figure size 640x480 with 1 Axes>"
      ]
     },
     "metadata": {},
     "output_type": "display_data"
    }
   ],
   "source": [
    "# visualization: \n",
    "sns.barplot(data = train, x = 'potability', y = 'ph' , palette = 'viridis')\n",
    "plt.title('ph averages over potability show no difference');"
   ]
  },
  {
   "cell_type": "code",
   "execution_count": 8,
   "id": "6d066987-a88c-40a9-848d-950f746fd606",
   "metadata": {
    "tags": []
   },
   "outputs": [
    {
     "name": "stdout",
     "output_type": "stream",
     "text": [
      "Mann-Whitneyu test for ph\n",
      "We cannot reject the null hypothesis\n"
     ]
    }
   ],
   "source": [
    "# statistical test: \n",
    "stat, p_val = stats.mannwhitneyu(\n",
    "            train[train.potability == 0]['ph'],\n",
    "            train[train.potability == 1]['ph'])\n",
    "print(f'Mann-Whitneyu test for ph')\n",
    "if p_val < 0.05:\n",
    "     print('We can reject the null hypothesis; the means are different.')\n",
    "else:\n",
    "    print('We cannot reject the null hypothesis')"
   ]
  },
  {
   "cell_type": "markdown",
   "id": "4930c624-5853-44d4-aaef-bd9d7b37bf9b",
   "metadata": {},
   "source": [
    "# 2. Does potability differ across chloramines?\n",
    "$H_0$ : There is no difference in the mean potability over chloramine levels. <br>\n",
    "$H_a$ : There is a difference in the mean potability over chloramine levels."
   ]
  },
  {
   "cell_type": "code",
   "execution_count": 9,
   "id": "d71b974f-d5a8-469b-8480-a1385300d06b",
   "metadata": {
    "tags": []
   },
   "outputs": [
    {
     "data": {
      "image/png": "[encoded data removed]",
      "text/plain": [
       "<Figure size 640x480 with 1 Axes>"
      ]
     },
     "metadata": {},
     "output_type": "display_data"
    }
   ],
   "source": [
    "# visualization: \n",
    "sns.barplot(data = train, x = 'potability', y = 'chloramines' , palette = 'viridis')\n",
    "plt.title('There may be slighlty higher average of chloramines for potable water');"
   ]
  },
  {
   "cell_type": "code",
   "execution_count": 10,
   "id": "05dbf6b9-01a5-49a2-acb4-a19cbd13705c",
   "metadata": {
    "tags": []
   },
   "outputs": [
    {
     "name": "stdout",
     "output_type": "stream",
     "text": [
      "Mann-Whitneyu test for chloramines\n",
      "We cannot reject the null hypothesis\n"
     ]
    }
   ],
   "source": [
    "# statistical test: \n",
    "stat, p_val = stats.mannwhitneyu(\n",
    "            train[train.potability == 0]['chloramines'],\n",
    "            train[train.potability == 1]['chloramines'])\n",
    "print(f'Mann-Whitneyu test for chloramines')\n",
    "if p_val < 0.05:\n",
    "     print('We can reject the null hypothesis; the means are different.')\n",
    "else:\n",
    "    print('We cannot reject the null hypothesis')"
   ]
  },
  {
   "cell_type": "markdown",
   "id": "46668ce2-484a-46f9-ac12-f6506938ae4c",
   "metadata": {},
   "source": [
    "# 3. If we organize ph levels by ranges that are safe for humans does it impact potability?\n",
    "$H_0$ : ph_range and potability are independent of each other. <br>\n",
    "$H_a$ : ph_range and potability are dependent on each other."
   ]
  },
  {
   "cell_type": "code",
   "execution_count": 11,
   "id": "3b4eec17-978c-439f-8d4f-d1c286011c15",
   "metadata": {
    "tags": []
   },
   "outputs": [],
   "source": [
    "# variables\n",
    "null_hypothesis = 'ph_range and potability are independent of each other'\n",
    "alternative_hypothesis = 'ph_range and potability are dependent on each other'"
   ]
  },
  {
   "cell_type": "code",
   "execution_count": 12,
   "id": "27fa6648-f71c-4ec6-9376-736b70c623bf",
   "metadata": {
    "tags": []
   },
   "outputs": [
    {
     "data": {
      "image/png": "[encoded data removed]",
      "text/plain": [
       "<Figure size 800x500 with 1 Axes>"
      ]
     },
     "metadata": {},
     "output_type": "display_data"
    }
   ],
   "source": [
    "# visualization\n",
    "plt.figure(figsize=(8,5))\n",
    "sns.barplot(data = train, x = train.ph_range, y = 'potability', palette = 'viridis')\n",
    "plt.title('Potability vs ph_range')\n",
    "overall_rate = train['potability'].mean()\n",
    "plt.axhline(overall_rate, ls = '--', color = 'black')\n",
    "plt.show()"
   ]
  },
  {
   "cell_type": "code",
   "execution_count": 13,
   "id": "cf505c43-96ce-47e0-b9cb-fb261eeaddec",
   "metadata": {
    "tags": []
   },
   "outputs": [
    {
     "name": "stdout",
     "output_type": "stream",
     "text": [
      "We reject the null hypothesis: ph_range and potability are independent of each other\n",
      "Therefore: ph_range and potability are dependent on each other\n"
     ]
    }
   ],
   "source": [
    "# Chi test: \n",
    "observed = pd.crosstab(train.ph_range, train['potability'])\n",
    "\n",
    "chi2, p, degf, expected = stats.chi2_contingency(observed)\n",
    "\n",
    "alpha = 0.05\n",
    "if p < alpha:\n",
    "    print(f\"We reject the null hypothesis: {null_hypothesis}\")\n",
    "    print(f\"Therefore: {alternative_hypothesis}\")\n",
    "else:\n",
    "    print(f\"We fail to reject the null, therefore: {null_hypothesis}\")"
   ]
  },
  {
   "cell_type": "markdown",
   "id": "84fe5440-b686-4db2-9f04-c11901ba7fe2",
   "metadata": {},
   "source": [
    "# 4. If we organize hardness by a water hardness scale, does it impact potability?\n",
    "$H_0$ : hardnesss_range and potability are independent of each other. <br>\n",
    "$H_a$ : hardness_range and potability are dependent on each other."
   ]
  },
  {
   "cell_type": "code",
   "execution_count": 14,
   "id": "520d8579-8fff-4ad7-b2dd-ba1297884740",
   "metadata": {
    "tags": []
   },
   "outputs": [],
   "source": [
    "# variables: \n",
    "null_hypothesis = 'hardness_range and potability are independent of each other'\n",
    "alternative_hypothesis = 'hardness_range and potability are dependent on each other'"
   ]
  },
  {
   "cell_type": "code",
   "execution_count": 15,
   "id": "7ada446a-7b7c-499f-ba2b-84f3cb243136",
   "metadata": {
    "tags": []
   },
   "outputs": [
    {
     "data": {
      "image/png": "[encoded data removed]",
      "text/plain": [
       "<Figure size 800x500 with 1 Axes>"
      ]
     },
     "metadata": {},
     "output_type": "display_data"
    }
   ],
   "source": [
    "# visualization: \n",
    "plt.figure(figsize=(8,5))\n",
    "sns.barplot(data = train, x = train.hardness_range, y = 'potability', palette = 'viridis')\n",
    "plt.title('Potability vs hardness_range')\n",
    "overall_rate = train['potability'].mean()\n",
    "plt.axhline(overall_rate, ls = '--', color = 'black')\n",
    "plt.show()"
   ]
  },
  {
   "cell_type": "code",
   "execution_count": 16,
   "id": "183bd8c9-1834-44e1-be60-635e94fca921",
   "metadata": {
    "tags": []
   },
   "outputs": [
    {
     "name": "stdout",
     "output_type": "stream",
     "text": [
      "We fail to reject the null, therefore: hardness_range and potability are independent of each other\n"
     ]
    }
   ],
   "source": [
    "# Chi test: \n",
    "observed = pd.crosstab(train.hardness_range, train['potability'])\n",
    "\n",
    "chi2, p, degf, expected = stats.chi2_contingency(observed)\n",
    "\n",
    "alpha = 0.05\n",
    "if p < alpha:\n",
    "    print(f\"We reject the null hypothesis: {null_hypothesis}\")\n",
    "    print(f\"Therefore: {alternative_hypothesis}\")\n",
    "else:\n",
    "    print(f\"We fail to reject the null, therefore: {null_hypothesis}\")"
   ]
  },
  {
   "cell_type": "markdown",
   "id": "341a1ba3-8052-482d-8384-349eeadf7b3c",
   "metadata": {},
   "source": [
    "# Explore Summary: \n",
    "A more detailed summary of the summary is listed on the readme. <br>\n",
    "1. <ins>Phase one:</ins> Exploring the features without feature engineering. \n",
    "\n",
    "\n",
    "    - Single features on their own do not impact portability. After completing the statistical test comparison of means, no feature was statistically significant, and the null hypothesis could not be rejected.\n",
    "    \n",
    "    \n",
    "    - 59 percent of observations are not potable or safe to drink. \n",
    "    \n",
    "2. <ins>Phase two:</ins> Exploring the features organized in safe ranges for human consumption.\n",
    "\n",
    "\n",
    "    - To explore the features more to find what could potentially drive portability, I binned features on safe levels for human consumption. These levels were chosen based on the documentation provided by the data source, the WHO, the EPA, and online sources. \n",
    "    \n",
    "    \n",
    "    - Once the features had been binned, I ran statistical tests, $Chi^2$, to find if the potability was dependent on these new features. One feature, the ph range, did reject the null hypothesis. \n",
    "    \n",
    "    \n",
    "3. <ins>Machine Learning Selection:</ins> Select K Best, RFE, and Sequential Feature Selector:\n",
    "\n",
    "\n",
    "    - Due to not finding statistical significance for features on their own, I inquired as to what might be found by machine learning selection. I used Select K best, RFE, and Sequential Feature selector. \n",
    "    \n",
    "    \n",
    "    - Phase one features that were selected were: ph, hardness, chloramines, and conductivity\n",
    "        \n",
    "    \n",
    "    \n",
    "    - Phase two features that were selected were: ph, hardness, ph_range_safe, hardness_range_moderately_hard"
   ]
  },
  {
   "cell_type": "markdown",
   "id": "2d65f573-e151-4a92-bb22-e6a5c158af88",
   "metadata": {
    "tags": []
   },
   "source": [
    "# Modeling: \n",
    " - Machine learning models that were used: \n",
    "     - Decision Tree\n",
    "     - Random Forest\n",
    "     - KNN\n",
    "     - Logistic Regression\n",
    "- Two tests were run with the models: Using the best features or using all the features. \n",
    "\n",
    "\n",
    "    - Set features are the following: \n",
    "        - ph\n",
    "        - hardness\n",
    "        - chloramines\n",
    "        - conductivity\n",
    "        - ph_range_safe\n",
    "        - hardness_range_moderately_hard\n",
    "        - hardness_range_hard\n",
    "                \n",
    "                         \n",
    "- I ran mulitple models for each machine learning model comparing set features to all features. <br>\n",
    "\n",
    "**Best Preforming:**\n",
    "- Random Forest with all Features"
   ]
  },
  {
   "cell_type": "code",
   "execution_count": 17,
   "id": "cb262b47-5c91-43a0-8cf1-ffcf831d50db",
   "metadata": {
    "tags": []
   },
   "outputs": [],
   "source": [
    "# prepocessing: using wrangle drop columns to remove duplicate columns for modeling\n",
    "train, validate, test = wr.drop_columns(train, validate, test)"
   ]
  },
  {
   "cell_type": "code",
   "execution_count": 18,
   "id": "5321708c-5983-45b5-8d8c-c2cb2219772a",
   "metadata": {
    "tags": []
   },
   "outputs": [],
   "source": [
    "# create our variable:\n",
    "set_features = ['ph','hardness','chloramines','conductivity','ph_range_safe',\n",
    "                'hardness_range_moderately_hard', 'hardness_range_hard'] \n",
    "all_features = ['ph', 'hardness', 'solids', 'chloramines', 'sulfate', 'conductivity',\n",
    "       'organic_carbon', 'trihalomethanes', 'turbidity',\n",
    "       'ph_range_safe', 'ph_range_basic', 'hardness_range_slightly_hard',\n",
    "       'hardness_range_moderately_hard', 'hardness_range_hard',\n",
    "       'hardness_range_very_hard', 'solids_range_good', 'solids_range_fair',\n",
    "       'solids_range_poor', 'solids_range_unacceptable',\n",
    "       'chloramines_range_high', 'sulfate_range_high',\n",
    "       'conductivity_rage_high', 'organic_car_range_high',\n",
    "       'trihalomethanes_range_high', 'turbidity_range_high']"
   ]
  },
  {
   "cell_type": "markdown",
   "id": "73fc6cdd-f3ac-4acc-b150-51cd9590d3da",
   "metadata": {},
   "source": [
    "# Random Forest with all Features: "
   ]
  },
  {
   "cell_type": "code",
   "execution_count": 19,
   "id": "fe11e7cd-4058-4ea1-9af0-5967b1b527c5",
   "metadata": {
    "tags": []
   },
   "outputs": [],
   "source": [
    "# Create X and Y\n",
    "X_train = train[all_features]\n",
    "y_train = train.potability\n",
    "\n",
    "X_val = validate[all_features]\n",
    "y_val = validate.potability\n",
    "\n",
    "X_test = test[all_features]\n",
    "y_test = test.potability"
   ]
  },
  {
   "cell_type": "code",
   "execution_count": 20,
   "id": "554c25a8-1fe5-4f59-af04-df32ca6151f7",
   "metadata": {
    "tags": []
   },
   "outputs": [
    {
     "name": "stdout",
     "output_type": "stream",
     "text": [
      "Baseline accuracy: 0.6\n"
     ]
    }
   ],
   "source": [
    "# lets get our baseline: \n",
    "baseline = y_train.mode()\n",
    "matches_baseline_prediction = y_train == 0\n",
    "baseline_accuracy = matches_baseline_prediction.mean()\n",
    "print(f\"Baseline accuracy: {round(baseline_accuracy, 2)}\")"
   ]
  },
  {
   "cell_type": "code",
   "execution_count": 21,
   "id": "6195c51a-536c-4a5a-8e87-f589bd812b49",
   "metadata": {
    "tags": []
   },
   "outputs": [
    {
     "data": {
      "text/html": [
       "<div>\n",
       "<style scoped>\n",
       "    .dataframe tbody tr th:only-of-type {\n",
       "        vertical-align: middle;\n",
       "    }\n",
       "\n",
       "    .dataframe tbody tr th {\n",
       "        vertical-align: top;\n",
       "    }\n",
       "\n",
       "    .dataframe thead th {\n",
       "        text-align: right;\n",
       "    }\n",
       "</style>\n",
       "<table border=\"1\" class=\"dataframe\">\n",
       "  <thead>\n",
       "    <tr style=\"text-align: right;\">\n",
       "      <th></th>\n",
       "      <th>max_depth</th>\n",
       "      <th>train_accuracy</th>\n",
       "      <th>validate_accuracy</th>\n",
       "      <th>difference</th>\n",
       "    </tr>\n",
       "  </thead>\n",
       "  <tbody>\n",
       "    <tr>\n",
       "      <th>0</th>\n",
       "      <td>4</td>\n",
       "      <td>0.679111</td>\n",
       "      <td>0.6294</td>\n",
       "      <td>0.049712</td>\n",
       "    </tr>\n",
       "  </tbody>\n",
       "</table>\n",
       "</div>"
      ],
      "text/plain": [
       "   max_depth  train_accuracy  validate_accuracy  difference\n",
       "0          4        0.679111             0.6294    0.049712"
      ]
     },
     "execution_count": 21,
     "metadata": {},
     "output_type": "execute_result"
    }
   ],
   "source": [
    "# run the model on a depth of 4\n",
    "nf.evaluate_random_forest(X_train, y_train, X_val, y_val)"
   ]
  },
  {
   "cell_type": "markdown",
   "id": "deac0195-beed-4497-ae32-ffba93e98297",
   "metadata": {
    "tags": []
   },
   "source": [
    "# Random Forest with set Features: "
   ]
  },
  {
   "cell_type": "code",
   "execution_count": 22,
   "id": "d4ad9569-4b17-494c-899c-5cafd4a84777",
   "metadata": {
    "tags": []
   },
   "outputs": [],
   "source": [
    "# Create X and Y\n",
    "X_train = train[set_features]\n",
    "y_train = train.potability\n",
    "\n",
    "X_val = validate[set_features]\n",
    "y_val = validate.potability\n",
    "\n",
    "X_test = test[set_features]\n",
    "y_test = test.potability"
   ]
  },
  {
   "cell_type": "code",
   "execution_count": 23,
   "id": "ac311419-70aa-4684-aa82-cbaccfaa0d5e",
   "metadata": {
    "tags": []
   },
   "outputs": [
    {
     "name": "stdout",
     "output_type": "stream",
     "text": [
      "Baseline accuracy: 0.6\n"
     ]
    }
   ],
   "source": [
    "# lets get our baseline: \n",
    "baseline = y_train.mode()\n",
    "matches_baseline_prediction = y_train == 0\n",
    "baseline_accuracy = matches_baseline_prediction.mean()\n",
    "print(f\"Baseline accuracy: {round(baseline_accuracy, 2)}\")"
   ]
  },
  {
   "cell_type": "code",
   "execution_count": 24,
   "id": "3bdf266a-3e51-4e82-b49a-13eca881149e",
   "metadata": {
    "tags": []
   },
   "outputs": [
    {
     "data": {
      "text/html": [
       "<div>\n",
       "<style scoped>\n",
       "    .dataframe tbody tr th:only-of-type {\n",
       "        vertical-align: middle;\n",
       "    }\n",
       "\n",
       "    .dataframe tbody tr th {\n",
       "        vertical-align: top;\n",
       "    }\n",
       "\n",
       "    .dataframe thead th {\n",
       "        text-align: right;\n",
       "    }\n",
       "</style>\n",
       "<table border=\"1\" class=\"dataframe\">\n",
       "  <thead>\n",
       "    <tr style=\"text-align: right;\">\n",
       "      <th></th>\n",
       "      <th>max_depth</th>\n",
       "      <th>train_accuracy</th>\n",
       "      <th>validate_accuracy</th>\n",
       "      <th>difference</th>\n",
       "    </tr>\n",
       "  </thead>\n",
       "  <tbody>\n",
       "    <tr>\n",
       "      <th>0</th>\n",
       "      <td>3</td>\n",
       "      <td>0.631111</td>\n",
       "      <td>0.604555</td>\n",
       "      <td>0.026556</td>\n",
       "    </tr>\n",
       "  </tbody>\n",
       "</table>\n",
       "</div>"
      ],
      "text/plain": [
       "   max_depth  train_accuracy  validate_accuracy  difference\n",
       "0          3        0.631111           0.604555    0.026556"
      ]
     },
     "execution_count": 24,
     "metadata": {},
     "output_type": "execute_result"
    }
   ],
   "source": [
    "# run the model on a depth of 3\n",
    "nf.evaluate_random_forest(X_train, y_train, X_val, y_val, max_depth = 3)"
   ]
  },
  {
   "cell_type": "markdown",
   "id": "6ad6e453-d7f1-4794-84e6-e8c79b3d419a",
   "metadata": {},
   "source": [
    "### How did our Models Do?\n",
    "Models were compared on thier train and validate accuracy, as well as the difference between these two scores. I used accuracy beacuse the predictions revolve around safe or unsafe drinking water. If there are any mistakes it could lead to harm.\n",
    "\n",
    "\n",
    "Legend: <br>\n",
    "The table bellow shows the results of the modeling tests: <br>\n",
    "- DT(#): Indicates the depth of the decision tree\n",
    " - RF(#): Indicates the depth of the random forest\n",
    " - LR(#): Indicates the C of logistic regression\n",
    " - KNN(#): Indicates the number of neighbors\n",
    "<center> Basline Accuracy = 0.60 <center>\n",
    "    \n",
    "| **Model** | **Train Accuracy** | **Validate Accuracy** |  **Difference** | \n",
    "| ------------|-----------------|-----------------| ------| \n",
    "| DT(3): All Features | 0.643 | 0.612 | 0.030 |\n",
    "| DT(3): Select Features | 0.631 | 0.590 | 0.041 |\n",
    "| RF(4) : All Features | 0.679 | 0.629 | 0.049 |\n",
    "| RF(3) : Select Features | 0.631 | 0.604 | 0.026 |\n",
    "| LR(0.0491) : All Features | 0.596 | 0.596 | 0.000 |\n",
    "| LR(0.0491) : Select Features | 0.608 | 0.596 | 0.011 | \n",
    "| KNN(19) : All Features | 0.615 | 0.565 | 0.049 |\n",
    "| KNN(20): Select Features | 0.630 | 0.546 | 0.080 |\n"
   ]
  },
  {
   "cell_type": "markdown",
   "id": "810b33b7-6a04-4ddd-a8af-f04fab658aef",
   "metadata": {},
   "source": [
    "# Lets run it on test: "
   ]
  },
  {
   "cell_type": "code",
   "execution_count": 25,
   "id": "68653b14-97e5-4104-972f-31f2f1b9d830",
   "metadata": {
    "tags": []
   },
   "outputs": [],
   "source": [
    "# Create X and Y\n",
    "X_train = train[all_features]\n",
    "y_train = train.potability\n",
    "\n",
    "X_val = validate[all_features]\n",
    "y_val = validate.potability\n",
    "\n",
    "X_test = test[all_features]\n",
    "y_test = test.potability"
   ]
  },
  {
   "cell_type": "code",
   "execution_count": 26,
   "id": "be536729-7112-4233-8f79-d31274e15a40",
   "metadata": {
    "tags": []
   },
   "outputs": [
    {
     "data": {
      "text/html": [
       "<div>\n",
       "<style scoped>\n",
       "    .dataframe tbody tr th:only-of-type {\n",
       "        vertical-align: middle;\n",
       "    }\n",
       "\n",
       "    .dataframe tbody tr th {\n",
       "        vertical-align: top;\n",
       "    }\n",
       "\n",
       "    .dataframe thead th {\n",
       "        text-align: right;\n",
       "    }\n",
       "</style>\n",
       "<table border=\"1\" class=\"dataframe\">\n",
       "  <thead>\n",
       "    <tr style=\"text-align: right;\">\n",
       "      <th></th>\n",
       "      <th>max_depth</th>\n",
       "      <th>train_accuracy</th>\n",
       "      <th>validate_accuracy</th>\n",
       "      <th>test_accuracy</th>\n",
       "    </tr>\n",
       "  </thead>\n",
       "  <tbody>\n",
       "    <tr>\n",
       "      <th>0</th>\n",
       "      <td>4</td>\n",
       "      <td>0.679111</td>\n",
       "      <td>0.6294</td>\n",
       "      <td>0.617866</td>\n",
       "    </tr>\n",
       "  </tbody>\n",
       "</table>\n",
       "</div>"
      ],
      "text/plain": [
       "   max_depth  train_accuracy  validate_accuracy  test_accuracy\n",
       "0          4        0.679111             0.6294       0.617866"
      ]
     },
     "execution_count": 26,
     "metadata": {},
     "output_type": "execute_result"
    }
   ],
   "source": [
    "nf.test_random_forest(X_train, y_train, X_val, y_val, X_test, y_test)"
   ]
  },
  {
   "cell_type": "markdown",
   "id": "279d1c9f-1383-4f81-9d22-1cb64f640829",
   "metadata": {},
   "source": [
    "# Conclusion: "
   ]
  },
  {
   "cell_type": "markdown",
   "id": "6c673729-8645-4ae9-a03b-b1a3968b78e2",
   "metadata": {},
   "source": [
    "1. Summary:\n",
    "    - Without feature engineering, each feature on its own does not provide much information about what causes potability. This raises concerns about potential bias in the data. Some features that were thought to drive potability, based on background knowledge, were found not to be drivers in reality.\n",
    "    - This study highlights that scientists or regulators evaluating water potability should not rely solely on prior knowledge or individual features/metrics. Water potability cannot be assumed based on these factors alone.\n",
    "    - I would not recommend using this machine learning model to predict water potability until a higher accuracy can be achieved with new or better data.\n",
    "\n",
    "2. Recommendations:\n",
    "    - When analyzing bodies of water to determine potability, do not rely on individual features alone. They do not appear to be reliable indicators of water quality. If these features were used as predictors, they could lead to inaccurate predictions and unsafe drinking water.\n",
    "    - Analyze all features based on recommended safe levels proposed by the World Health Organization (WHO) or the Environmental Protection Agency (EPA). Do not rely on a single feature, such as pH, as it could lead to inaccurate predictions.\n",
    "\n",
    "3. Next Steps:\n",
    "    - I would like to apply these machine learning methods to more water quality datasets to identify clearer drivers of water quality.\n",
    "    - I have examined the data three times in search of drivers. I would like to spend more time on a new dataset to identify any drivers present.\n",
    "    - I am interested in examining marine biology data, specifically water quality around coral, to determine if water quality is causing harm."
   ]
  }
 ],
 "metadata": {
  "kernelspec": {
   "display_name": "Python 3 (ipykernel)",
   "language": "python",
   "name": "python3"
  },
  "language_info": {
   "codemirror_mode": {
    "name": "ipython",
    "version": 3
   },
   "file_extension": ".py",
   "mimetype": "text/x-python",
   "name": "python",
   "nbconvert_exporter": "python",
   "pygments_lexer": "ipython3",
   "version": "3.11.4"
  }
 },
 "nbformat": 4,
 "nbformat_minor": 5
}
