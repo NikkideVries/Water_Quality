{
 "cells": [
  {
   "cell_type": "markdown",
   "id": "09637b23-f22f-46b8-9651-876704d2ba7b",
   "metadata": {},
   "source": [
    "# Preapre: "
   ]
  },
  {
   "cell_type": "code",
   "execution_count": 1,
   "id": "c9d79a72-250a-49a5-9aee-a9c95e5c5abc",
   "metadata": {
    "tags": []
   },
   "outputs": [],
   "source": [
    "# imports: \n",
    "import pandas as pd\n",
    "import numpy as np"
   ]
  },
  {
   "cell_type": "code",
   "execution_count": 3,
   "id": "8e213916-6722-4bea-aac8-68f9c1aadb5e",
   "metadata": {
    "tags": []
   },
   "outputs": [],
   "source": [
    "# get the data frame\n",
    "df = pd.read_csv('water_potability.csv')"
   ]
  },
  {
   "cell_type": "code",
   "execution_count": 4,
   "id": "3ae492bb-cc93-4119-a103-074978b0f651",
   "metadata": {
    "tags": []
   },
   "outputs": [
    {
     "name": "stdout",
     "output_type": "stream",
     "text": [
      "<class 'pandas.core.frame.DataFrame'>\n",
      "RangeIndex: 3276 entries, 0 to 3275\n",
      "Data columns (total 10 columns):\n",
      " #   Column           Non-Null Count  Dtype  \n",
      "---  ------           --------------  -----  \n",
      " 0   ph               2785 non-null   float64\n",
      " 1   Hardness         3276 non-null   float64\n",
      " 2   Solids           3276 non-null   float64\n",
      " 3   Chloramines      3276 non-null   float64\n",
      " 4   Sulfate          2495 non-null   float64\n",
      " 5   Conductivity     3276 non-null   float64\n",
      " 6   Organic_carbon   3276 non-null   float64\n",
      " 7   Trihalomethanes  3114 non-null   float64\n",
      " 8   Turbidity        3276 non-null   float64\n",
      " 9   Potability       3276 non-null   int64  \n",
      "dtypes: float64(9), int64(1)\n",
      "memory usage: 256.1 KB\n"
     ]
    }
   ],
   "source": [
    "#look at the data: \n",
    "df.info()"
   ]
  },
  {
   "cell_type": "markdown",
   "id": "600b3e52-d0c0-4c18-ad45-bdd9ef948431",
   "metadata": {},
   "source": [
    "Inital Takeaways: \n",
    "- Need to correct the names to be lower case\n",
    "- There are null values in the data\n",
    "- Data types are are all the same"
   ]
  },
  {
   "cell_type": "code",
   "execution_count": 5,
   "id": "04689503-cf14-4b84-8850-72f3305c5536",
   "metadata": {
    "tags": []
   },
   "outputs": [
    {
     "data": {
      "text/plain": [
       "Sulfate            781\n",
       "ph                 491\n",
       "Trihalomethanes    162\n",
       "Hardness             0\n",
       "Solids               0\n",
       "Chloramines          0\n",
       "Conductivity         0\n",
       "Organic_carbon       0\n",
       "Turbidity            0\n",
       "Potability           0\n",
       "dtype: int64"
      ]
     },
     "execution_count": 5,
     "metadata": {},
     "output_type": "execute_result"
    }
   ],
   "source": [
    "# How many null are there in the data? \n",
    "df.isnull().sum().sort_values(ascending = False)"
   ]
  },
  {
   "cell_type": "code",
   "execution_count": 13,
   "id": "72a3fe12-1f4e-4e3f-b7f9-c9fdadd45ca9",
   "metadata": {
    "tags": []
   },
   "outputs": [],
   "source": [
    "# function to create a datatable of nulls and the percentage that is missing\n",
    "def nulls_by_col(df):\n",
    "    num_missing = df.isnull().sum()\n",
    "    rows = df.shape[0]\n",
    "    pct_missing = (num_missing / rows) \n",
    "    cols_missing = pd.DataFrame({'number_missing_rows': num_missing, 'percent_rows_missing': pct_missing})\n",
    "    return cols_missing"
   ]
  },
  {
   "cell_type": "code",
   "execution_count": 14,
   "id": "0a0d17f3-79e8-4f85-8b84-86996f4b51ba",
   "metadata": {
    "tags": []
   },
   "outputs": [
    {
     "data": {
      "text/html": [
       "<div>\n",
       "<style scoped>\n",
       "    .dataframe tbody tr th:only-of-type {\n",
       "        vertical-align: middle;\n",
       "    }\n",
       "\n",
       "    .dataframe tbody tr th {\n",
       "        vertical-align: top;\n",
       "    }\n",
       "\n",
       "    .dataframe thead th {\n",
       "        text-align: right;\n",
       "    }\n",
       "</style>\n",
       "<table border=\"1\" class=\"dataframe\">\n",
       "  <thead>\n",
       "    <tr style=\"text-align: right;\">\n",
       "      <th></th>\n",
       "      <th>number_missing_rows</th>\n",
       "      <th>percent_rows_missing</th>\n",
       "    </tr>\n",
       "  </thead>\n",
       "  <tbody>\n",
       "    <tr>\n",
       "      <th>Sulfate</th>\n",
       "      <td>781</td>\n",
       "      <td>0.238400</td>\n",
       "    </tr>\n",
       "    <tr>\n",
       "      <th>ph</th>\n",
       "      <td>491</td>\n",
       "      <td>0.149878</td>\n",
       "    </tr>\n",
       "    <tr>\n",
       "      <th>Trihalomethanes</th>\n",
       "      <td>162</td>\n",
       "      <td>0.049451</td>\n",
       "    </tr>\n",
       "    <tr>\n",
       "      <th>Hardness</th>\n",
       "      <td>0</td>\n",
       "      <td>0.000000</td>\n",
       "    </tr>\n",
       "    <tr>\n",
       "      <th>Solids</th>\n",
       "      <td>0</td>\n",
       "      <td>0.000000</td>\n",
       "    </tr>\n",
       "    <tr>\n",
       "      <th>Chloramines</th>\n",
       "      <td>0</td>\n",
       "      <td>0.000000</td>\n",
       "    </tr>\n",
       "    <tr>\n",
       "      <th>Conductivity</th>\n",
       "      <td>0</td>\n",
       "      <td>0.000000</td>\n",
       "    </tr>\n",
       "    <tr>\n",
       "      <th>Organic_carbon</th>\n",
       "      <td>0</td>\n",
       "      <td>0.000000</td>\n",
       "    </tr>\n",
       "    <tr>\n",
       "      <th>Turbidity</th>\n",
       "      <td>0</td>\n",
       "      <td>0.000000</td>\n",
       "    </tr>\n",
       "    <tr>\n",
       "      <th>Potability</th>\n",
       "      <td>0</td>\n",
       "      <td>0.000000</td>\n",
       "    </tr>\n",
       "  </tbody>\n",
       "</table>\n",
       "</div>"
      ],
      "text/plain": [
       "                 number_missing_rows  percent_rows_missing\n",
       "Sulfate                          781              0.238400\n",
       "ph                               491              0.149878\n",
       "Trihalomethanes                  162              0.049451\n",
       "Hardness                           0              0.000000\n",
       "Solids                             0              0.000000\n",
       "Chloramines                        0              0.000000\n",
       "Conductivity                       0              0.000000\n",
       "Organic_carbon                     0              0.000000\n",
       "Turbidity                          0              0.000000\n",
       "Potability                         0              0.000000"
      ]
     },
     "execution_count": 14,
     "metadata": {},
     "output_type": "execute_result"
    }
   ],
   "source": [
    "# how big of a percent is this? \n",
    "nulls = nulls_by_col(df)\n",
    "nulls.sort_values(by = 'percent_rows_missing', ascending = False)"
   ]
  },
  {
   "cell_type": "code",
   "execution_count": null,
   "id": "941931c4-2a8b-4e89-a7db-761bc10c8764",
   "metadata": {},
   "outputs": [],
   "source": []
  }
 ],
 "metadata": {
  "kernelspec": {
   "display_name": "Python 3 (ipykernel)",
   "language": "python",
   "name": "python3"
  },
  "language_info": {
   "codemirror_mode": {
    "name": "ipython",
    "version": 3
   },
   "file_extension": ".py",
   "mimetype": "text/x-python",
   "name": "python",
   "nbconvert_exporter": "python",
   "pygments_lexer": "ipython3",
   "version": "3.11.4"
  }
 },
 "nbformat": 4,
 "nbformat_minor": 5
}
